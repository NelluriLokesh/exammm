{
 "cells": [
  {
   "cell_type": "markdown",
   "metadata": {},
   "source": [
    "## Program 1"
   ]
  },
  {
   "cell_type": "markdown",
   "metadata": {},
   "source": [
    "You are competing in a basketball contest. In this contest the score for each successful shot depends on both the distance from the basket and the player's position. The ball is shot N times, successfully. You are given an array A containing the distance of a player from basket for N shots. The 2 index of array represents the position of the player. Score is calculated by multiplying the position with the distance from the basket.\n",
    "\n",
    "Your task is to find and return an integer value, representing the maximum possible score you can achieve by choosing a contiguous subarray of size K from the given array.\n",
    "\n",
    "\n",
    "Note:\n",
    "\n",
    "* A subarray is a contiguous part of array.\n",
    "\n",
    "* Assume 1 based indexing.\n",
    "\n",
    "* The array contains both negative and positive values.\n",
    "\n",
    "* Assume the player is standing on a cartesian plane.\n",
    "\n",
    "Input Format\n",
    "\n",
    "- input1: An integer value N representing the number of shots made by the player\n",
    "- input2 : An integer K representing the size of subarray\n",
    "- input3 : An array of integers\n"
   ]
  },
  {
   "cell_type": "code",
   "execution_count": null,
   "metadata": {},
   "outputs": [
    {
     "data": {
      "text/plain": [
       "17"
      ]
     },
     "execution_count": 1,
     "metadata": {},
     "output_type": "execute_result"
    }
   ],
   "source": [
    "def sub_array(n,k,array):\n",
    "  final_result = 0\n",
    "  for i in range(n-k+1):\n",
    "    subarray = array[i:i+k]\n",
    "    sums = 0\n",
    "    for ind in range(1,k+1):\n",
    "      sums += subarray[ind-1] * ind\n",
    "    if final_result < sums:\n",
    "      final_result = sums\n",
    "  return final_result \n",
    "\n",
    "\n",
    "\n",
    "N = 5\n",
    "k = 2\n",
    "array = [9,2,5,3,7]\n",
    "sub_array(N,k,array)\n",
    "\n"
   ]
  },
  {
   "cell_type": "markdown",
   "metadata": {},
   "source": [
    "## Program 2"
   ]
  },
  {
   "cell_type": "markdown",
   "metadata": {},
   "source": [
    "Dogs age : \n",
    "\n",
    "dogs age * human age.... 1 year dog year = 7 year of the human\n",
    "\n",
    "age = 4\n",
    "\n",
    "solving = 4 * 7 : 28 "
   ]
  },
  {
   "cell_type": "code",
   "execution_count": 1,
   "metadata": {},
   "outputs": [
    {
     "name": "stdout",
     "output_type": "stream",
     "text": [
      "28\n"
     ]
    }
   ],
   "source": [
    "def age_calculator(age):\n",
    "  return age*7\n",
    "age = int(input(\"dog age : \"))\n",
    "print(age_calculator(age))"
   ]
  },
  {
   "cell_type": "markdown",
   "metadata": {},
   "source": [
    "## Program 3\n",
    "You are given an integer array of size N, representing jars of chocolates. Three students A, B, and C respectively, will pick chocolates one by one from each chocolate jar, till the jar is empty, and then repeat the same with the rest of the jars. Your task is to fine and return an integer value representing the total number of chocolates that student A will have, after all the chocolates have been picked from all the jars.\n",
    "\n",
    "Note: Once a jar is done A will start taking the chocolates from the new jar.\n",
    "\n",
    "Input Format:\n",
    "\n",
    "input1: An integer array representing the quantity of chocolates in each jar.\n",
    "\n",
    "input2: An integer value N representing the number of jars.\n",
    "\n",
    "Output Format:\n",
    "Return an integer value representing the total number of chocolates that"
   ]
  },
  {
   "cell_type": "markdown",
   "metadata": {},
   "source": []
  },
  {
   "cell_type": "code",
   "execution_count": 6,
   "metadata": {},
   "outputs": [
    {
     "data": {
      "text/plain": [
       "21"
      ]
     },
     "execution_count": 6,
     "metadata": {},
     "output_type": "execute_result"
    }
   ],
   "source": [
    "\n",
    "def total_chocolates_if_A(n,array):\n",
    "  total_a = 0\n",
    "  for jar in array:\n",
    "    while jar > 0:\n",
    "      if jar > 0:\n",
    "        total_a += 1\n",
    "        jar -= 1\n",
    "      if jar > 0:\n",
    "        jar -= 1\n",
    "      if jar > 0:\n",
    "        jar -= 1\n",
    "  return total_a\n",
    "\n",
    "n = 3\n",
    "\n",
    "array = [10,20,30]\n",
    "total_chocolates_if_A(n,array)"
   ]
  },
  {
   "cell_type": "markdown",
   "metadata": {},
   "source": [
    "## Program 4"
   ]
  },
  {
   "cell_type": "markdown",
   "metadata": {},
   "source": [
    "There is a ant on your balcony. IT wants to leave the rail so sometimes. it moves right and sometimes it moves left until it gets exhausred. Given an integer array A of size N which consists of integer 1 and -1 only representing ant's moves.\n",
    "\n",
    "where 1 means ant moved unit distanxe towards the right side \n",
    "where -1 means it moved unit distance towards the left. \n",
    "\n",
    "your task is to find return the integer value representing how many times the reaches back to original starting position\n",
    "\n",
    "example:\n",
    "n = 5                 (no of moves)\n",
    "arr = [1,-1,1,-1,1] (directions)\n",
    "output = 2\n",
    "\n",
    "now,\n",
    "1-1 = 0.... co count +1\n",
    "0+1 = 1.. so no count\n",
    "1-1 = 0 so count +1\n",
    "0+1 = 1 so no count.... total count = 2\n",
    "output = 2"
   ]
  },
  {
   "cell_type": "code",
   "execution_count": 1,
   "metadata": {},
   "outputs": [
    {
     "name": "stdout",
     "output_type": "stream",
     "text": [
      "2\n"
     ]
    }
   ],
   "source": [
    "n = 5\n",
    "arr = [1,-1,1,-1,1]\n",
    "count = 0\n",
    "total = 0\n",
    "for i in arr:\n",
    "  total += i\n",
    "  if total == 0:\n",
    "    count += 1\n",
    "print(count)"
   ]
  },
  {
   "cell_type": "code",
   "execution_count": null,
   "metadata": {},
   "outputs": [],
   "source": []
  },
  {
   "cell_type": "markdown",
   "metadata": {},
   "source": [
    "## Program 5"
   ]
  },
  {
   "cell_type": "markdown",
   "metadata": {},
   "source": [
    "Given a string s print the most ferquence vowel that is present in the string as a output.\n",
    "\n",
    "A single line containing  the string s\n",
    "the input will be reas from the STDIN by the candidate\n",
    "\n",
    "output format : \n",
    "print a single character whivh represents the most frequence vowel in the given string\n",
    "\n",
    "example : \n",
    "input : helloworld\n",
    "output o"
   ]
  },
  {
   "cell_type": "code",
   "execution_count": 2,
   "metadata": {},
   "outputs": [
    {
     "name": "stdout",
     "output_type": "stream",
     "text": [
      "o\n"
     ]
    }
   ],
   "source": [
    "\n",
    "# input_string = input()\n",
    "\n",
    "import sys\n",
    "input_string = sys.stdin.read().strip()\n",
    "\n",
    "vowel_count = {v: 0 for v in 'aeiou'}\n",
    "for char in input_string:\n",
    "    if char in vowel_count:\n",
    "        vowel_count[char] += 1\n",
    "most_frequent_vowel = max(vowel_count, key=vowel_count.get)\n",
    "\n",
    "print(most_frequent_vowel)"
   ]
  },
  {
   "cell_type": "code",
   "execution_count": null,
   "metadata": {},
   "outputs": [],
   "source": []
  },
  {
   "cell_type": "markdown",
   "metadata": {},
   "source": [
    "# problem 6\n",
    "\n",
    "Count the spaces of an strr"
   ]
  },
  {
   "cell_type": "code",
   "execution_count": 1,
   "metadata": {},
   "outputs": [
    {
     "name": "stdout",
     "output_type": "stream",
     "text": [
      "2\n"
     ]
    }
   ],
   "source": [
    "s = \"Hi im Lokesh\"\n",
    "print(s.count(\" \"))"
   ]
  },
  {
   "cell_type": "markdown",
   "metadata": {},
   "source": [
    "# Pragoram 7"
   ]
  },
  {
   "cell_type": "markdown",
   "metadata": {},
   "source": [
    "Elections party count ...return the party number which as the max no of the votes\n",
    "\n",
    "n = 6 total votes\n",
    "\n",
    "arr = 1 2 2 3 3 2\n",
    "\n",
    "output : 2\n",
    "\n",
    "n = 5\n",
    "if arra = 1 1 2 2 3\n",
    "\n",
    "output is -1\n",
    "\n"
   ]
  },
  {
   "cell_type": "code",
   "execution_count": 2,
   "metadata": {},
   "outputs": [
    {
     "name": "stdout",
     "output_type": "stream",
     "text": [
      "-1\n"
     ]
    }
   ],
   "source": [
    "def counting_party(n,arr):\n",
    "  count = {}\n",
    "  for i in arr:\n",
    "    if i in count:\n",
    "      count[i] += 1\n",
    "    else:\n",
    "      count[i] = 1\n",
    "  newarray = list(count.items())\n",
    "  newarray.sort(key=lambda x : x[1])\n",
    "  if newarray[-1][1] == newarray[-2][1]:\n",
    "    return -1\n",
    "  else:\n",
    "    return newarray[-1][0]\n",
    "\n",
    "n = 10\n",
    "arr = [9,9,9,8,8,8,7,7,7,6,6,6,5,5,5]\n",
    "\n",
    "print(counting_party(n,arr))\n",
    "\n"
   ]
  },
  {
   "cell_type": "markdown",
   "metadata": {},
   "source": [
    "# program 8"
   ]
  },
  {
   "cell_type": "markdown",
   "metadata": {},
   "source": [
    "Problem Statement: Prime factors of a positive integer are the prime numbers that divide that integer exactly.\n",
    "\n",
    "Given an array art of n integers and a positive integer num.\n",
    "\n",
    "Let's suppose prime factorization of num is p²xqxrx_x zwhere p.q.rz are prime numbers.\n",
    "\n",
    "Sum of numbers in array am at indices of prime factors of number num is a x arrip) + bx arr[0]+cxar+fx ariz.\n",
    "\n",
    "You are given an array arr of size n and a positive integer num. You are required to calculate the sum of numbers in arr as mentioned above, and print the same\n",
    "\n",
    "Note\n",
    "\n",
    "if arr is empty, print -1If prime factor of num not found as indices, print 0.\n",
    "\n",
    "Input Format:\n",
    "\n",
    "The input consists of three lines:\n",
    "\n",
    "The first line contains an integer, i.e. n\n",
    "\n",
    "The second line contains an array arr of length of n.\n",
    "\n",
    "The third line contains an integer num\n",
    "\n",
    "The input will be read from the STDIN by the candidates\n",
    "\n",
    "Output Format:\n",
    "\n",
    "Print the sum that was mentioned in the problem statement.\n",
    "\n",
    "Example\n",
    "\n",
    "InputInput:\n",
    "\n",
    "6\n",
    "\n",
    "11 21\n",
    "\n",
    "6\n",
    "\n",
    "32-45 1 23\n",
    "\n",
    "Output\n",
    "\n",
    "77\n",
    "\n",
    "Explanation\n",
    "\n",
    "6-21x31\n",
    "\n",
    "sum=1\"arr[2]+1*arr[3]=1*32+1*45-77"
   ]
  },
  {
   "cell_type": "code",
   "execution_count": 5,
   "metadata": {},
   "outputs": [
    {
     "name": "stdout",
     "output_type": "stream",
     "text": [
      "Answer is: 0\n"
     ]
    }
   ],
   "source": [
    "def solution(arr, num):\n",
    "    primes = []\n",
    "    if len(arr) == 0:\n",
    "        return -1\n",
    "    for i in range(2,num+1):\n",
    "        while num%i == 0:\n",
    "            primes.append(i)\n",
    "            num = num//i\n",
    "    if num > 2:\n",
    "        primes.append(num)\n",
    "    ans= 0\n",
    "    for i in primes:\n",
    "        if i < len(arr):\n",
    "            ans += arr[i]\n",
    "        else:\n",
    "            return 0\n",
    "    return ans\n",
    "\n",
    "arr = [11,21,32,45,1,23]\n",
    "num = 99\n",
    "\n",
    "ans = solution(arr, num)\n",
    "print(\"Answer is:\",ans)"
   ]
  },
  {
   "cell_type": "markdown",
   "metadata": {},
   "source": [
    "# program 9"
   ]
  },
  {
   "cell_type": "markdown",
   "metadata": {},
   "source": [
    "Problem Statement:\n",
    "\n",
    "Max is planning to take part in a Diwali contest at a Diwali Party that will begin at 8 PM and will run until midnight (12 AM) ie, for 4 hours. He also needs to travel to the party venue within this time which takes him P minutes. The contest comprises of N problems that are arranged in order of difficulty, with problem 1 being the simplest and problem N being the most difficult. Max is aware that he will require 5'i minutes to solve the ith problem.\n",
    "\n",
    "Your task is help Max find and retum an integer value. representing the number of problems Max can solve and reach the party venue within the given time frame of 4 hours\n",
    "\n",
    "Note Max will leave his home at exactly 8 PM to reach the party venue.\n",
    "\n",
    "Input Format:Input Format:\n",
    "\n",
    "input1: An integer value N, representing the total number of problems\n",
    "\n",
    "input2: An integer value P, Representing the time to travel in minutes from his home to the party venue.\n",
    "\n",
    "Example:\n",
    "\n",
    "Input:\n",
    "\n",
    "6\n",
    "\n",
    "180\n",
    "\n",
    "Output:\n",
    "\n",
    "4Explanation:\n",
    "\n",
    "The amount of time left to solve the problems is 4*60-180-60 mins.\n",
    "\n",
    "1st Problem-5 mins, Time left = 60-5-55 mins\n",
    "\n",
    "2nd Problem 10 mins, Time left 55-10-45 mins\n",
    "\n",
    "3rd Problem 15 mins, Time left = 45-15-30 mins\n",
    "\n",
    "4th Problem 20 mins, Time left=30-20-10 mins\n",
    "\n",
    "5th Problem-25 mins\n",
    "\n",
    "So he can solve only 4 problems as he is not left with 25 mins to complete 5th problem."
   ]
  },
  {
   "cell_type": "code",
   "execution_count": 1,
   "metadata": {},
   "outputs": [
    {
     "name": "stdout",
     "output_type": "stream",
     "text": [
      "4\n"
     ]
    }
   ],
   "source": [
    "def max_problems_solved(N, P):\n",
    "    total_time = 4 * 60\n",
    "    \n",
    "    \n",
    "    time_left = total_time - P\n",
    "    \n",
    "    problems_solved = 0\n",
    "    problem_time = 5\n",
    "    \n",
    "    while problems_solved < N and time_left >= problem_time:\n",
    "        time_left -= problem_time\n",
    "        problems_solved += 1\n",
    "        problem_time += 5\n",
    "    \n",
    "    return problems_solved\n",
    "\n",
    "\n",
    "N = 6\n",
    "P = 180\n",
    "print(max_problems_solved(N, P))  "
   ]
  },
  {
   "cell_type": "markdown",
   "metadata": {},
   "source": [
    "# program 10"
   ]
  },
  {
   "cell_type": "markdown",
   "metadata": {},
   "source": [
    "Problem Statement:\n",
    "\n",
    "Problem Statement:\n",
    "\n",
    "You are given an array arr and a product m. Your task is to find the number of possible unique triplets whose product of elements is m.\n",
    "\n",
    "Input Format:\n",
    "\n",
    "The first line contains the integer, n\n",
    "\n",
    "• The second line contains space seperated integers of the array, arr\n",
    "\n",
    "The third line contains the product m.\n",
    "\n",
    "The input will be read from the STDIN by the candidate\n",
    "\n",
    "Output Format:\n",
    "\n",
    "The output consists of a single integer, ie the count of unique triplets having product m.The output will be matched to the candidate's output printed on the STDOUT\n",
    "\n",
    "Example:\n",
    "\n",
    "Input\n",
    "\n",
    "7\n",
    "\n",
    "532010142\n",
    "\n",
    "60\n",
    "\n",
    "Output:\n",
    "\n",
    "3\n",
    "\n",
    "Explanation\n",
    "\n",
    "Product m:60\n",
    "\n",
    "Possible triplets for product m: (5.4.3) (20.3.1), (10.3.2)"
   ]
  },
  {
   "cell_type": "code",
   "execution_count": 10,
   "metadata": {},
   "outputs": [
    {
     "name": "stdout",
     "output_type": "stream",
     "text": [
      "3\n"
     ]
    }
   ],
   "source": [
    "def triplet(n,arr,m):\n",
    "  count = 0\n",
    "  for i in range(n):\n",
    "    for j in range(i+1,n):\n",
    "      for k in range(j+1,n):\n",
    "        if arr[i]*arr[j]*arr[k] == m:\n",
    "          count+=1\n",
    "  return count\n",
    "\n",
    "# n = int(input())\n",
    "# arr = list(map(int,input().split(' ')))\n",
    "# m = int(input())\n",
    "\n",
    "n = 7\n",
    "arr = [5,3,20,10,1,4,2]\n",
    "m = 60\n",
    "print(triplet(n,arr,m))"
   ]
  },
  {
   "cell_type": "markdown",
   "metadata": {},
   "source": [
    "# program 11"
   ]
  },
  {
   "cell_type": "markdown",
   "metadata": {},
   "source": [
    "Problem Statement:\n",
    "\n",
    "Paul is given an array A of length N. He must perform the following Operations on the array sequentially.\n",
    "\n",
    "Choose any two integers from the array and calculate theit average\n",
    "\n",
    "If an element is less than the average, update it to 0. However, if the element is greater than or equal to the average, he need not update it\n",
    "\n",
    "Your task is to help Paul find and return an integer value, representing the minimum possible sum of all the elements in the array by performing the above operations\n",
    "\n",
    "Note: An exact average should be calculated, even il it results in a decimal.\n",
    "\n",
    "Input Format:Input Format:\n",
    "\n",
    "input1: An integer value N, representing the size of the array A\n",
    "\n",
    "input2: An integer array A\n",
    "\n",
    "Output Format:\n",
    "\n",
    "Return an integer value, representing the minimum possible sum of all the elements in the array by\n",
    "\n",
    "Sample Input\n",
    "\n",
    "5\n",
    "\n",
    "12345\n",
    "\n",
    "Sample Output\n",
    "\n",
    "5"
   ]
  },
  {
   "cell_type": "code",
   "execution_count": 1,
   "metadata": {},
   "outputs": [
    {
     "name": "stdout",
     "output_type": "stream",
     "text": [
      "5\n"
     ]
    }
   ],
   "source": [
    "# n = int(input())\n",
    "# array = list(map(int,input().split(\" \")))\n",
    "n = 5\n",
    "array = [5,4,3,2,1]\n",
    "\n",
    "array.sort()\n",
    "avg = (array[-1]+array[-2])/2\n",
    "for i in range(n):\n",
    "  if array[i]<avg:\n",
    "    array[i] = 0\n",
    "\n",
    "print(sum(array))\n",
    "\n"
   ]
  },
  {
   "cell_type": "markdown",
   "metadata": {},
   "source": [
    "\n",
    "# Problem 12\n"
   ]
  },
  {
   "cell_type": "markdown",
   "metadata": {},
   "source": [
    "Problem Statement:\n",
    "\n",
    "Alice has a mathematics test for which she is underprepared. She has to do at least one question correctly to pass the test. He decides to do a question which needs her to find the smallest prime number which is larger than a given integer N. Your task is to find and return an integer value representing the smallest prime number larger than N\n",
    "\n",
    "Input Format\n",
    "\n",
    "input1: An integer value N\n",
    "\n",
    "D\n",
    "\n",
    "Output Format:\n",
    "\n",
    "Return an integer value representing the smallest prime number larger than N\n",
    "\n",
    "Sample Input\n",
    "\n",
    "6"
   ]
  },
  {
   "cell_type": "code",
   "execution_count": 3,
   "metadata": {},
   "outputs": [
    {
     "name": "stdout",
     "output_type": "stream",
     "text": [
      "71\n"
     ]
    }
   ],
   "source": [
    "def prime(n):\n",
    "  if n <= 1: return False\n",
    "  if n %2 == 0: return False\n",
    "  if n == 2:\n",
    "    return True\n",
    "  for i in range(3,int(n**0.5)+1,2):\n",
    "    if n % i == 0:\n",
    "      return False\n",
    "  return True\n",
    "\n",
    "# n = int(input())\n",
    "\n",
    "n = 67\n",
    "while True:\n",
    "  n = n+1\n",
    "  if prime(n):\n",
    "    print(n)\n",
    "    break"
   ]
  },
  {
   "cell_type": "markdown",
   "metadata": {},
   "source": [
    "# Problem 13"
   ]
  },
  {
   "cell_type": "markdown",
   "metadata": {},
   "source": [
    "Problem Statement:\n",
    "\n",
    "Eva has a string 5 containing lowercase English letters. She wants to transform this string into a Magic String, where all the characters in the string are the same. To do so, she can replace any letter in the string with another letter present in that string\n",
    "\n",
    "Your task is to help Eva find and return an integer value, representing the minimum number of steps required to form a Magic String. Return 0, if 5 is already a Magic String.\n",
    "\n",
    "Input Specification:\n",
    "\n",
    "input1: A string S, containing lowercase English letters.\n",
    "\n",
    "Output Specification:\n",
    "\n",
    "Return an integer value, representing the minimum number of steps required to form a Magic String. Return 0, if S is already a Magic String\n",
    "\n",
    "input : \n",
    "aaabbbccddd\n",
    "\n",
    "output : 8"
   ]
  },
  {
   "cell_type": "code",
   "execution_count": 4,
   "metadata": {},
   "outputs": [
    {
     "name": "stdout",
     "output_type": "stream",
     "text": [
      "8\n"
     ]
    }
   ],
   "source": [
    "\n",
    "def solve(n):\n",
    "  if n[0] == n[-1]:\n",
    "    return -1\n",
    "  \n",
    "  count = {}\n",
    "  for i in n:\n",
    "    if i in count:\n",
    "      count[i] += 1\n",
    "    else:\n",
    "      count[i] = 1\n",
    "  \n",
    "  return (len(n) - (max(count.values())))\n",
    "\n",
    "n = 'aaabbbccddd'\n",
    "print(solve(n))\n",
    "\n"
   ]
  },
  {
   "cell_type": "markdown",
   "metadata": {},
   "source": [
    "# Problem 14\n",
    "\n",
    "Problem Statement:\n",
    "\n",
    "You work in the message encoding department of a national security agency. Every message that is sent from or received in your office is encoded. You have an integer N, and each digit of Nis squared and the squares are concatenated together to encode the original number. Your task is to find and return an integer value representing the encoded value of the number.\n",
    "\n",
    "input1: An integer value N representing the number to be encoded.\n",
    "\n",
    "Output:\n",
    "\n",
    "Return an integer value representing the encoded value of the number.\n",
    "\n",
    "Sample Input:\n",
    "\n",
    "input : 167\n",
    "output : 13649"
   ]
  },
  {
   "cell_type": "code",
   "execution_count": 6,
   "metadata": {},
   "outputs": [
    {
     "name": "stdout",
     "output_type": "stream",
     "text": [
      "13649\n"
     ]
    }
   ],
   "source": [
    "# n = input()\n",
    "\n",
    "n = \"167\"\n",
    "result = \"\"\n",
    "for i in n:\n",
    "  result += str(int(i)**2)\n",
    "\n",
    "print(result)\n"
   ]
  },
  {
   "cell_type": "markdown",
   "metadata": {},
   "source": [
    "# problem 15\n",
    "\n",
    "Problem Statement:\n",
    "\n",
    "You are given an array A of N integers. An equilibrium position is a position where the sum of all integers on its left is equal to the sum of all integers on its right in the array A. Print the index of the equilibrium position\n",
    "\n",
    "Note For any given array there is only a single equilibrium position, if no equilibrium position is found then print \"NOT FOUND\" without quotes\n",
    "\n",
    "The array is 1 indexed.\n",
    "\n",
    "Input Format:\n",
    "\n",
    "The input consists of two lines\n",
    "\n",
    "The first line contains an integer denoting N."
   ]
  },
  {
   "cell_type": "code",
   "execution_count": 9,
   "metadata": {},
   "outputs": [
    {
     "name": "stdout",
     "output_type": "stream",
     "text": [
      "3\n"
     ]
    }
   ],
   "source": [
    "def equilibrium(n,a):\n",
    "  mid = n//2+1\n",
    "  left = a[:mid-1]\n",
    "  right = a[mid:]\n",
    "  left_sum = sum(left)\n",
    "  right_sum = sum(right)\n",
    "  if left_sum == right_sum:\n",
    "    print(mid)\n",
    "  else: \n",
    "    print(\"NOT FOUND\")\n",
    "\n",
    "# n = int(input())\n",
    "# a = list(map(int,input().split(' ')))\n",
    "\n",
    "n = 5\n",
    "a = [2,4,7,3,3]\n",
    "\n",
    "equilibrium(n,a)"
   ]
  },
  {
   "cell_type": "markdown",
   "metadata": {},
   "source": [
    "# problem 16\n",
    "\n",
    "\n",
    "Problem Statement:\n",
    "\n",
    "Given two numbers a and b. Find the GCD and LCM of and b.\n",
    "\n",
    "Input\n",
    "\n",
    "Two positive integers a and b (1 <=a, b <=1000)\n",
    "\n",
    "Output: For GCD function, an integer representing the GCD of a and b For LCM function, an integer representing the LCM of a and b\n",
    "\n",
    "Sample Input:\n",
    "\n",
    "1218\n",
    "\n",
    "Output:6\n",
    "\n",
    "36\n",
    "\n",
    "Explanation:\n",
    "\n",
    "The GCD of 12 and 18 is 6. The LCM of 12 and 18 is 36."
   ]
  },
  {
   "cell_type": "code",
   "execution_count": null,
   "metadata": {},
   "outputs": [],
   "source": [
    "def gcd(a,b):\n",
    "  while b:\n",
    "    a,b = b,a%b\n",
    "  return a\n",
    "\n",
    "def lcm(a,b):\n",
    "  return abs(a*b)//gcd(a,b)\n",
    "\n",
    "a,b = map(int,input().split())\n",
    "\n",
    "print(gcd(a,b))\n",
    "print(lcm(a,b))"
   ]
  },
  {
   "cell_type": "markdown",
   "metadata": {},
   "source": [
    "# problem 17\n",
    "\n",
    "Problem Statement:\n",
    "\n",
    "Pangram is a sentence containing every letter in the Englis alphabet. Given a string, find all characters that are missing from the string, Le., the characters that can make the string Pangram We need to print output in alphabetic order.\n",
    "\n",
    "For example,\n",
    "\n",
    "Input: welcome to geeksforgeeks\n",
    "\n",
    "Output: abdhijnpquvxyz"
   ]
  },
  {
   "cell_type": "code",
   "execution_count": 11,
   "metadata": {},
   "outputs": [
    {
     "name": "stdout",
     "output_type": "stream",
     "text": [
      "bcdfijklmnopqtvwxyz\n"
     ]
    }
   ],
   "source": [
    "\n",
    "\n",
    "def missing(s):\n",
    "  \n",
    "  alp = set(\"abcdefghijklmnopqrstuvwxyz\")\n",
    "  strr = set(s.lower())\n",
    "  \n",
    "  remaninig = sorted(alp - strr)\n",
    "  \n",
    "  return \"\".join(remaninig)\n",
    "\n",
    "s = \"gseugherga\"\n",
    "print(missing(s))"
   ]
  },
  {
   "cell_type": "markdown",
   "metadata": {},
   "source": [
    "# problem 18\n",
    "\n",
    "Problem Statement:\n",
    "\n",
    "You are given a list of integers, and your task is to write a function that finds the two numbers in the list that add up to a specific target sum. You need to retum the indices of these two numbers\n",
    "\n",
    "Write a function that takes a list of Integers and a target sum as input and returns a list of two indices (0-based) of the numbers that add up to the target sum. Assume that there is exactly one solution, and you cannot use the same element twice\n",
    "\n",
    "Sample Input:\n",
    "\n",
    "271115\n",
    "\n",
    "9\n",
    "\n",
    "\n",
    "Sample Output:\n",
    "\n",
    "[0,1]"
   ]
  },
  {
   "cell_type": "code",
   "execution_count": 14,
   "metadata": {},
   "outputs": [
    {
     "name": "stdout",
     "output_type": "stream",
     "text": [
      "[0, 1]\n"
     ]
    }
   ],
   "source": [
    "\n",
    "def target_sum(arr,total):\n",
    "  nn = len(arr)\n",
    "  for i in range(nn-1):\n",
    "    for j in range(i+1,nn):\n",
    "      if arr[i] + arr[j] == total:\n",
    "        return [i,j]\n",
    "arr = [2,7,11,15]\n",
    "total = 9\n",
    "print(target_sum(arr,total))\n"
   ]
  },
  {
   "cell_type": "markdown",
   "metadata": {},
   "source": [
    "# problem 19\n",
    "\n",
    "you are given a string containing words separated bt spaces. your task is to write a function or program that reverse the order of words in the string\n",
    "\n",
    "sample input:\n",
    "Hello World\n",
    "\n",
    "sample output:\n",
    "World Hello\n"
   ]
  },
  {
   "cell_type": "code",
   "execution_count": 20,
   "metadata": {},
   "outputs": [
    {
     "name": "stdout",
     "output_type": "stream",
     "text": [
      "world hello\n"
     ]
    }
   ],
   "source": [
    "n = \"hello world\".split()\n",
    "n = n[::-1]\n",
    "n = \" \".join(n)\n",
    "print(n)"
   ]
  },
  {
   "cell_type": "markdown",
   "metadata": {},
   "source": [
    "# Problem 20\n",
    "\n",
    "Problem Statement:\n",
    "\n",
    "Description: You are given an N. dimensional array arr. A peak element in the array is defined as an element whose value is greater than or equal to its neighboring elements (if they exist). Your task is to find the index of any peak element in the given\n",
    "\n",
    "Note lise 0-based indexing\n",
    "\n",
    "Input\n",
    "\n",
    "An integer representing the number of elements in the array. N space-separated integers, denoting the elements of the array.\n",
    "\n",
    "N space-separated integers denoting the elements of the array arr[]\n",
    "\n",
    "Sample Input:Sample Input:\n",
    "\n",
    "5\n",
    "\n",
    "132041\n",
    "\n",
    "Sample Output:\n",
    "\n",
    "2"
   ]
  },
  {
   "cell_type": "code",
   "execution_count": 28,
   "metadata": {},
   "outputs": [
    {
     "name": "stdout",
     "output_type": "stream",
     "text": [
      "2\n"
     ]
    }
   ],
   "source": [
    "\n",
    "def Peak(total,arr):\n",
    "  for i in range(total):\n",
    "    if i ==0:\n",
    "      if arr[i] >= arr[i+1]:\n",
    "        return i\n",
    "    elif i == (total-1):\n",
    "      if arr[i] >= arr[i-1]:\n",
    "        return i\n",
    "    else:\n",
    "      if arr[i] >= arr[i+1] and arr[i] >= arr[i-1]:\n",
    "        return i\n",
    "  \n",
    "\n",
    "total =5\n",
    "arr = [2,3,20,4,1]\n",
    "\n",
    "print(Peak(total,arr))\n"
   ]
  },
  {
   "cell_type": "markdown",
   "metadata": {},
   "source": [
    "# Problem 21\n",
    "\n",
    "Problem Statement:\n",
    "\n",
    "You are given a list of integers, and your task is to find the subarray with the maximum sum. Write a function or method to solve this problem efficiently and return the maximum sum.\n",
    "\n",
    "Input:\n",
    "\n",
    "in the no of elements in the array\n",
    "\n",
    "nums (List of integers): A list of integers (1 <= len(nums) <= 10^5)\n",
    "\n",
    "Sample input:\n",
    "\n",
    "8\n",
    "\n",
    "-12310-472-5\n",
    "\n",
    "Sample output:20\n",
    "\n",
    "D\n",
    "\n",
    "Explanation:\n",
    "\n",
    "The max subarry sum is 20. The subarray is [2,3,10,-4,7,21"
   ]
  },
  {
   "cell_type": "code",
   "execution_count": 33,
   "metadata": {},
   "outputs": [
    {
     "name": "stdout",
     "output_type": "stream",
     "text": [
      "20\n"
     ]
    }
   ],
   "source": [
    "# n = int(input())\n",
    "# arr = list(map(int,input().split()))\n",
    "\n",
    "def sub_array_with_max_sum(n,arr):\n",
    "  ans = arr[0]\n",
    "  temp_max = arr[0]\n",
    "  for i in arr[1:]:\n",
    "    temp_max = max(temp_max+i,i)\n",
    "    if temp_max > ans:\n",
    "      ans = temp_max\n",
    "  return ans\n",
    "\n",
    "n = 8\n",
    "arr = [-1,2,3,10,-4,7,2,-5]\n",
    "\n",
    "print(sub_array_with_max_sum(n,arr))"
   ]
  },
  {
   "cell_type": "markdown",
   "metadata": {},
   "source": [
    "# Problem 22\n",
    "\n",
    "Problem Statement:\n",
    "\n",
    "Tom is an Arduino Programmer. He has designed a program to run his robocar on a horizontal number line. Initially, the car is parked at: 0 Given an array A of N integers which can be A B C. the robocar runs as follows as per the designed program\n",
    "\n",
    "First the robocar moves A units in specified direction(right in case the integer is positive and left if the integer is negative).\n",
    "\n",
    "Then robocar first moves A units and then B units in a specified direction.\n",
    "\n",
    "In the next step, the robocar moves A units. Bunits, and then C units in a specified direction.\n",
    "\n",
    "This process keeps on repeating as per the number of integers in the sequence..Your task is to find and retum an integer value, representing the farthest coordinate reached by the robocar from the beginning to the end of the process\n",
    "\n",
    "Sample Input:\n",
    "\n",
    "1-234\n",
    "\n",
    "Sample Output:\n",
    "\n",
    "6"
   ]
  },
  {
   "cell_type": "code",
   "execution_count": 34,
   "metadata": {},
   "outputs": [
    {
     "name": "stdout",
     "output_type": "stream",
     "text": [
      "6\n"
     ]
    }
   ],
   "source": [
    "arr = list(map(int,input().split()))\n",
    "n = len(arr)\n",
    "sum = 0\n",
    "dist = 0\n",
    "for i in arr:\n",
    "  sum += i\n",
    "  if abs(sum) > dist:\n",
    "    dist = abs(sum)\n",
    "print(dist)    "
   ]
  },
  {
   "cell_type": "markdown",
   "metadata": {},
   "source": [
    "# problem 23\n",
    "Problem Statement:\n",
    "\n",
    "Let's consider a scenario where there are K candies to be distributed among N children, each uniquely numbered from 1 to N. The distribution commences with Child A, followed by a sequential allocation to the subsequent children in the order: A, A+1, A+2, N. The query at hand is to identify which child will be the last recipient of a candy. In more explicit terms, after Child x (where 1<= x < N) receives a candy, the subsequent candy is granted to Child x+1. Upon Child N receiving a candy, the distribution cycle restarts and Child 1 becomes the next recipient.\n",
    "\n",
    "The primary objective is to ascertain the identity of the child who will receive the last candy in this cyclic distribution.\n",
    "\n",
    "Note: Each child receives only 1 candy.Input Format:\n",
    "\n",
    "The first line of input contains 3 space seperated integers N, K and A\n",
    "\n",
    "Output Format:\n",
    "\n",
    "Print the friend who will be the final recipient of the candy.\n",
    "\n",
    "Constraints:\n",
    "\n",
    "1<=N<=K<=10^8\n",
    "\n",
    "Sample Input:\n",
    "\n",
    "521\n",
    "\n",
    "Sample Output:\n",
    "\n",
    "2"
   ]
  },
  {
   "cell_type": "code",
   "execution_count": 10,
   "metadata": {},
   "outputs": [
    {
     "name": "stdout",
     "output_type": "stream",
     "text": [
      "2\n"
     ]
    }
   ],
   "source": [
    "a,b,c = map(int,input().split())\n",
    "last = (c+b-1)%a\n",
    "if last == 0:\n",
    "  print(a)\n",
    "else:\n",
    "  print(last)"
   ]
  },
  {
   "cell_type": "markdown",
   "metadata": {},
   "source": [
    "# Problem 24\n",
    "\n",
    "Problem Statement:\n",
    "\n",
    "George has a setup which includes a special keyboard and a monitor, that initially displays 0. The special keyboard has 11 numeric keys (0,1,2,3,4,5,6,7,8,9,00). If he presses 00, the previously displayed value will be multiplied by 100. Whereas, if he presses any other numeric key, the previously displayed value will be firstly multiplied by 10 and then the number on the key will be added to it\n",
    "\n",
    "You are given a numeric string S. Your task is to help George find and return an integer value, representing the minimum number of key presses to reach the number.\n",
    "\n",
    "Input Specification\n",
    "\n",
    "input: A numeric strings. representing the final number.\n",
    "\n",
    "Output Specification:\n",
    "\n",
    "Return an integer value, representing the minimum number of key presses to reach the number.\n",
    "\n",
    "Sample Input:\n",
    "\n",
    "100\n",
    "\n",
    "Sample Output:\n",
    "\n",
    "2"
   ]
  },
  {
   "cell_type": "code",
   "execution_count": 9,
   "metadata": {},
   "outputs": [
    {
     "name": "stdout",
     "output_type": "stream",
     "text": [
      "4\n"
     ]
    }
   ],
   "source": [
    "# number = input()\n",
    "number = \"10010\"\n",
    "l = len(number)\n",
    "count = 0\n",
    "i = 0\n",
    "while i < l:\n",
    "  if i < l-1 and number[i] == \"0\" and number[i+1] == \"0\":\n",
    "    count += 1\n",
    "    i += 2\n",
    "  else:\n",
    "    count += 1\n",
    "    i +=1\n",
    "\n",
    "print(count)"
   ]
  },
  {
   "cell_type": "markdown",
   "metadata": {},
   "source": [
    "# Problem 25\n",
    "\n",
    "Problem Statement:\n",
    "\n",
    "Andrew has a string N consisting of lowercase English letters representing respective grades of N students in his class. His grade is at Pth index. He can swap any two adjacent grades\n",
    "\n",
    "Your task is to help Andrew find and return a string value, representing maximized grade by bringing lexicographically smallest character on the Pth index after doing at most K swaps\n",
    "\n",
    "Note: use 1 based indexing\n",
    "\n",
    "Input format\n",
    "\n",
    "The first line contains the strings\n",
    "\n",
    "(ii) The second line contains the integer P.\n",
    "\n",
    "(n) The third line contains the integer KSample Input:\n",
    "\n",
    "abcdefg\n",
    "\n",
    "3\n",
    "\n",
    "2\n",
    "\n",
    "Sample Output:\n",
    "\n",
    "a"
   ]
  },
  {
   "cell_type": "code",
   "execution_count": 6,
   "metadata": {},
   "outputs": [
    {
     "name": "stdout",
     "output_type": "stream",
     "text": [
      "d\n"
     ]
    }
   ],
   "source": [
    "def grade(string,p,k):\n",
    "  p -= 1\n",
    "  cha = string[p]\n",
    "  index = p\n",
    "  \n",
    "  for i in range(p,min(p+k+1,len(string))):\n",
    "    if string[i] < cha:\n",
    "      cha = string[i]\n",
    "      index = i\n",
    "  \n",
    "  sl = list(string)\n",
    "  for i in range(index,p,-1):\n",
    "    sl[i],sl[i-1] = sl[i-1],sl[i]\n",
    "  \n",
    "  return \"\".join(sl)\n",
    "\n",
    "# string = input()\n",
    "# p = int(input())\n",
    "# k = int(input())\n",
    "\n",
    "string = \"abcdefg\"\n",
    "p = 3\n",
    "k = 2\n",
    "\n",
    "\n",
    "result = grade(string,p,k)\n",
    "\n",
    "print(result[p-1])"
   ]
  },
  {
   "cell_type": "markdown",
   "metadata": {},
   "source": [
    "# problem 26\n",
    "Alice has a string A consisting of lowercase English letters. Her friend gives her another string S and asks her to modify string A and replace its characters with the characters present in string S.\n",
    "\n",
    "But, to achieve the above task, Alice must follow the below steps:\n",
    "\n",
    "1. Choose a character from string S that has the minimum ASCII distance from the ith  character in string A\n",
    "\n",
    "Replace the ith character in string A with the chosen character in string S\n",
    "\n",
    "Your task is to find and return an integer value, representing minimum total ASCII distance that is required to modify string A to the characters in string S. Return 0, if all the characters in string S are already present in string A\n",
    "\n",
    "Sample Input:\n",
    "\n",
    "abcd\n",
    "\n",
    "xyz\n",
    "\n",
    "Sample Output:\n",
    "\n",
    "86"
   ]
  },
  {
   "cell_type": "code",
   "execution_count": 11,
   "metadata": {},
   "outputs": [
    {
     "name": "stdout",
     "output_type": "stream",
     "text": [
      "86\n"
     ]
    }
   ],
   "source": [
    "\n",
    "def alice(a,s):\n",
    "    total = 0\n",
    "    for i in a:\n",
    "        mi = 25\n",
    "        for j in s:\n",
    "            ma = abs(ord(i) - ord(j))\n",
    "            if mi > ma:\n",
    "                mi = ma\n",
    "        total+=mi\n",
    "    return total\n",
    "\n",
    "a = input().lower()\n",
    "s = input().lower()\n",
    "print(alice(a,s))"
   ]
  },
  {
   "cell_type": "markdown",
   "metadata": {},
   "source": [
    "# problem 27\n",
    "Problem Statement:\n",
    "\n",
    "Given a match between team A and team B represented by an array, the task is to determine which team wins based on the occurrences of even and odd numbers in an array.\n",
    "\n",
    "Rules:\n",
    "\n",
    "If an even number has an even occurrence, it supports team A otherwise, it supports team B\n",
    "\n",
    "Similarly, odd numbers support team B it they have even occurrences, otherwise, they support team A\n",
    "\n",
    "If there's a tie, print TO.\n",
    "\n",
    "Input Format:\n",
    "\n",
    "The first line contains an integer n, denoting the number of elements in the array.\n",
    "\n",
    "The second line contains n integers separated by space, representing the array elements.Output Format:\n",
    "\n",
    "If either of the team wins display the team name (A' or 'B') and how much support the team wins separated by space. Else if there is a tie display \"TO\"\n",
    "\n",
    "Sample Input\n",
    "\n",
    "6\n",
    "\n",
    "122344\n",
    "\n",
    "Sample Output:\n",
    "\n",
    "A4"
   ]
  },
  {
   "cell_type": "code",
   "execution_count": 45,
   "metadata": {},
   "outputs": [
    {
     "name": "stdout",
     "output_type": "stream",
     "text": [
      "A 1\n"
     ]
    }
   ],
   "source": [
    "from collections import Counter\n",
    "n=int(input())\n",
    "arr=list(map(int,input().split()))\n",
    "freq=Counter(arr)\n",
    "votesofA=0\n",
    "votesofB=0\n",
    "for k,v in freq.items():\n",
    "    if k%2==0:\n",
    "        if v%2==0:\n",
    "            votesofA+=1\n",
    "        else:\n",
    "            votesofB+=1\n",
    "    else:\n",
    "        if v%2==0:\n",
    "            votesofB+=1\n",
    "        else:\n",
    "            votesofA+=1\n",
    "if votesofA==votesofB:\n",
    "    print(\"T 0\")\n",
    "elif votesofA>votesofB:\n",
    "    print(\"A\",str(abs(votesofA-votesofB)))\n",
    "else:\n",
    "    print(\"B\",str(abs(votesofA-votesofB)))"
   ]
  },
  {
   "cell_type": "code",
   "execution_count": 46,
   "metadata": {},
   "outputs": [
    {
     "name": "stdout",
     "output_type": "stream",
     "text": [
      "Counter({'2': 3, '3': 3, '1': 2, '4': 1})\n"
     ]
    }
   ],
   "source": [
    "from collections import Counter\n",
    "s = \"123321234\"\n",
    "print(Counter(s))  "
   ]
  },
  {
   "cell_type": "markdown",
   "metadata": {},
   "source": [
    "# problem 28 \n",
    "Problem Statement:\n",
    "Liam works as a data analyst for a company that stores massive amounts of numerical data. He has been tasked with determining how many commas are used when writing numbers in the range of 1 to N (inclusive) in a specific format\n",
    "\n",
    "In this format, if numbers are more than four digits long, commas are used to separate the numbers into groups of three, starting from the right for the representation of the number. Your task is to help Liam find and return an integer value, representing the total number of commas used when writing each integer in the range of 1 to N\n",
    "\n",
    "Input Specification:\n",
    "\n",
    "Input: An integer value N. representing the number range.\n",
    "\n",
    "Output Specification:\n",
    "\n",
    "Return an integer value, representing total number of commas used when writing each integer in the range of 1 to N.\n",
    "\n",
    "Sample Input:\n",
    "\n",
    "5000\n",
    "\n",
    "Sample Output:\n",
    "\n",
    "4001"
   ]
  },
  {
   "cell_type": "code",
   "execution_count": 12,
   "metadata": {},
   "outputs": [
    {
     "name": "stdout",
     "output_type": "stream",
     "text": [
      "4001\n"
     ]
    }
   ],
   "source": [
    "\n",
    "num = input()\n",
    "if len(num) < 4:\n",
    "    print(0)\n",
    "else:\n",
    "    total = 0\n",
    "    for i in range(1000,int(num)+1):\n",
    "        length = len(str(i))\n",
    "        noofcommas = length // 3\n",
    "        if length%3 ==0:\n",
    "            noofcommas -=1\n",
    "        total += noofcommas\n",
    "    print(total)\n"
   ]
  },
  {
   "cell_type": "markdown",
   "metadata": {},
   "source": [
    "# problem 29\n",
    "\n",
    "Problem Statement:\n",
    "You are playing a game of Toss and Score in the Hillwood City Mall with your friends. The game consists of the following rules:\n",
    "\n",
    "Toss an unbiased coin multiple times.\n",
    "\n",
    "For each heads you get 2 points and for each tails you lose 1 point.\n",
    "\n",
    "The game ends as soon as you get 3 heads in a row, or you toss the coin throughout the length of string S.\n",
    "\n",
    "You have been given a string 5 consisting of letters H (for heads) and T (for tails) denoting the sequence results you get on the tass of coin N times. Your task is to find and return an integer value representing the final score you get once the game ends.\n",
    "\n",
    "Note: The final score can be negative too.\n",
    "\n",
    "Input Specification:\n",
    "\n",
    "Input1: A string s. representing the sequence of results you get on the toss of coin N times.\n",
    "\n",
    "\n",
    "\n",
    "Sample Input:\n",
    "\n",
    "HHHTT\n",
    "\n",
    "Output:\n",
    "\n",
    "6"
   ]
  },
  {
   "cell_type": "code",
   "execution_count": 40,
   "metadata": {},
   "outputs": [
    {
     "name": "stdout",
     "output_type": "stream",
     "text": [
      "6\n"
     ]
    }
   ],
   "source": [
    "\n",
    "st = \"HHHTT\"\n",
    "v,c = 0,0\n",
    "for i in st:\n",
    "  if i == \"H\":\n",
    "    v+=2\n",
    "    c+=1\n",
    "  else:\n",
    "    v-=1\n",
    "    c=0\n",
    "  if c == 3:\n",
    "    break\n",
    "\n",
    "print(v)"
   ]
  },
  {
   "cell_type": "code",
   "execution_count": null,
   "metadata": {},
   "outputs": [],
   "source": []
  },
  {
   "cell_type": "markdown",
   "metadata": {},
   "source": [
    "# Program 30\n",
    "\n",
    "Problem Statement:\n",
    "In a family, there are N members each have a capacity of Ci units to buy anything. In a store there are M objects. Each of which have some price Pi and weight Wi print on it. Each of the members go to the store and can buy all those items whose price is less than or equal to their buying capacity and store that bought object in a bag. Find the maximum weight of each of the bags collected by all N members individually. \n",
    "\n",
    "Input Format:\n",
    "First line contains two integers N and M where N is the number of members in the house and M is the number of objects in the store.\n",
    "Second line contains N space-separated integers (C1, C2, C3,...)\n",
    "\n",
    "the next M lines contains each object price and weight(Pi,Wi) as space seperated integers.\n",
    "\n",
    "Sample Input:\n",
    "\n",
    "3 4\n",
    "\n",
    "10 20 30\n",
    "\n",
    "5 10\n",
    "\n",
    "15 20\n",
    "\n",
    "10 25\n",
    "\n",
    "20 30\n",
    "\n",
    "Sample Output:\n",
    "35 55 85"
   ]
  },
  {
   "cell_type": "code",
   "execution_count": null,
   "metadata": {},
   "outputs": [],
   "source": [
    "\n",
    "def calculat(n,m,cap,ob):\n",
    "    max_weight = []\n",
    "    for ca in cap:\n",
    "        total_weight = 0\n",
    "        for p,w in ob:\n",
    "            if p <= ca:\n",
    "                total_weight += w\n",
    "        \n",
    "        max_weight.append(total_weight)\n",
    "        \n",
    "    return max_weight\n",
    "\n",
    "n,m = map(int,input().split())\n",
    "cap = list(map(int,input().split()))\n",
    "obj = [tuple(map(int,input().split())) for _ in range(m)]\n",
    "\n",
    "max_weight = calculat(n,m,cap,obj)\n",
    "\n",
    "print(\" \".join(map(str,max_weight)))\n"
   ]
  },
  {
   "cell_type": "code",
   "execution_count": null,
   "metadata": {},
   "outputs": [],
   "source": []
  },
  {
   "cell_type": "markdown",
   "metadata": {},
   "source": [
    "# program 31\n",
    "Problem Statement:\n",
    "Dev loves the number zero. Dev gives Andrew two integers X and Y and asks him to perform the steps below on X and Y. until the value of Y has been reduced to zero. The below steps should be followed sequentially:\n",
    "\n",
    "1. If X\n",
    "\n",
    "2. If Y=0. then return X\n",
    "\n",
    "3. Otherwise, let T =X-Y.\n",
    "\n",
    "4. Set X=Y and then set Y=T\n",
    "\n",
    "5. Repeat from step 1.\n",
    "\n",
    "Your task is to help Andrew find and return an integer value, representing the value of X, when the value of Y has been reduced to zero.\n",
    "\n",
    "Note: At least one of the X or Y will be a non-zero integer\n",
    "\n",
    "Input Specification:\n",
    "\n",
    "input1: An integer value X. representing the first number.\n",
    "\n",
    "Input2: An integer value Y, representing the second number\n",
    "\n",
    "Sample input:\n",
    "\n",
    "48\n",
    "\n",
    "18\n",
    "\n",
    "Sample Output:\n",
    "\n",
    "6"
   ]
  },
  {
   "cell_type": "code",
   "execution_count": 1,
   "metadata": {},
   "outputs": [
    {
     "name": "stdout",
     "output_type": "stream",
     "text": [
      "6\n"
     ]
    }
   ],
   "source": [
    "import math\n",
    "# x = int(input())\n",
    "# y = int(input())\n",
    "\n",
    "x = 48\n",
    "y = 18\n",
    "\n",
    "\n",
    "print(math.gcd(x,y))"
   ]
  },
  {
   "cell_type": "code",
   "execution_count": null,
   "metadata": {},
   "outputs": [],
   "source": []
  },
  {
   "cell_type": "markdown",
   "metadata": {},
   "source": [
    "# program 32\n",
    "\n",
    "Problem Statement:\n",
    "Given an array of positive integers, you need to create a new list where:\n",
    "\n",
    "Each element represents the frequency count of occurrence of all unique numbers in the original array.Each frequency count occurs the number of times in the new list equal to the value of the corresponding unique number in the original array.\n",
    "Finally, Sort the new list and display.\n",
    "\n",
    "\n",
    "Input Format:\n",
    "The first line contains an integer n, denoting the size of the array.\n",
    "\n",
    "The second line contains n space-separated integers, representing the elements of the array.\n",
    "\n",
    "Sample Input:\n",
    "\n",
    "6\n",
    "\n",
    "3 3 1 1 1 2\n",
    "\n",
    "Sample Output:\n",
    "\n",
    "[1, 1, 2, 2, 2, 3]\n",
    "\n",
    "Explanation:\n",
    "\n",
    "[3, 3, 1, 1, 2] we have {3:2,1:3,2:1}. So now 2 has to appear 3 times and 3 has to appear 1 time and 1 has to appear 2 times.\n",
    "\n",
    "So the list we get is [2, 2, 2, 3, 1, 1] sorting the list we have [1, 1, 2, 2, 2, 3]"
   ]
  },
  {
   "cell_type": "code",
   "execution_count": 29,
   "metadata": {},
   "outputs": [
    {
     "name": "stdout",
     "output_type": "stream",
     "text": [
      "Counter({1: 3, 3: 2, 2: 1})\n",
      "[1, 1, 2, 2, 2, 3]\n"
     ]
    }
   ],
   "source": [
    "\n",
    "from collections import Counter\n",
    "n = 6\n",
    "arr = [3,3,1,1,1,2]\n",
    "\n",
    "d = Counter(arr)\n",
    "print(d)\n",
    "result = []\n",
    "for i in d:\n",
    "  result.extend([d[i]]*i)\n",
    "result.sort()\n",
    "print(result)\n"
   ]
  },
  {
   "cell_type": "markdown",
   "metadata": {},
   "source": []
  },
  {
   "cell_type": "markdown",
   "metadata": {},
   "source": [
    "# Program 33\n",
    "Problem Statement:\n",
    "Bruce is a newly hired employee at a company. The Office Management Department has given him a desk number, which is stored in string S. He has also been handed a string array A. containing all the N office desk numbers.\n",
    "\n",
    "Array A also includes the symbol\"-\", which stands for the gap in the sitting arrangement. Comer seats are those that are on either side of the gap. Your task is to help Bruce find and retum an integer value. representing how far he is from the nearest corner seat. Return 0, if he is in the corner seat.\n",
    "\n",
    "Note:\n",
    "\n",
    "There will always be at least one gap in the string array A\n",
    "\n",
    "Desk number is always in a format of a number first followed by an English letter in uppercase\n",
    "  \n",
    "Assume 0 - based indexing\n",
    "\n",
    "Input Specification:\n",
    "\n",
    "A string S. representing Bruce's newly assigned desk number.\n",
    "\n",
    "Second line containing space seperated strings showing the seat positions and gaps\n",
    "\n",
    "Sample input:\n",
    "\n",
    "3C\n",
    "\n",
    "1A 2B - 3C 4D\n",
    "\n",
    "Sample Output:\n",
    "\n",
    "0"
   ]
  },
  {
   "cell_type": "code",
   "execution_count": 72,
   "metadata": {},
   "outputs": [
    {
     "name": "stdout",
     "output_type": "stream",
     "text": [
      "0\n"
     ]
    }
   ],
   "source": [
    "# place = input()\n",
    "# arr = list(map(str(str,input().split())))\n",
    "\n",
    "place = \"3C\"\n",
    "arr = [\"1A\",\"2B\",\"-\",\"3C\",\"4D\"]\n",
    "\n",
    "index = arr.index(place)\n",
    "left,right = 0,0\n",
    "\n",
    "try:\n",
    "  left = arr[:index][::-1].index(\"-\")\n",
    "except:\n",
    "  left -= 1\n",
    "  \n",
    "try:\n",
    "  right = arr[index+1:].index('-')\n",
    "except:\n",
    "  right += len(arr)\n",
    "\n",
    "print(min(left,right))\n",
    "\n"
   ]
  },
  {
   "cell_type": "code",
   "execution_count": null,
   "metadata": {},
   "outputs": [],
   "source": []
  },
  {
   "cell_type": "markdown",
   "metadata": {},
   "source": [
    "# Program 34\n",
    "\n",
    "Problem Statement:\n",
    "There is a robot race happening between two robots named Robotop and Robocop. Both the robots reach the starting point to begin the race on a Circular track\n",
    "\n",
    "Race starts at time T = 0 seconds. Robotop starts the race at T = Xth second and takes exactly N seconds to complete one lap. On the other hand. Robocop starts the race at T = Yth second and takes exactly M seconds to complete one lap.\n",
    "\n",
    " Your task is to find and return an integer value, representing the least time T (in seconds) at which these two robots meet each other again at the starting point.\n",
    "\n",
    "Sample Input:\n",
    "\n",
    "2 3 1 4\n",
    "\n",
    "Sample Output:\n",
    "\n",
    "5\n",
    "\n",
    "Explanation:\n",
    "\n",
    "X=2, N=3, Y=1, N=4\n",
    "\n",
    "Robotop starts at T=2 and completes one lap every 3 seconds. Robocop starts at T=1 and completes one lap every 4 seconds. The smallest point where both meet at the starting point is 5 seconds."
   ]
  },
  {
   "cell_type": "code",
   "execution_count": 73,
   "metadata": {},
   "outputs": [
    {
     "name": "stdout",
     "output_type": "stream",
     "text": [
      "3\n"
     ]
    }
   ],
   "source": [
    "import math\n",
    "\n",
    "def time(x,n,y,m):\n",
    "    t = x\n",
    "    step = n\n",
    "    \n",
    "    while t%m != y%m:\n",
    "        t+= step\n",
    "    return t\n",
    "\n",
    "x,n,y,m = map(int,input().split())\n",
    "print(time(x,n,y,m))"
   ]
  },
  {
   "cell_type": "markdown",
   "metadata": {},
   "source": [
    "# or"
   ]
  },
  {
   "cell_type": "code",
   "execution_count": null,
   "metadata": {},
   "outputs": [],
   "source": [
    "def time(x,n,y,m):\n",
    "    t = max(x,y)\n",
    "    while (t-x)%n != 0 or (t-y)%m != 0:\n",
    "        t+=1\n",
    "    return t\n",
    "\n",
    "x,n,y,m = map(int,input().split())\n",
    "print(time(x,n,y,m))"
   ]
  },
  {
   "cell_type": "code",
   "execution_count": null,
   "metadata": {},
   "outputs": [],
   "source": []
  },
  {
   "cell_type": "markdown",
   "metadata": {},
   "source": [
    "# program 35\n",
    "Problem Statement:\n",
    "Angela has decided to throw a pizza party. she has ordered N number of pizzas to be served to her N number of friends. In this way, she will be serving only one pizza to each friend.\n",
    "\n",
    "She now wants to invite fewer people to her party in order to provide more pizzas per person. But at the same time, she wants to ensure that there are at least Y friends at her party.\n",
    "\n",
    "Your task is to help Angela find and return an integer value, representing the sum of digits of the minimum number of friends that she can invite to the party, ensuring that each person gets an equal number of pizzas\n",
    "\n",
    "Sample Input:\n",
    "\n",
    "100 17\n",
    "\n",
    "Sample Output:\n",
    "\n",
    "2\n",
    "\n",
    "Explanation:\n",
    "\n",
    "N=100, Y=17\n",
    "\n",
    "For Y=20 each friend gets 5 pizzas. So sum of digits of 20 is 2."
   ]
  },
  {
   "cell_type": "code",
   "execution_count": 5,
   "metadata": {},
   "outputs": [
    {
     "name": "stdout",
     "output_type": "stream",
     "text": [
      "2\n"
     ]
    }
   ],
   "source": [
    "m,n = map(int,input().split())\n",
    "\n",
    "while m%n!=0:\n",
    "  n+=1\n",
    "sum = 0\n",
    "while n !=0:\n",
    "  sum += (n%10)\n",
    "  n //= 10\n",
    "\n",
    "print(sum)"
   ]
  },
  {
   "cell_type": "code",
   "execution_count": null,
   "metadata": {},
   "outputs": [],
   "source": []
  },
  {
   "cell_type": "markdown",
   "metadata": {},
   "source": [
    "# program 36\n",
    "Problem Statement:\n",
    "Problem Statement:\n",
    "Imagine you have three magical crystals, each with a number on it: X, Y, and Z.\n",
    "You're on a magical adventure where you pick two crystals from a table. Your goal is to find the highest sum you can get by choosing two of these magical crystals, using their numbers to create the most powerful combination.\n",
    "Input Format:\n",
    "The first line of input contains three space-separated integers X,Y and Z.\n",
    "Output Format: \n",
    "Print the highest possible sum of the numerals inscribed on the chosen two crystals.\n",
    "Constraints:\n",
    "1<=X,Y,Z<=10^8\n",
    "\n",
    "Sample Input:\n",
    "\n",
    "1 2 3\n",
    "\n",
    "Sample Output:\n",
    "\n",
    "5"
   ]
  },
  {
   "cell_type": "code",
   "execution_count": 6,
   "metadata": {},
   "outputs": [
    {
     "name": "stdout",
     "output_type": "stream",
     "text": [
      "5\n"
     ]
    }
   ],
   "source": [
    "\n",
    "def total(a,b,c):\n",
    "  l = []\n",
    "  l.append(a)\n",
    "  l.append(b)\n",
    "  l.append(c)\n",
    "  l.sort()\n",
    "  return l[-1]+l[-2]\n",
    "  \n",
    "a,b,c = map(int,input().split())\n",
    "print(total(a,b,c))\n",
    "\n"
   ]
  },
  {
   "cell_type": "code",
   "execution_count": null,
   "metadata": {},
   "outputs": [],
   "source": []
  },
  {
   "cell_type": "markdown",
   "metadata": {},
   "source": [
    "# Program 37\n",
    "\n",
    "Morris Fellis has come up with a new function called Fellis function Morris defines the function as follows:\n",
    "\n",
    "f(0)=1\n",
    "\n",
    "f(1)=1\n",
    "\n",
    "f(N)=f(N-1)+7*f(N-2)+(N/4) modulo 109+7\n",
    "\n",
    "Given an integer N, your task is to help Morris find and return an Integer value of f(N), after performing Fellis Function.\n",
    "\n",
    "Note: Here the division operator is integer division operator ie, it divides two numbers and returns the integer part of the result\n",
    "\n",
    "Input Specification:\n",
    "\n",
    "Input1: An integer value N, representing the Fellis Function value.\n",
    "\n",
    "Sample Input:\n",
    "\n",
    "8\n",
    "\n",
    "Sample Output:\n",
    "\n",
    "6713"
   ]
  },
  {
   "cell_type": "code",
   "execution_count": 7,
   "metadata": {},
   "outputs": [
    {
     "name": "stdout",
     "output_type": "stream",
     "text": [
      "6713\n"
     ]
    }
   ],
   "source": [
    "\n",
    "def f(n,cache={}):\n",
    "  m = (10**9)+7\n",
    "  if n in cache:\n",
    "    return cache[n]\n",
    "  if n == 0:\n",
    "    cache[n] = 1\n",
    "  elif n ==1:\n",
    "    cache[n] = 1\n",
    "  else:\n",
    "    cache[n] = int((f(n-1)+7*f(n-2)+n/4)%m)\n",
    "  return cache[n]\n",
    "\n",
    "n = int(input())\n",
    "\n",
    "print(f(n))\n",
    "\n"
   ]
  },
  {
   "cell_type": "code",
   "execution_count": null,
   "metadata": {},
   "outputs": [],
   "source": []
  },
  {
   "cell_type": "markdown",
   "metadata": {},
   "source": [
    "# program 38\n",
    "Problem Statement:\n",
    "Alex is exploring a series and she came across a special series, in which\n",
    "\n",
    "f(N)=f(N-1)*f(N-1)+(N-2)*(N-2) mod 47\n",
    "\n",
    "where f(0) = 1. f(1)=1\n",
    "\n",
    "Your task is to help Alex find and return an integer value, representing the Nth  number in this special series.\n",
    "\n",
    "Input Specification:\n",
    "\n",
    "input1: An integer value N.\n",
    "\n",
    "Output Specification:\n",
    "\n",
    "Return an integer value, representing the Nth number in this special fibonacci series.\n",
    "\n",
    "Sample Input:\n",
    "\n",
    "4\n",
    "\n",
    "Sample Output:\n",
    "\n",
    "29"
   ]
  },
  {
   "cell_type": "code",
   "execution_count": 1,
   "metadata": {},
   "outputs": [
    {
     "name": "stdout",
     "output_type": "stream",
     "text": [
      "29\n"
     ]
    }
   ],
   "source": [
    "n = int(input())\n",
    "dp = [-1]*(n+1)\n",
    "def rec(n):\n",
    "  if n<2:\n",
    "    return 1\n",
    "  if dp[n] != -1:\n",
    "    return dp[n]\n",
    "  dp[n] = (rec(n-1)*rec(n-1)+rec(n-2)*rec(n-2))%47\n",
    "  return dp[n]\n",
    "\n",
    "print(rec(n))"
   ]
  },
  {
   "cell_type": "code",
   "execution_count": null,
   "metadata": {},
   "outputs": [],
   "source": []
  },
  {
   "cell_type": "code",
   "execution_count": null,
   "metadata": {},
   "outputs": [],
   "source": []
  },
  {
   "cell_type": "markdown",
   "metadata": {},
   "source": [
    "# program 39\n",
    "Problem Statement:\n",
    "Noah is given an integer array A of length N. He must perform the foliowing operations:\n",
    "\n",
    "Select any integer pair having sum equal to 18 from the array.\n",
    "\n",
    "Select the pair with maximum product such that the first element of the pair is greater than the second element of the pair.\n",
    "\n",
    "Your task is to help Noah find and return a pair in the form of an integer array, which satisfies the mentioned conditions.\n",
    "\n",
    "Input Specification:\n",
    "\n",
    "input1: An integer value N, representing the size of array A.\n",
    "\n",
    "Input2: An integer array A.\n",
    "\n",
    "Output Specification:\n",
    "\n",
    "Return  a pair in the form of an integer array, which satisfies the mentioned conditions.\n",
    "\n",
    "Sample Input:\n",
    "\n",
    "8\n",
    "\n",
    "11 12 2 8 10 11 9 8\n",
    "\n",
    "Sample Output:\n",
    "\n",
    "[10, 8]"
   ]
  },
  {
   "cell_type": "code",
   "execution_count": 2,
   "metadata": {},
   "outputs": [
    {
     "name": "stdout",
     "output_type": "stream",
     "text": [
      "[10, 8]\n"
     ]
    }
   ],
   "source": [
    "n = int(input())\n",
    "l = list(map(int,input().split()))\n",
    "res = [0,0]\n",
    "for i in range(n):\n",
    "  if (18-l[i]) in l[:i]:\n",
    "    if l[i]*(18-l[i])>res[-1]*res[-2]:\n",
    "      res = [l[i],18-l[i]]\n",
    "res.sort()\n",
    "print(res[::-1])"
   ]
  },
  {
   "cell_type": "code",
   "execution_count": null,
   "metadata": {},
   "outputs": [],
   "source": []
  },
  {
   "cell_type": "code",
   "execution_count": null,
   "metadata": {},
   "outputs": [],
   "source": []
  },
  {
   "cell_type": "markdown",
   "metadata": {},
   "source": [
    "# program 40\n",
    "21A31A0552\n",
    "21A31A0552\n",
    "Problem Statement:\n",
    "Adam has a pyramid of numbers. The pyramid structure is formed by arranging the numbers in the following pattern\n",
    "\n",
    "             1\n",
    "\n",
    "           212\n",
    "\n",
    "         32123\n",
    "\n",
    "       4321234\n",
    "\n",
    "     543212345\n",
    "\n",
    "N____212____N\n",
    "\n",
    "The first row contains the number 1. The second row contains the numbers 2, 1, and 2. The third row contains the numbers 3, 2, 1, 2, and 3. This pattern continues for subsequent rows, until it reaches N, which represents the height of the pyramid.\n",
    "\n",
    "Given height of pyramid N find the sum of the numbers in the pyramid and return the sum as the output.\n",
    "\n",
    "Sample Input:\n",
    "\n",
    "3\n",
    "\n",
    "Sample Output:\n",
    "\n",
    "17\n",
    "\n",
    "Explanation:\n",
    "\n",
    "             1\n",
    "\n",
    "           212\n",
    "\n",
    "         32123\n",
    "\n",
    "sum=1+2+1+2+3+2+1+2+3=17"
   ]
  },
  {
   "cell_type": "code",
   "execution_count": 4,
   "metadata": {},
   "outputs": [
    {
     "name": "stdout",
     "output_type": "stream",
     "text": [
      "17\n"
     ]
    }
   ],
   "source": [
    "n = int(input())\n",
    "s = 0\n",
    "for i in range(1,n+1):\n",
    "    s+=((i*(i+1))//2)*2-1\n",
    "\n",
    "print(s)"
   ]
  },
  {
   "cell_type": "code",
   "execution_count": null,
   "metadata": {},
   "outputs": [],
   "source": []
  },
  {
   "cell_type": "code",
   "execution_count": null,
   "metadata": {},
   "outputs": [],
   "source": []
  },
  {
   "cell_type": "markdown",
   "metadata": {},
   "source": [
    "# program 41\n",
    "\n",
    "Problem Statement:\n",
    "In a quaint village nestled between rolling hills, there were N different salt containers and N different pepper containers in two separate groups. Each container had a specific level of bitterness, represented by arrays A and B respectively. The task at hand was to form N combinations, each consisting of one salt container and one pepper container\n",
    "However, there was a twist to the challenge. The objective was to arrange the combinations in such a way that the maximum bitterness level, which is the sum of salt and pepper quantities in each combination, was minimized.\n",
    "Print the lowest possible maximum bitterness level.\n",
    "\n",
    "Input Format:\n",
    "The first line contains a single integer N, the number of salt and pepper containers in each group.\n",
    "\n",
    "The second line contains N space-separated integers, denoting the bitterness level of N salt containers.\n",
    "\n",
    "The third line contains N space-separated integers, denoting the bitterness level of N pepper containers. \n",
    "\n",
    "Sample Innput:\n",
    "\n",
    "3\n",
    "\n",
    "1 3 5\n",
    "\n",
    "2 8 6\n",
    "\n",
    "Sample Output:\n",
    "\n",
    "11"
   ]
  },
  {
   "cell_type": "code",
   "execution_count": null,
   "metadata": {},
   "outputs": [],
   "source": [
    "n = int(input())\n",
    "s = list(map(int,input().split()))\n",
    "p = list(map(int,input().split()))\n",
    "m = float(\"-inf\")\n",
    "for i in range(n):\n",
    "    m = max(m,s[i]+p[i])\n",
    "print(m)"
   ]
  },
  {
   "cell_type": "code",
   "execution_count": null,
   "metadata": {},
   "outputs": [],
   "source": []
  },
  {
   "cell_type": "markdown",
   "metadata": {},
   "source": [
    "# program 42\n",
    "Problem Statement:\n",
    "You are given an array A of N integers. The array A can be divided into two parts: the first part consists of the first 'i'  elements of A (where i ranges from 1 to N), and the second part consists of the last (N-i) elements of A\n",
    "\n",
    "Your task is to find and return  a new array named result of the same size as A, where each element of result[i] represents the absolute difference between the sum of the elements in the first part of A and the sum of the elements in the second part of A\n",
    "\n",
    "Note: For i= N,N-i=0.So, consider the sum of last N-i integers as 0 in this case\n",
    "\n",
    "Input Specifications:\n",
    "\n",
    "input1: An integer value representing the size of the array A.\n",
    "\n",
    " input2: An integer array A.\n",
    "\n",
    "Output Specification:\n",
    "\n",
    "Return a new integer array named result of the same size as A, where each element of result[i) represents the absolute difference between the sum of the elements in the first part A and the sum of the elements in the second part of A\n",
    "\n",
    "Sample Input:\n",
    "\n",
    "5\n",
    "\n",
    "1 2 3 4 5\n",
    "\n",
    "Sample Output:\n",
    "\n",
    "[13, 9, 3, 5, 15]"
   ]
  },
  {
   "cell_type": "code",
   "execution_count": 5,
   "metadata": {},
   "outputs": [
    {
     "name": "stdout",
     "output_type": "stream",
     "text": [
      "[13, 9, 3, 5, 15]\n"
     ]
    }
   ],
   "source": [
    "n = int(input())\n",
    "l = list(map(int,input().split()))\n",
    "total = sum(l)\n",
    "s = 0\n",
    "res = []\n",
    "for i in l:\n",
    "    s+=i\n",
    "    res.append(abs(2*s-total))\n",
    "\n",
    "print(res)"
   ]
  },
  {
   "cell_type": "code",
   "execution_count": null,
   "metadata": {},
   "outputs": [],
   "source": []
  },
  {
   "cell_type": "markdown",
   "metadata": {},
   "source": []
  },
  {
   "cell_type": "markdown",
   "metadata": {},
   "source": [
    "# program 43\n",
    "Problem Statement:\n",
    "You have a jar which initially contains N marbles. You can perform the below operations in any order:\n",
    "\n",
    "1. Taking out A number of marbles from the jar.\n",
    "\n",
    "2. Taking out B number of marbles from the jar.\n",
    "\n",
    "Your task is to find and return an integer value, representing the total number of unique positive number of marbles that can be left behind by performing these operations, including the initial number of marbles.\n",
    "\n",
    "Note:\n",
    "\n",
    "You can perform the above operations any number of times and in any order keeping in mind that the jor should never become empty.\n",
    "\n",
    "Input Specification:\n",
    "\n",
    "A single line containing space seperated integers N,A,B\n",
    "\n",
    "Sample Input:\n",
    "\n",
    "10 3 5\n",
    "\n",
    "Sample Output:\n",
    "\n",
    "6"
   ]
  },
  {
   "cell_type": "code",
   "execution_count": 6,
   "metadata": {},
   "outputs": [
    {
     "name": "stdout",
     "output_type": "stream",
     "text": [
      "6\n"
     ]
    }
   ],
   "source": [
    "s = []\n",
    "def rec(n):\n",
    "    if n<=0:\n",
    "        return\n",
    "    if n not in s:\n",
    "        s.append(n)\n",
    "    rec(n-a)\n",
    "    rec(n-b)\n",
    "\n",
    "n,a,b = map(int,input().split())\n",
    "rec(n)\n",
    "print(len(s))"
   ]
  },
  {
   "cell_type": "code",
   "execution_count": null,
   "metadata": {},
   "outputs": [],
   "source": []
  },
  {
   "cell_type": "code",
   "execution_count": null,
   "metadata": {},
   "outputs": [],
   "source": []
  },
  {
   "cell_type": "markdown",
   "metadata": {},
   "source": [
    "# program 44\n",
    "Problem Statement:\n",
    "Akshay has a number of toys and he decided to donate some of them to an NGO. After the donation, he still has some toys left. Write a program to help Akshay to determine the number of remaining toys.\n",
    "\n",
    "Example:\n",
    "\n",
    "Input: 50 45\n",
    "Output: The remaining number of toys = 5\n",
    "\n",
    "Input: 60 6\n",
    "Output: The remaining number of toys = 54"
   ]
  },
  {
   "cell_type": "code",
   "execution_count": 7,
   "metadata": {},
   "outputs": [
    {
     "name": "stdout",
     "output_type": "stream",
     "text": [
      "The remaining number of toys = 5\n"
     ]
    }
   ],
   "source": [
    "a,b = map(int,input().split())\n",
    "print(\"The remaining number of toys =\",a-b)"
   ]
  },
  {
   "cell_type": "code",
   "execution_count": null,
   "metadata": {},
   "outputs": [],
   "source": []
  },
  {
   "cell_type": "code",
   "execution_count": null,
   "metadata": {},
   "outputs": [],
   "source": []
  },
  {
   "cell_type": "markdown",
   "metadata": {},
   "source": [
    "# progarm 45\n",
    "Problem Statement:\n",
    " Given an integer N, your task is to find and return the number of sets of 3 positive integers a, b and c. that satisfy the following equation:\n",
    "\n",
    "a²+b²+ab+bc+ca =N\n",
    "\n",
    "Note: a, b and c ore positive integers, and their values can be the same.\n",
    "\n",
    "Input Specification:\n",
    "\n",
    "input1: An integer value N\n",
    "\n",
    "Output Specification:\n",
    "\n",
    "Return an integer value, representing the number of sets of three positive integers that satisfy the equation given above.\n",
    "\n",
    "Sample Input:\n",
    "\n",
    "6\n",
    "\n",
    "Sample Output:\n",
    "\n",
    "1\n",
    "\n",
    "Explanation:\n",
    "\n",
    "The only pair (a,b,c) possible is (1,1,1)"
   ]
  },
  {
   "cell_type": "code",
   "execution_count": 8,
   "metadata": {},
   "outputs": [
    {
     "name": "stdout",
     "output_type": "stream",
     "text": [
      "1\n"
     ]
    }
   ],
   "source": [
    "import math\n",
    "n = int(input())\n",
    "count = 0\n",
    "for i in range(int(n**0.5)):\n",
    "    for j in range(int(n**0.5)):\n",
    "        for k in range(int(n**0.5)):\n",
    "            if i**2+j**2+k**2+i*j+j*k+k*i == n:\n",
    "                count += 1\n",
    "\n",
    "print(count)"
   ]
  },
  {
   "cell_type": "code",
   "execution_count": null,
   "metadata": {},
   "outputs": [],
   "source": []
  },
  {
   "cell_type": "code",
   "execution_count": null,
   "metadata": {},
   "outputs": [],
   "source": []
  },
  {
   "cell_type": "markdown",
   "metadata": {},
   "source": [
    "# program 46 \n",
    "Problem Statement:\n",
    "Print the given pattern\n",
    "\n",
    "You are given a number N and you have to print the given pattern:\n",
    "\n",
    "For N=3\n",
    "3 3 3 2 2 2 1 1 1\n",
    "3 3 2 2 1 1\n",
    "3 2 1\n",
    "\n",
    "Sample Input:\n",
    "\n",
    "4\n",
    "\n",
    "Sample output:\n",
    "\n",
    "4 4 4 4 3 3 3 3 2 2 2 2 1 1 1 1\n",
    "\n",
    "4 4 4 3 3 3 2 2 2 1 1 1\n",
    "\n",
    "4 4 3 3 2 2 1 1\n",
    "\n",
    "4 3 2 1"
   ]
  },
  {
   "cell_type": "code",
   "execution_count": null,
   "metadata": {},
   "outputs": [],
   "source": [
    "\n",
    "n = int(input())\n",
    "for i in range(n,0,-1):\n",
    "    val = n\n",
    "    while val!=0:\n",
    "        for j in range(i):\n",
    "            print(val,end=\" \")\n",
    "        val -= 1\n",
    "    print()\n"
   ]
  },
  {
   "cell_type": "code",
   "execution_count": null,
   "metadata": {},
   "outputs": [],
   "source": []
  },
  {
   "cell_type": "markdown",
   "metadata": {},
   "source": [
    "# program 47\n",
    "Problem Statement:\n",
    "You are given an array A of size N. In one operation you can select any two elements from it, add their absolute difference in your score.\n",
    "\n",
    "Your task is to find and return an integer value, representing the maximum score.\n",
    "\n",
    "Note:\n",
    "\n",
    "Assume 1 based indexing\n",
    "\n",
    "The elements on which operation has been performed cannot be selected again.\n",
    "\n",
    "Input Specification:\n",
    "\n",
    "Input1: An integer value N, representing the size of array A\n",
    "\n",
    "input2: An integer array A\n",
    "\n",
    "Output Specification:\n",
    "\n",
    "Return an integer value, representing the maximum score.\n",
    "\n",
    "Sample Input:\n",
    "\n",
    "4\n",
    "\n",
    "1 2 3 4\n",
    "\n",
    "Sample Output:\n",
    "\n",
    "4"
   ]
  },
  {
   "cell_type": "code",
   "execution_count": 9,
   "metadata": {},
   "outputs": [
    {
     "name": "stdout",
     "output_type": "stream",
     "text": [
      "4\n"
     ]
    }
   ],
   "source": [
    "n = int(input())\n",
    "\n",
    "l = list(map(int,input().split()))\n",
    "\n",
    "l.sort()\n",
    "\n",
    "start = 0\n",
    "\n",
    "end = len(l)-1\n",
    "\n",
    "score = 0\n",
    "\n",
    "while(start<end):\n",
    "\n",
    "    score += l[end] - l[start]\n",
    "\n",
    "    start += 1\n",
    "\n",
    "    end -= 1\n",
    "\n",
    "print(score)\n"
   ]
  },
  {
   "cell_type": "code",
   "execution_count": null,
   "metadata": {},
   "outputs": [],
   "source": []
  },
  {
   "cell_type": "code",
   "execution_count": null,
   "metadata": {},
   "outputs": [],
   "source": []
  },
  {
   "cell_type": "markdown",
   "metadata": {},
   "source": [
    "# program 48\n",
    "\n",
    "Problem Statement:\n",
    "Prince participated in three Olympiads at school and received marks for all of them. He is interested in finding out the lowest mark he obtained among the three Olympiads. Write a program to find the minimum mark.\n",
    "\n",
    "Example:\n",
    "Input: 50 66 23\n",
    "Output: Smallest number is 23"
   ]
  },
  {
   "cell_type": "code",
   "execution_count": 10,
   "metadata": {},
   "outputs": [
    {
     "name": "stdout",
     "output_type": "stream",
     "text": [
      "Smallest number is 23\n"
     ]
    }
   ],
   "source": [
    "l = list(map(int,input().split()))\n",
    "print(\"Smallest number is\",min(l))"
   ]
  },
  {
   "cell_type": "code",
   "execution_count": null,
   "metadata": {},
   "outputs": [],
   "source": []
  },
  {
   "cell_type": "code",
   "execution_count": null,
   "metadata": {},
   "outputs": [],
   "source": []
  },
  {
   "cell_type": "markdown",
   "metadata": {},
   "source": [
    "# program 49\n",
    "Problem Statement:\n",
    ".You are provided with string str and your task is to shorten the string to the minimum length possible. The minimum length of the string has be attained by performing a set of operations that states that you could select two same characters and delete them but without disturbing the order in the shing which means that only the adjacent same letters can be deleted. For example, \"baaab\" can be reduced to \"bab\" in just one iteration.\n",
    "\n",
    "Your task is to shorten the length of the string str and print the reduced string and if all the characters are deleted then prist \"Empty String\".\n",
    "\n",
    "Input Format:\n",
    "\n",
    "The Input consists of a single line:\n",
    "\n",
    "The line contains string str\n",
    "\n",
    "The input will be read from the STDIN by the candidate\n",
    "\n",
    "Output Format:\n",
    "\n",
    "Print the modified string. If the modified string contains character, then print \"Empty String\".\n",
    "\n",
    "The output will be matched to the candidate's output printed on the STDOUT\n",
    "\n",
    "Sample Input 1:\n",
    "\n",
    "baaab\n",
    "\n",
    "Output:\n",
    "\n",
    "bab\n",
    "\n",
    "\n",
    "\n",
    "Sample Input 2:\n",
    "\n",
    "baab\n",
    "\n",
    "Output:\n",
    "\n",
    "Empty String"
   ]
  },
  {
   "cell_type": "code",
   "execution_count": 12,
   "metadata": {},
   "outputs": [
    {
     "name": "stdout",
     "output_type": "stream",
     "text": [
      "bab\n"
     ]
    }
   ],
   "source": [
    "s = input()\n",
    "\n",
    "stack = []\n",
    "for i in s:\n",
    "    if stack and stack[-1]==i:\n",
    "        stack.pop()\n",
    "    else:\n",
    "        stack.append(i)\n",
    "if stack:\n",
    "    print(\"\".join(stack))\n",
    "else:\n",
    "    print(\"Empty String\")"
   ]
  },
  {
   "cell_type": "code",
   "execution_count": null,
   "metadata": {},
   "outputs": [],
   "source": []
  },
  {
   "cell_type": "markdown",
   "metadata": {},
   "source": [
    "# program 50\n",
    "\n",
    "Problem Statement:\n",
    "There is a tournament in town. The rule of the game is such that the player with the highest number of goals wins. Three players compete at a time. The committee needs a program to determine the winner based on the highest number of goals scored. Write a program and help the committee to declare the winner with highest number of goals.\n",
    "\n",
    "Sample Input:\n",
    "\n",
    "1 3 4\n",
    "\n",
    "Sample Output:\n",
    "\n",
    "The largest number is: 4"
   ]
  },
  {
   "cell_type": "code",
   "execution_count": 1,
   "metadata": {},
   "outputs": [
    {
     "name": "stdout",
     "output_type": "stream",
     "text": [
      "The largest number is: 5\n"
     ]
    }
   ],
   "source": [
    "\n",
    "n = list(map(int,input().split()))\n",
    "print(\"The largest number is:\",max(n))"
   ]
  },
  {
   "cell_type": "code",
   "execution_count": null,
   "metadata": {},
   "outputs": [],
   "source": []
  },
  {
   "cell_type": "markdown",
   "metadata": {},
   "source": [
    "# Program 51:\n",
    "Problem Statement:\n",
    "Rotate a string one step means each word of that string is shifted by  one position left and the leftmost word will go to the rightmost position. You are given a string str and an integer k. You are required to rotate the string str as mentioned above, by k steps and print the rotated string.\n",
    "\n",
    "Note:\n",
    "\n",
    "If str is empty, print NULL.\n",
    "\n",
    "If k is 0, print the original string.\n",
    "\n",
    "Assumption:\n",
    "\n",
    "Words in string str are separated by a single space.\n",
    "\n",
    "Input Format:\n",
    "\n",
    "The input consists of the 3 lines:\n",
    "\n",
    "The first line contains an integer, i.e. string length of str\n",
    "\n",
    "The second line contains the string, i.e. str.\n",
    "\n",
    "The third line contains an integer i.e. the number of steps.\n",
    "\n",
    "The input will be read from the STDIN by the candidate\n",
    "\n",
    "Output Format:\n",
    "\n",
    "The output consists of the rotated string in a single line.\n",
    "\n",
    "The output will be matched to the candidate's output printed on the STDOUT\n",
    "\n",
    "Sample Input:\n",
    "\n",
    "16\n",
    "\n",
    "helloworldpython\n",
    "\n",
    "5\n",
    "\n",
    "Sample Output:\n",
    "\n",
    "worldpythonhello"
   ]
  },
  {
   "cell_type": "code",
   "execution_count": 2,
   "metadata": {},
   "outputs": [
    {
     "name": "stdout",
     "output_type": "stream",
     "text": [
      "worldpythonhello\n"
     ]
    }
   ],
   "source": [
    "n = int(input())\n",
    "word = input()\n",
    "d = int(input())\n",
    "\n",
    "if not word:\n",
    "    print(\"NULL\")\n",
    "elif d == 0:\n",
    "    print(word)\n",
    "else:\n",
    "    d = d%len(word)\n",
    "    print(word[d:]+word[:d])\n",
    "\n"
   ]
  },
  {
   "cell_type": "code",
   "execution_count": null,
   "metadata": {},
   "outputs": [],
   "source": []
  },
  {
   "cell_type": "code",
   "execution_count": null,
   "metadata": {},
   "outputs": [],
   "source": []
  },
  {
   "cell_type": "markdown",
   "metadata": {},
   "source": [
    "# program 52\n",
    "Problem Statement:\n",
    "You are provided with a number N. Count and print the number of integers x that follow the following\n",
    "\n",
    "Conditions:\n",
    "\n",
    "1<=x<=N\n",
    "x have odd number of digits.\n",
    "Input Format:\n",
    "\n",
    "The input consists of a single line:\n",
    "\n",
    "• The line contains a single integer denoting N.\n",
    "\n",
    "Input will be read from the STDIN by the candidate\n",
    "\n",
    "Output Format:\n",
    "\n",
    "Print the count of integers fulfilling the given conditions.\n",
    "\n",
    "The output will be matched to the candidate's output printed on the STDOUT\n",
    "\n",
    "Constraints:\n",
    "\n",
    "1<=N<=1000000\n",
    "\n",
    "Sample Input:\n",
    "\n",
    "10\n",
    "\n",
    "Sample Output:\n",
    "\n",
    "9"
   ]
  },
  {
   "cell_type": "code",
   "execution_count": 3,
   "metadata": {},
   "outputs": [
    {
     "name": "stdout",
     "output_type": "stream",
     "text": [
      "9\n"
     ]
    }
   ],
   "source": [
    "\n",
    "n = int(input())\n",
    "count = 0\n",
    "mi = 1\n",
    "ma = 9\n",
    "while 1:\n",
    "    if n<mi:\n",
    "        break\n",
    "    if n <= ma:\n",
    "        count += (n-mi)+1\n",
    "        break\n",
    "    count += (ma-mi)+1\n",
    "    mi = mi * 100\n",
    "    ma = ma*100+99\n",
    "\n",
    "print(count)"
   ]
  },
  {
   "cell_type": "code",
   "execution_count": null,
   "metadata": {},
   "outputs": [],
   "source": []
  },
  {
   "cell_type": "code",
   "execution_count": null,
   "metadata": {},
   "outputs": [],
   "source": []
  },
  {
   "cell_type": "markdown",
   "metadata": {},
   "source": [
    "# program 53\n",
    "\n",
    "Problem Statement:\n",
    "Write a program to identify whether the given number N is palindrome based upon the following operations:\n",
    "\n",
    "Add the given number and its reverse.\n",
    "\n",
    "Check whether the obtained sum after the first operation is a palindrome or not and if not then repeat the above operation.\n",
    "\n",
    "The given operation will continue until a palindromic number is found. Print the resultant palindromic number as the output.\n",
    "\n",
    "Note:\n",
    "\n",
    "Palindrome: A sequence of letters/characters which reads the same backward and forwards. A single letter/character is also considered a palindrome.\n",
    "\n",
    "Input Format:\n",
    "\n",
    "The input consists of a single line:\n",
    "\n",
    "The line contains a single integer denoting N.\n",
    "\n",
    "The input will be read from the STDIN by the candidate\n",
    "\n",
    "Output Format:\n",
    "\n",
    "Print the resultant palindromic number for the given input. The output will be matched to the candidate's output\n",
    "\n",
    "Sample Input:\n",
    "\n",
    "28\n",
    "\n",
    "Sample Output:\n",
    "\n",
    "121\n",
    "\n",
    "Explanation:\n",
    "\n",
    "Reverse of 28 is 82\n",
    "\n",
    "28+82=110\n",
    "\n",
    "Reverse of 110 is 011\n",
    "\n",
    "110+11=121\n",
    "\n",
    "So 121 is a palindrome. "
   ]
  },
  {
   "cell_type": "code",
   "execution_count": 4,
   "metadata": {},
   "outputs": [
    {
     "name": "stdout",
     "output_type": "stream",
     "text": [
      "121\n"
     ]
    }
   ],
   "source": [
    "n=int(input())\n",
    "def ispalindrome(n):\n",
    "    start=0\n",
    "    end=len(n)-1\n",
    "    while start<end:\n",
    "        if n[start]!=n[end]:\n",
    "            return False\n",
    "        start+=1\n",
    "        end-=1\n",
    "    return True\n",
    "while 1:\n",
    "    reverse=str(n)\n",
    "    n=n+int(reverse[-1::-1])\n",
    "    if ispalindrome(str(n)):\n",
    "        print(n)\n",
    "        break\n",
    "        "
   ]
  },
  {
   "cell_type": "code",
   "execution_count": null,
   "metadata": {},
   "outputs": [],
   "source": []
  },
  {
   "cell_type": "code",
   "execution_count": null,
   "metadata": {},
   "outputs": [],
   "source": []
  },
  {
   "cell_type": "markdown",
   "metadata": {},
   "source": [
    "# program 54\n",
    "\n",
    "Problem Statement:\n",
    "You are provided with a two-dimensional integer array arr of m rows and n columns as input. Print the 2-D array after sorting.\n",
    "\n",
    "Input Format:\n",
    "\n",
    "Input is given in the following format:\n",
    "\n",
    "The first line contains an integer m, i.e. the number of rows.\n",
    "\n",
    "The second line contains an integer n, i.e. the number of columns.\n",
    "\n",
    "The next m lines each contain n integer elements of arr separated by space.\n",
    "\n",
    "Input will be read from the STDIN by the candidate\n",
    "\n",
    "Output Format:\n",
    "\n",
    "Output consist of m lines:\n",
    "\n",
    "The m lines each contain n elements of arr separated by space.\n",
    "\n",
    "The output will be matched to the candidate's output printed on the STDOUT\n",
    "\n",
    "Constraints:\n",
    "\n",
    "0 < number of rows of 2-D array ≤ 1000\n",
    "\n",
    "0 number of columns of 2-D array ≤ 1000\n",
    "\n",
    "-10° value of each element of arr < 10°"
   ]
  },
  {
   "cell_type": "code",
   "execution_count": null,
   "metadata": {},
   "outputs": [],
   "source": [
    "import sys\n",
    "input = sys.stdin.read\n",
    "\n",
    "def main():\n",
    "    data = input().split()\n",
    "    m = int(data[0])\n",
    "    n = int(data[1])\n",
    "    arr = []\n",
    "    idx = 2\n",
    "    for i in range(m):\n",
    "        row = [int(data[idx+j]) for j in range(n)]\n",
    "        arr.append(row)\n",
    "        idx += n\n",
    "        \n",
    "    flat_list = [item for sublist in arr for item in sublist]\n",
    "    flat_list.sort()\n",
    "    sorted_arr = []\n",
    "    for i in range(m):\n",
    "        sorted_arr.append(flat_list[i*n:(i+1)*n])\n",
    "        \n",
    "    for j in sorted_arr:\n",
    "        print(\" \".join(map(str,j)))\n",
    "\n",
    "main()"
   ]
  },
  {
   "cell_type": "code",
   "execution_count": null,
   "metadata": {},
   "outputs": [],
   "source": []
  },
  {
   "cell_type": "code",
   "execution_count": null,
   "metadata": {},
   "outputs": [],
   "source": []
  },
  {
   "cell_type": "markdown",
   "metadata": {},
   "source": [
    "# program 55\n",
    "\n",
    "Problem Statement:\n",
    "A perfect number is a positive integer that is equal to the sum of its proper positive divisors, i.e. the sum of its positive divisors excluding the number itself.\n",
    "\n",
    "You are given an integer n. Print '1' if n is a perfect number, else print the sum of the proper divisors of n.\n",
    "\n",
    "Input Format:\n",
    "\n",
    "The input consists of a single line:\n",
    "\n",
    "The line contains an integer denoting in.\n",
    "\n",
    "The input will be read from the STDIN by the candidate\n",
    "\n",
    "Output Format:\n",
    "\n",
    "Print \"1' if n is a perfect number, else print the sum of the proper divisors of n.\n",
    "\n",
    "The output will be matched to the candidate's output printed on the STDOUT\n",
    "\n",
    "Constraints:\n",
    "\n",
    "0 < n < 109\n",
    "\n",
    "Sample Input:\n",
    "\n",
    "6\n",
    "\n",
    "Sample Output:\n",
    "\n",
    "1\n",
    "\n",
    "Explanation:\n",
    "\n",
    "The proper divisors of 6 are 1,2 and 3\n",
    "\n",
    "sum= 1+2+3=6\n",
    "\n",
    "So it is a perfect number"
   ]
  },
  {
   "cell_type": "code",
   "execution_count": 5,
   "metadata": {},
   "outputs": [
    {
     "name": "stdout",
     "output_type": "stream",
     "text": [
      "1\n"
     ]
    }
   ],
   "source": [
    "n = int(input())\n",
    "sum = 0\n",
    "for i in range(1,n-1):\n",
    "  if n%i == 0:\n",
    "    sum += i\n",
    "if sum == n:\n",
    "  print(1)\n",
    "else:\n",
    "  print(sum)"
   ]
  },
  {
   "cell_type": "code",
   "execution_count": null,
   "metadata": {},
   "outputs": [],
   "source": []
  },
  {
   "cell_type": "code",
   "execution_count": null,
   "metadata": {},
   "outputs": [],
   "source": []
  },
  {
   "cell_type": "markdown",
   "metadata": {},
   "source": [
    "# program 56\n",
    "Problem Statement:\n",
    "You are given two arrays arr1 & arr2 of length N, one containing integers and the other containing paired indices respectively. Your task is to rearrange the elements in the arr1 based on the paired indices specified in the array arr2. The result array should contain elements in the order specified by the indices.\n",
    "\n",
    "Note:\n",
    "\n",
    "arr1 and arr2 contain distinct integers.\n",
    "use 0-based indexing\n",
    "Input Format:\n",
    "\n",
    "The input consists of three lines.\n",
    "\n",
    "The first line contains integer N represents length of each array.\n",
    "\n",
    "The second line consists N space separated integers denoting elements of array arr1.\n",
    "\n",
    "The third line consists N space separated integers denoting elements of array arr2.\n",
    "\n",
    "The input will be read from the STDIN by the candidate\n",
    "\n",
    "Output Format:\n",
    "\n",
    "Print an array containing the elements from arr1 rearranged based on the indices specified in arr2. The output will be matched to the candidate's output printed on the STDOUT\n",
    "\n",
    "Constraints:\n",
    "\n",
    "1 <= N <= 105.\n",
    "\n",
    "-109 <= arr1[i] <= 109.\n",
    "\n",
    "Sample Input:\n",
    "\n",
    "5\n",
    "\n",
    "10 20 30 40 50\n",
    "\n",
    "4 2 0 3 1\n",
    "\n",
    "Sample Output:\n",
    "\n",
    "50 30 10 40 20\n"
   ]
  },
  {
   "cell_type": "code",
   "execution_count": 1,
   "metadata": {},
   "outputs": [
    {
     "name": "stdout",
     "output_type": "stream",
     "text": [
      "50 30 10 40 20 "
     ]
    }
   ],
   "source": [
    "n = int(input())\n",
    "nums = list(map(int,input().split()))\n",
    "indexes = list(map(int,input().split()))\n",
    "for i in indexes:\n",
    "    print(nums[i], end=\" \")"
   ]
  },
  {
   "cell_type": "code",
   "execution_count": null,
   "metadata": {},
   "outputs": [],
   "source": []
  },
  {
   "cell_type": "code",
   "execution_count": null,
   "metadata": {},
   "outputs": [],
   "source": []
  },
  {
   "cell_type": "markdown",
   "metadata": {},
   "source": [
    "# program 57\n",
    "\n",
    "Problem Statement:\n",
    "Problem Statement:\n",
    "You are given a string str of length n and an integer k. Your task is to count and print the number of substrings of str which contain at most k 0s and at most k 1s.\n",
    "Note: if k = 0 then print 0.\n",
    "\n",
    "Input Format:\n",
    "The input consists of three lines:\n",
    "- The first line contains an integer, i.e. n.\n",
    "- The second line contains n space-separated integers representing the elements of the array arr.\n",
    "- The third line contains the integer k.\n",
    "The input will be read from the STDIN by the candidate.\n",
    "Output Format:\n",
    "Print the number of substrings of str which contain at most k 0s and at most k 1s.\n",
    "The output will be matched to the candidate's output printed on the STDOUT.\n",
    "Constraints:\n",
    "\n",
    " 1 <= n <= 105\n",
    "0 <= k <= 102\n",
    "Sample Input:\n",
    "\n",
    "5\n",
    "\n",
    "11010\n",
    "\n",
    "1\n",
    "\n",
    "Sample Output:\n",
    "\n",
    "8\n",
    "\n",
    "Explanation:\n",
    "\n",
    "1,1,10,0,01,1,10,0 are the substrings."
   ]
  },
  {
   "cell_type": "code",
   "execution_count": null,
   "metadata": {},
   "outputs": [],
   "source": [
    "def c(s,k):\n",
    "    n=len(s)\n",
    "    a=0\n",
    "    b=0\n",
    "    st=0\n",
    "    t=0\n",
    "    for i in range(n):\n",
    "        if s[i]==\"0\":\n",
    "            a+=1\n",
    "        elif s[i]==\"1\":\n",
    "            b+=1\n",
    "        while a>k or b>k:\n",
    "            if s[st]==\"0\":\n",
    "                a-=1\n",
    "            elif s[st]==\"1\":\n",
    "                b-=1\n",
    "            st+=1\n",
    "        t+=i-st+1\n",
    "    return t\n",
    "def main():\n",
    "    import sys\n",
    "    input=sys.stdin.read\n",
    "    da=input().strip().split(\"\\n\")\n",
    "    n=int(da[0].strip())\n",
    "    s=da[1].strip()\n",
    "    k=int(da[2].strip())\n",
    "    if k==0:\n",
    "        print(k)\n",
    "    else:\n",
    "        res=c(s,k)\n",
    "        print(res)\n",
    "if __name__==\"__main__\":\n",
    "    main()"
   ]
  },
  {
   "cell_type": "code",
   "execution_count": null,
   "metadata": {},
   "outputs": [],
   "source": []
  },
  {
   "cell_type": "code",
   "execution_count": null,
   "metadata": {},
   "outputs": [],
   "source": []
  },
  {
   "cell_type": "code",
   "execution_count": null,
   "metadata": {},
   "outputs": [],
   "source": []
  },
  {
   "cell_type": "markdown",
   "metadata": {},
   "source": [
    "# program 58\n",
    "\n",
    "Problem Statement:\n",
    "A person's body mass index is a simple calculation based on height and weight that classifies the person as underweight, overweight, or normal.\n",
    "\n",
    "The formula for the metric unit is, BMI = weight in kilograms / (height in meters)^2\n",
    "\n",
    "You are given an integer weight and a floating-point number height of a person as input. Calculate the BMI of the person and print the person's BMI category as per the given rules:\n",
    "\n",
    "1. IF BMI < 18, print 0.\n",
    "\n",
    "2. If 18 <= BMI < 25, print 1.\n",
    "\n",
    "3. IF 25<=BMI < 30, print 2.\n",
    "\n",
    "4. If 30 <= BMI < 40, print 3.\n",
    "\n",
    "5. If BMI>= 40, print 4.\n",
    "\n",
    "Note:\n",
    "\n",
    "The unit of weight is Kilogram.\n",
    "\n",
    "The unit of height is meter.\n",
    "\n",
    "Compute BMI as a floating-point.\n",
    "\n",
    "Input Format:\n",
    "\n",
    "Each test case consists of two lines of input\n",
    "\n",
    "The first line of input contains an integer. i.e. weight in kilograms.\n",
    "\n",
    "the second line contains a float number , i.e, height in meters.\n",
    "\n",
    "Input will be read from the STDIN by the candidate\n",
    "\n",
    "Sample Input:\n",
    "\n",
    "60\n",
    "\n",
    "1.75\n",
    "Sample Output:\n",
    "\n",
    "1"
   ]
  },
  {
   "cell_type": "code",
   "execution_count": 1,
   "metadata": {},
   "outputs": [
    {
     "name": "stdout",
     "output_type": "stream",
     "text": [
      "1\n"
     ]
    }
   ],
   "source": [
    "m=input()\n",
    "n=input()\n",
    "i=float(m)//float(n)**2\n",
    "if i<18:\n",
    "    print(0)\n",
    "elif i>=18 and i<25:\n",
    "    print('1')\n",
    "elif i>=25 and i<30:\n",
    "    print(\"2\")\n",
    "elif i>=30 and i < 40:\n",
    "    print(\"3\")\n",
    "else:\n",
    "    print(\"4\")"
   ]
  },
  {
   "cell_type": "code",
   "execution_count": null,
   "metadata": {},
   "outputs": [],
   "source": []
  },
  {
   "cell_type": "code",
   "execution_count": null,
   "metadata": {},
   "outputs": [],
   "source": []
  },
  {
   "cell_type": "markdown",
   "metadata": {},
   "source": [
    "# program 59\n",
    "\n",
    "Problem Statement:\n",
    "You are given 3 arrays of size N, N-1, and N-2 namely A, B, and C respectively. You have to print two integers X and Y in separate lines such that-\n",
    "\n",
    "1. X is an element of A but not an element of B and\n",
    "\n",
    "2. Y is an element of B but not an element of C.\n",
    "\n",
    "Note:\n",
    "\n",
    "The array B contains all the elements of A except for exactly one element X.\n",
    "\n",
    "The array C contains all the elements of B except for exactly one element Y.\n",
    "\n",
    "Input Format:\n",
    "\n",
    "The input is given in the following format:\n",
    "\n",
    "The first line contains an integer N.\n",
    "\n",
    "The second line contains N space separated integers denoting the elements of A.\n",
    "\n",
    "The third line contains N space separated integers denoting the elements of B.\n",
    "\n",
    "The fourth line contains N space separated integers denoting the elements of C.\n",
    "\n",
    "Sample Input:\n",
    "\n",
    "5\n",
    "\n",
    "1 2 3 4 5\n",
    "\n",
    "1 4 2 5\n",
    "\n",
    "1 5 4\n",
    "\n",
    "Sample Output:\n",
    "3\n",
    "\n",
    "2\n"
   ]
  },
  {
   "cell_type": "code",
   "execution_count": 2,
   "metadata": {},
   "outputs": [
    {
     "name": "stdout",
     "output_type": "stream",
     "text": [
      "3\n",
      "2\n"
     ]
    }
   ],
   "source": [
    "n=int(input())\n",
    "l=list(map(int,input().split()))\n",
    "m=list(map(int,input().split()))\n",
    "n=list(map(int,input().split()))\n",
    "for i in l:\n",
    "    if i not in  m:\n",
    "        print(i)\n",
    "for i in m:\n",
    "    if i not in n:\n",
    "        print(i)"
   ]
  },
  {
   "cell_type": "code",
   "execution_count": null,
   "metadata": {},
   "outputs": [],
   "source": []
  },
  {
   "cell_type": "code",
   "execution_count": null,
   "metadata": {},
   "outputs": [],
   "source": []
  },
  {
   "cell_type": "markdown",
   "metadata": {},
   "source": [
    "# program 60\n",
    "\n",
    "Problem Statement:\n",
    "You are given two arrays arr1 and arr2 of size N and M respectively. Your task is to performs the following operations:\n",
    "\n",
    "Find the intersection of the two arrays, which Includes all elements that are common to both arrays.\n",
    "\n",
    "Find the union of the two arrays, which includes all unique elements from both arrays, with duplicates removed.\n",
    "\n",
    "Print the sorted intersection and union as separate arrays.\n",
    "\n",
    "Sample Input:\n",
    "\n",
    "1 2 3 4\n",
    "\n",
    "3 4 5 6\n",
    "\n",
    "Sample Output:\n",
    "\n",
    "[3, 4]\n",
    "\n",
    "[1, 2, 3, 4, 5, 6]\n",
    "\n"
   ]
  },
  {
   "cell_type": "code",
   "execution_count": 3,
   "metadata": {},
   "outputs": [
    {
     "name": "stdout",
     "output_type": "stream",
     "text": [
      "[3, 4]\n",
      "[1, 2, 3, 4, 5, 6]\n"
     ]
    }
   ],
   "source": [
    "l=list(map(int,input().split()))\n",
    "m=list(map(int,input().split()))\n",
    "l=set(l)\n",
    "m=set(m)\n",
    "print(list(l.intersection(m)))\n",
    "print(list(l.union(m)))"
   ]
  },
  {
   "cell_type": "code",
   "execution_count": null,
   "metadata": {},
   "outputs": [],
   "source": []
  },
  {
   "cell_type": "code",
   "execution_count": null,
   "metadata": {},
   "outputs": [],
   "source": []
  },
  {
   "cell_type": "markdown",
   "metadata": {},
   "source": [
    "# program 61\n",
    "\n",
    "Problem Statement:\n",
    "You are given an array arr of length n. Find and print the element at the mid-index of arr ignoring all the indices at which negative numbers are present in the array.\n",
    "\n",
    "Note:\n",
    "\n",
    "In case there are two mid indices, print the element at the smaller index.\n",
    "\n",
    "You may assume that there will be at least one positive number in arr.\n",
    "\n",
    "Input Format:\n",
    "\n",
    "The input consists of two lines:\n",
    "\n",
    "The first line contains a single Integer denoting n.\n",
    "\n",
    "The second line contains n space-separated integers denoting arr.\n",
    "\n",
    "Sample Input:\n",
    "\n",
    "5\n",
    "\n",
    "1 -2 3 -4 5\n",
    "\n",
    "Sample Output:\n",
    "\n",
    "3"
   ]
  },
  {
   "cell_type": "code",
   "execution_count": 4,
   "metadata": {},
   "outputs": [
    {
     "name": "stdout",
     "output_type": "stream",
     "text": [
      "3\n"
     ]
    }
   ],
   "source": [
    "import math\n",
    "n=int(input())\n",
    "l=list(map(int,input().split()))\n",
    "m=math.floor(n/2)\n",
    "if n==0:\n",
    "    print(-1)\n",
    "else:\n",
    "    print(l[m])"
   ]
  },
  {
   "cell_type": "code",
   "execution_count": null,
   "metadata": {},
   "outputs": [],
   "source": []
  },
  {
   "cell_type": "markdown",
   "metadata": {},
   "source": [
    "# program 62\n",
    "\n",
    "Problem Statement:\n",
    "Anna plays video games everyday. To complete one game, Anna requires 10 minutes. She has N days to play the game. On each ith day, she has A[i] free hours. Find the maximum number of games that she can complete in N days.\n",
    "\n",
    "Input Format:\n",
    "The input consists of two lines:\n",
    "- The first line contains a single integer N denoting the number of days.\n",
    "- The second line contains N space-separated integers denoting the number of free hours.\n",
    "The input will be read from the STDIN by the candidate.\n",
    "\n",
    "Output format:\n",
    "Print the maximum number of games anna can play in N days.\n",
    "The output will be matched to the candidate's output printed on the STDOUT.\n",
    "\n",
    "Constraints:\n",
    "1 <= N <= 10^3\n",
    "\n",
    "Example:\n",
    "Input: \n",
    "3\n",
    "2 4 5\n",
    "Output:\n",
    "66\n",
    "Explanation: \n",
    "On first day, Anna will play 12 games, on second day. 24 games, and on third she plays 30 games. So, the total becomes 66.\n",
    "Sample input:\n",
    "2\n",
    "11 12\n",
    "Sample Output:\n",
    "138"
   ]
  },
  {
   "cell_type": "code",
   "execution_count": 5,
   "metadata": {},
   "outputs": [
    {
     "name": "stdout",
     "output_type": "stream",
     "text": [
      "138\n"
     ]
    }
   ],
   "source": [
    "t = int(input())\n",
    "l = list(map(int,input().split()))\n",
    "total = []\n",
    "for i in l:\n",
    "  total.append(i*6)\n",
    "\n",
    "print(sum(total))\n"
   ]
  },
  {
   "cell_type": "code",
   "execution_count": null,
   "metadata": {},
   "outputs": [],
   "source": []
  },
  {
   "cell_type": "code",
   "execution_count": null,
   "metadata": {},
   "outputs": [],
   "source": []
  },
  {
   "cell_type": "markdown",
   "metadata": {},
   "source": [
    "# program 63\n",
    "Problem Statement:\n",
    " You have given an array of integers. Your task is to write a program to sort the elements such that all even elements appear first, followed by all odd elements, while maintaining the relative order of even and elements. \n",
    "\n",
    "Input:\n",
    "\n",
    "An integer N (1 <= N < 1000) representing the elements in the array.\n",
    "\n",
    "N integers a1, a2.......aN (-10^5<= ai<=10^5) representing the elements of the array\n",
    "\n",
    "Sample Input:\n",
    "\n",
    "7\n",
    "\n",
    "-1 2 -3 4 -5 6 7\n",
    "\n",
    "Sample Output:\n",
    "\n",
    "[2, 4,6, -1, -3, -5, 7]\n"
   ]
  },
  {
   "cell_type": "code",
   "execution_count": 6,
   "metadata": {},
   "outputs": [
    {
     "name": "stdout",
     "output_type": "stream",
     "text": [
      "[2, 4, 6, -1, -3, -5, 7]\n"
     ]
    }
   ],
   "source": [
    "n=int(input())\n",
    "l=list(map(int,input().split()))\n",
    "m=[]\n",
    "k=[]\n",
    "for i in range(n):\n",
    "    if l[i]%2==0:\n",
    "        m.append(l[i])\n",
    "    else:\n",
    "        k.append(l[i])\n",
    "print(m+k)"
   ]
  },
  {
   "cell_type": "code",
   "execution_count": null,
   "metadata": {},
   "outputs": [],
   "source": []
  },
  {
   "cell_type": "code",
   "execution_count": null,
   "metadata": {},
   "outputs": [],
   "source": []
  },
  {
   "cell_type": "markdown",
   "metadata": {},
   "source": [
    "# progrram 64\n",
    "Problem Statement:\n",
    "You have given an Number N and you have to find out if you divide this N into two parts both the parts should be even.\n",
    "\n",
    "If both the parts come even retum \"YES\"\n",
    "\n",
    "If its not possible to divide in two even numbers then retum \"NO\"\n",
    "\n",
    "Sample Input:\n",
    "\n",
    "11\n",
    "\n",
    "Sample Output:\n",
    "\n",
    "NO"
   ]
  },
  {
   "cell_type": "code",
   "execution_count": 7,
   "metadata": {},
   "outputs": [
    {
     "name": "stdout",
     "output_type": "stream",
     "text": [
      "NO\n"
     ]
    }
   ],
   "source": [
    "n=int(input())\n",
    "if n>2 and  n%2==0:\n",
    "    print(\"YES\")\n",
    "else:\n",
    "    print(\"NO\")"
   ]
  },
  {
   "cell_type": "code",
   "execution_count": null,
   "metadata": {},
   "outputs": [],
   "source": []
  },
  {
   "cell_type": "code",
   "execution_count": null,
   "metadata": {},
   "outputs": [],
   "source": []
  },
  {
   "cell_type": "markdown",
   "metadata": {},
   "source": [
    "# program 65\n",
    "\n",
    "Problem Statement:\n",
    "Once upon a time in a candy store, there were colorful candies of various flavors. Each candy had a price tag, and the candies were arranged on the shelves in a certain order. Customers came in one by one, and each customer wanted to buy as many candies as they could with a fixed amount of money.\n",
    "\n",
    "Input format:\n",
    "\n",
    "The first line contains an integer which reprsents the no of candies.\n",
    "\n",
    "The second line contain space seperated integers which reprsent the price of each candy.\n",
    "\n",
    "The third line contains an integer which reprsents the money the user has.\n",
    "\n",
    "\n",
    "\n",
    "Example:\n",
    "\n",
    "5\n",
    "\n",
    "1 2 3 4 5\n",
    "\n",
    "10\n",
    "\n",
    "Sample output:\n",
    "\n",
    "4"
   ]
  },
  {
   "cell_type": "code",
   "execution_count": 8,
   "metadata": {},
   "outputs": [
    {
     "name": "stdout",
     "output_type": "stream",
     "text": [
      "4\n"
     ]
    }
   ],
   "source": [
    "n=int(input())\n",
    "l=list(map(int,input().split()))\n",
    "m=int(input())\n",
    "l.sort()\n",
    "s=0\n",
    "t=0\n",
    "for i in l:\n",
    "    if s+i<=m:\n",
    "        s+=i\n",
    "        t+=1\n",
    "    else:\n",
    "        break\n",
    "print(t)\n",
    "    \n",
    "        "
   ]
  },
  {
   "cell_type": "code",
   "execution_count": null,
   "metadata": {},
   "outputs": [],
   "source": []
  },
  {
   "cell_type": "code",
   "execution_count": null,
   "metadata": {},
   "outputs": [],
   "source": []
  },
  {
   "cell_type": "markdown",
   "metadata": {},
   "source": [
    "# program 66\n",
    "Problem Statement:\n",
    "You have been given an array containing N distinct integers taken from the range 1 to N+1. This means there is one Integer missing from the range. Your task is to write a program to find and return the missing integer.,\n",
    "\n",
    "Input:\n",
    "\n",
    "An integer N (1 <= N <= 10^5) representing the number of elements in an array\n",
    "\n",
    "The second line contains n space seperated integers.\n",
    "\n",
    "Sample Input:\n",
    "\n",
    "5\n",
    "\n",
    "6 4 1 3 5 7\n",
    "\n",
    "Sample Output:\n",
    "\n",
    "2\n"
   ]
  },
  {
   "cell_type": "code",
   "execution_count": 9,
   "metadata": {},
   "outputs": [
    {
     "name": "stdout",
     "output_type": "stream",
     "text": [
      "2\n"
     ]
    }
   ],
   "source": [
    "t = int(input())\n",
    "l = list(map(int,input().split()))\n",
    "mi = min(l)\n",
    "ma = max(l)\n",
    "res = 0\n",
    "for i in range(mi,ma):\n",
    "    if i not in l:\n",
    "        res = i\n",
    "\n",
    "print(res)"
   ]
  },
  {
   "cell_type": "code",
   "execution_count": null,
   "metadata": {},
   "outputs": [],
   "source": []
  },
  {
   "cell_type": "code",
   "execution_count": null,
   "metadata": {},
   "outputs": [],
   "source": []
  },
  {
   "cell_type": "markdown",
   "metadata": {},
   "source": [
    "# program 67\n",
    "Problem Statement:\n",
    " Raju is passionate about mathematics and has created an intriguing problem. He has a circle with its center at coordinates (x, y) and a radius of r. He wishes to move the center of the circle to a specific target location (x, y). Raju can attach a pin to the edge of the circle at a specific point, rotate the circle around the pin at any angle. and then remove the pin. The challenge is to help Raju determine the minimum number of steps required to move the center of the circle to the destination point\n",
    "\n",
    "\n",
    "\n",
    "Sample input:\n",
    "\n",
    "5 0 0 10 0\n",
    "\n",
    "Sample Output:\n",
    "\n",
    "1\n"
   ]
  },
  {
   "cell_type": "code",
   "execution_count": 10,
   "metadata": {},
   "outputs": [
    {
     "name": "stdout",
     "output_type": "stream",
     "text": [
      "1\n"
     ]
    }
   ],
   "source": [
    "l=list(map(int,input().split()))\n",
    "if (l[0])>0:\n",
    "    print(1)\n",
    "else:\n",
    "    print(0)"
   ]
  },
  {
   "cell_type": "code",
   "execution_count": null,
   "metadata": {},
   "outputs": [],
   "source": []
  },
  {
   "cell_type": "markdown",
   "metadata": {},
   "source": [
    "# program 67\n",
    "\n",
    "Problem Statement:\n",
    "You are given an integer 'n'. Write a Python function to calculate and return the sum of the digits in 'n' after converting it to its binary representation.\n",
    "\n",
    "Sample Input:\n",
    "\n",
    "15\n",
    "\n",
    "Sample Output:\n",
    "\n",
    "4\n",
    "\n",
    "Explanation:\n",
    "\n",
    "15, which has a binary representation of 1111, should return 4 as the sum of digits in binary representation is 4"
   ]
  },
  {
   "cell_type": "code",
   "execution_count": 16,
   "metadata": {},
   "outputs": [
    {
     "name": "stdout",
     "output_type": "stream",
     "text": [
      "4\n"
     ]
    }
   ],
   "source": [
    "n = int(input())\n",
    "k = (bin(n)[2:])\n",
    "c = 0\n",
    "for i in k:\n",
    "  c+=int(i)\n",
    "print(c)"
   ]
  },
  {
   "cell_type": "code",
   "execution_count": null,
   "metadata": {},
   "outputs": [],
   "source": []
  },
  {
   "cell_type": "code",
   "execution_count": null,
   "metadata": {},
   "outputs": [],
   "source": []
  },
  {
   "cell_type": "markdown",
   "metadata": {},
   "source": [
    "# program 68\n",
    "\n",
    "Problem Statement:\n",
    "You are given an integer 'n'. Write a Python function to calculate and return the sum of the digits in 'n' after converting it to its binary representation.\n",
    "\n",
    "Sample Input:\n",
    "\n",
    "15\n",
    "\n",
    "Sample Output:\n",
    "\n",
    "4\n",
    "\n",
    "Explanation:\n",
    "\n",
    "15, which has a binary representation of 1111, should return 4 as the sum of digits in binary representation is 4"
   ]
  },
  {
   "cell_type": "code",
   "execution_count": 21,
   "metadata": {},
   "outputs": [
    {
     "name": "stdout",
     "output_type": "stream",
     "text": [
      "4\n"
     ]
    }
   ],
   "source": [
    "num = int(input())\n",
    "binary = (bin(num)[2:])\n",
    "c = 0\n",
    "for i in binary:\n",
    "  c+=int(i)\n",
    "print(c)\n"
   ]
  },
  {
   "cell_type": "code",
   "execution_count": null,
   "metadata": {},
   "outputs": [],
   "source": []
  },
  {
   "cell_type": "markdown",
   "metadata": {},
   "source": [
    "# program 69\n",
    "\n",
    "Problem Statement:\n",
    "Vasya is interested in determining the outcome of the Berland 1910 Football Championship finals, but he is missing the final score of the match. Fortunately, he has access to a detailed account of the match's progression, including which team scored each goal. Vasya needs your help to identify the winning team. It is certain that the match did not end in a tie.\n",
    "\n",
    "Input:\n",
    "\n",
    "The input starts with an integer 'n' (1≤ n ≤ 100). which represents the number of lines in the description. Each of the following 'n' lines contains the name of the team that scored a goal\n",
    "\n",
    "Output:\n",
    "\n",
    "You should output the name of the winning team. In football, the team with the most goals wins.\n",
    "\n",
    "Sample Input:\n",
    "\n",
    "5\n",
    "\n",
    "A\n",
    "\n",
    "A\n",
    "\n",
    "B\n",
    "\n",
    "B\n",
    "\n",
    "A\n",
    "\n",
    "Sample Output:\n",
    "\n",
    "A "
   ]
  },
  {
   "cell_type": "code",
   "execution_count": null,
   "metadata": {},
   "outputs": [],
   "source": [
    "def fuc(n,g):\n",
    "    c={}\n",
    "    for i in g:\n",
    "        if i in c:\n",
    "            c[i]+=1\n",
    "        else:\n",
    "            c[i]=1\n",
    "    w=max(c,key=c.get)\n",
    "    return w\n",
    "\n",
    "import sys\n",
    "input=sys.stdin.read\n",
    "da=input().split()\n",
    "n=int(da[0])\n",
    "g=da[1:n+1]\n",
    "r=fuc(n,g)\n",
    "print(r)"
   ]
  },
  {
   "cell_type": "code",
   "execution_count": null,
   "metadata": {},
   "outputs": [],
   "source": []
  },
  {
   "cell_type": "code",
   "execution_count": null,
   "metadata": {},
   "outputs": [],
   "source": []
  },
  {
   "cell_type": "markdown",
   "metadata": {},
   "source": [
    "## program 70\n",
    "Problem Statement:\n",
    "Two friends are playing a game. The rules of the game are as follows:\n",
    "\n",
    "Friend 1 provides a 4-digit natural number.\n",
    "\n",
    "Friend 2's task is to find the smallest 4-digit number that is greater than the number provided by Friend 1 and has distinct digits.\n",
    "\n",
    "Write a function to solve this problem You are given an integer (1000≤ num ≤ 9000) representing the number provided by Friend 1. Your task is to find and return the smallest 4-digit number that meets the criteria mentioned above.\n",
    "\n",
    "Example:\n",
    "\n",
    "Input:\n",
    "\n",
    "1220\n",
    "\n",
    "Output:\n",
    "\n",
    "1230\n",
    "\n",
    "Explanation: \n",
    "\n",
    "1230 is the smallest 4-digit number greater than 1220 and it contains distinct digits"
   ]
  },
  {
   "cell_type": "code",
   "execution_count": 22,
   "metadata": {},
   "outputs": [
    {
     "name": "stdout",
     "output_type": "stream",
     "text": [
      "1230\n"
     ]
    }
   ],
   "source": [
    "def fun(n):\n",
    "    n+=1\n",
    "    while True:\n",
    "        s=str(n)\n",
    "        if len(set(s))==4:\n",
    "            return n\n",
    "        n+=1\n",
    "n=int(input())\n",
    "print(fun(n))"
   ]
  },
  {
   "cell_type": "code",
   "execution_count": null,
   "metadata": {},
   "outputs": [],
   "source": []
  },
  {
   "cell_type": "code",
   "execution_count": null,
   "metadata": {},
   "outputs": [],
   "source": []
  },
  {
   "cell_type": "markdown",
   "metadata": {},
   "source": [
    "# program 71\n",
    "\n",
    "Problem Statement:\n",
    "You have been given an integer N as input. Your task is to write a program to print N rows of Floyd's Triangle pattern. Floyd's Triangle is a right-angled triangular array of natural numbers, used for the numbering of lines in a printout.\n",
    "\n",
    "Sample Input:\n",
    "\n",
    "4\n",
    "\n",
    "Sample Output:\n",
    "\n",
    "1\n",
    "\n",
    "2 3\n",
    "\n",
    "4 5 6\n",
    "\n",
    "7 8 9 10"
   ]
  },
  {
   "cell_type": "code",
   "execution_count": 25,
   "metadata": {},
   "outputs": [
    {
     "name": "stdout",
     "output_type": "stream",
     "text": [
      "1 \n",
      "2 3 \n",
      "4 5 6 \n",
      "7 8 9 10 \n"
     ]
    }
   ],
   "source": [
    "n = int(input())\n",
    "num = 1\n",
    "for i in range(1,n+1):\n",
    "  for j in range(1,i+1):\n",
    "    print(num,end=\" \")\n",
    "    num+=1\n",
    "  \n",
    "  print()"
   ]
  },
  {
   "cell_type": "code",
   "execution_count": null,
   "metadata": {},
   "outputs": [],
   "source": []
  },
  {
   "cell_type": "code",
   "execution_count": null,
   "metadata": {},
   "outputs": [],
   "source": []
  },
  {
   "cell_type": "markdown",
   "metadata": {},
   "source": [
    "# program 72\n",
    "Problem Statement:\n",
    "Rohan is a kid who has just learned about creating words from alphabets. He has written some words in the notepad of his father's laptop. Now his father wants to find the longest word written by Rohan using a computer program. Write a program to find the longest string in a given list of strings.\n",
    "\n",
    "Example:\n",
    "\n",
    "Input: yes no number\n",
    "\n",
    "Output: The longest string is: number"
   ]
  },
  {
   "cell_type": "code",
   "execution_count": 27,
   "metadata": {},
   "outputs": [
    {
     "name": "stdout",
     "output_type": "stream",
     "text": [
      "The longest string is: number\n"
     ]
    }
   ],
   "source": [
    "word = input().split(\" \")\n",
    "\n",
    "print(\"The longest string is:\",max(word,key=len))"
   ]
  },
  {
   "cell_type": "code",
   "execution_count": null,
   "metadata": {},
   "outputs": [],
   "source": []
  },
  {
   "cell_type": "code",
   "execution_count": null,
   "metadata": {},
   "outputs": [],
   "source": []
  },
  {
   "cell_type": "markdown",
   "metadata": {},
   "source": [
    "# program 73\n",
    "\n",
    "Problem Statement:\n",
    "You are given a strings of length n. The string s consists of digits varying from 0-9. Find and print the length of the longest even length substring of string s, such that the length of the substring is 2k digits and the sum of left k digits is equal to the sum of right k digits.\n",
    "\n",
    "Note:\n",
    "\n",
    "Print 0 if no such substring is possible with the given condition.\n",
    "\n",
    "Input Format:\n",
    "\n",
    "The input consists of two lines:\n",
    "\n",
    "The first line contains an integer denoting n.\n",
    "\n",
    "The second line contains a string denoting s.\n",
    "\n",
    "Input will be read from the STDIN by the candidate\n",
    "\n",
    "Output Format:\n",
    "\n",
    "Print the length of the longest even length substring.\n",
    "\n",
    "The output will be matched to the candidate's output printed on the STDOUT\n",
    "\n",
    "Constraints:\n",
    "\n",
    "1≤n≤10\n",
    "\n",
    "0≤si≤9.\n",
    "\n",
    "Sample Input:\n",
    "\n",
    "6\n",
    "\n",
    "123123\n",
    "\n",
    "Sample Output:\n",
    "\n",
    "6\n",
    "\n",
    "Explanation:\n",
    "\n",
    "The entire string is a valid substring where the sum of the first half (1+2+3) equals the sum of the second half (1+2+3)."
   ]
  },
  {
   "cell_type": "code",
   "execution_count": 28,
   "metadata": {},
   "outputs": [
    {
     "name": "stdout",
     "output_type": "stream",
     "text": [
      "6\n"
     ]
    }
   ],
   "source": [
    "def f(n,s):\n",
    "    m = 0\n",
    "    for i in range(2,n+1,2):\n",
    "        for j in range(n-i+1):\n",
    "            sub = s[j:j+i]\n",
    "            l = sum(int(k) for k in sub[:i//2])\n",
    "            r = sum(int(t) for t in sub[i//2:])\n",
    "            if l == r:\n",
    "                m = max(m,i)\n",
    "    return m\n",
    "    \n",
    "n = int(input())\n",
    "s = input()\n",
    "print(f(n,s))"
   ]
  },
  {
   "cell_type": "code",
   "execution_count": null,
   "metadata": {},
   "outputs": [],
   "source": []
  },
  {
   "cell_type": "code",
   "execution_count": null,
   "metadata": {},
   "outputs": [],
   "source": []
  },
  {
   "cell_type": "markdown",
   "metadata": {},
   "source": [
    "# program 74\n",
    "\n",
    "Problem Statement:\n",
    "A sequence is considered as special only if there are no such pair of adjacent numbers in the sequence such that the pair consists of both odd or both even numbers.\n",
    "\n",
    "For each test case print \"YES\" if the sequence is special otherwise print \"NO\".\n",
    "\n",
    "Input Format:\n",
    "\n",
    "The input is given in the following format:\n",
    "\n",
    "The first line contains a single integer N, denoting the number of elements in the array arr.\n",
    "\n",
    "Then, N subsequent lines contain a single integer, denoting the value of the ith element of the array arr.\n",
    "\n",
    "The input will be read from the STDIN by the candidate\n",
    "\n",
    "Output Format:\n",
    "\n",
    "For each test case print \"YES\" if the sequence is special otherwise print \"NO\".\n",
    "\n",
    "The output will be matched to the candidate's output printed on the STDOUT\n",
    "\n",
    "Sample Input:\n",
    "\n",
    "5\n",
    "\n",
    "2\n",
    "\n",
    "3\n",
    "\n",
    "4\n",
    "\n",
    "5\n",
    "\n",
    "6\n",
    "\n",
    "Sample Output:\n",
    "\n",
    "YES"
   ]
  },
  {
   "cell_type": "code",
   "execution_count": 29,
   "metadata": {},
   "outputs": [
    {
     "name": "stdout",
     "output_type": "stream",
     "text": [
      "YES\n"
     ]
    }
   ],
   "source": [
    "def fun(n,l):\n",
    "    for i in range(n-1):\n",
    "        if (l[i]%2==0 and l[i+1]%2==0) or (l[i]%2!=0 and l[i+1]%2!=0):\n",
    "            return \"NO\"\n",
    "        return \"YES\"\n",
    "\n",
    "n=int(input())\n",
    "l=[int(input()) for i in range(n)]\n",
    "print(fun(n,l))"
   ]
  },
  {
   "cell_type": "code",
   "execution_count": null,
   "metadata": {},
   "outputs": [],
   "source": []
  },
  {
   "cell_type": "code",
   "execution_count": null,
   "metadata": {},
   "outputs": [],
   "source": []
  },
  {
   "cell_type": "markdown",
   "metadata": {},
   "source": [
    "# program 75\n",
    "\n",
    "Problem Statement:\n",
    "You are given an integer N. You have the starting N natural numbers with you arranged in ascending order. It was found that the hugeness of the ith number is the bitwise OR of the i-1th number and i number. All numbers whose hugeness is a prime number are considered Huge numbers.\n",
    "Your task is to find and print the maximum hugeness among the Huge Numbers in the array.\n",
    "\n",
    "Input format:\n",
    "The input consists of a single lines:\n",
    "- The first and only line contains an integer N.\n",
    "The input will be read from the STDIN by the candidate.\n",
    "Output format:\n",
    "Print the maximum hugeness among the Huge Numbers in the array. If there is no Huge Number then print -1.\n",
    "The output will be matched to the candidate's output printed on the STDOUT.\n",
    "Constraints:\n",
    "\n",
    "1 <= N <= 1000\n",
    "Example:\n",
    "Input: 8\n",
    "Output: 7\n",
    "Explanation: The hugeness of the numbers will be 1, 2,3, 7, 7, 7, 7 and 15. Among which 15 is the maximum but not a prime number whereas 7 is the largest prime number. So, it is the highest hugeness which is a huge number as well.\n",
    "Sample input: 3\n",
    "Sample output: 3"
   ]
  },
  {
   "cell_type": "code",
   "execution_count": 30,
   "metadata": {},
   "outputs": [
    {
     "name": "stdout",
     "output_type": "stream",
     "text": [
      "3\n"
     ]
    }
   ],
   "source": [
    "def prime(n):\n",
    "    if n<=1:\n",
    "        return False\n",
    "    if n==2:\n",
    "        return True\n",
    "    if n%2==0:\n",
    "        return False\n",
    "    m=int(n**0.5)+1\n",
    "    for d in range(3,m,2):\n",
    "        if n%d==0:\n",
    "            return False\n",
    "    return True\n",
    "def find(n):\n",
    "    k=-1\n",
    "    prev=0\n",
    "    for i in range(1,n+1):\n",
    "        huge=prev|i\n",
    "        if prime(huge):\n",
    "            k=max(k,huge)\n",
    "        prev=i\n",
    "    return k\n",
    "n=int(input())\n",
    "print(find(n))\n",
    "    "
   ]
  },
  {
   "cell_type": "code",
   "execution_count": null,
   "metadata": {},
   "outputs": [],
   "source": []
  },
  {
   "cell_type": "code",
   "execution_count": null,
   "metadata": {},
   "outputs": [],
   "source": []
  },
  {
   "cell_type": "markdown",
   "metadata": {},
   "source": [
    "# program 76\n",
    "Problem Statement:\n",
    "You have N strings and the characters of each string follow a pattern. Out of these N strings, N-1 strings will have characters following the same pattern and there will be a string that is odd according to the rest N-1 strings. Find and print that one odd string. For example, we have \"ACB, BDC, CED, DEF\". In this, we can observe that in ACB, BDC, CED all the strings follow a specific pattern:\n",
    "\n",
    "-> The first character is the letter of the English alphabet with the ASCII value suppose x.\n",
    "\n",
    "-> Then the second character is the letter with the ASCII value x+2.\n",
    "\n",
    "-> Then the third character is the letter with the ASCII value x+1.\n",
    "\n",
    "But, DEF does not have this pattern and hence it is the \"Odd String\"\n",
    "\n",
    "Note:\n",
    "\n",
    "All the sequences are related to the english alphabet only. Also, the element's length can vary, and there is only one odd string in the sequence.\n",
    "\n",
    "Input Format:\n",
    "\n",
    "The input is in the following format:\n",
    "\n",
    "The first line contains an integer, I.e. N.\n",
    "\n",
    "Each of the next N lines contains a string.\n",
    "\n",
    "\n",
    "\n",
    "Example:\n",
    "\n",
    "Sample Input:\n",
    "\n",
    "3\n",
    "\n",
    "ABD\n",
    "CEF\n",
    "DFG\n",
    "\n",
    "Sample Output:\n",
    "\n",
    "ABD\n"
   ]
  },
  {
   "cell_type": "code",
   "execution_count": 31,
   "metadata": {},
   "outputs": [
    {
     "name": "stdout",
     "output_type": "stream",
     "text": [
      "CEF\n"
     ]
    }
   ],
   "source": [
    "def fun(n,strings):\n",
    "    p=None\n",
    "    for s in strings:\n",
    "        cur=[(ord(s[i])-ord(s[0]))%26 for i in range(1,len(s))]\n",
    "        if p is None:\n",
    "            p=cur\n",
    "        elif cur!=p:\n",
    "            return s\n",
    "    return strings[-1]\n",
    "n=int(input())\n",
    "strings=[input() for i in range(n)]\n",
    "print(fun(n,strings))\n",
    "        "
   ]
  },
  {
   "cell_type": "code",
   "execution_count": null,
   "metadata": {},
   "outputs": [],
   "source": []
  },
  {
   "cell_type": "code",
   "execution_count": null,
   "metadata": {},
   "outputs": [],
   "source": []
  },
  {
   "cell_type": "markdown",
   "metadata": {},
   "source": [
    "# program 77\n",
    "\n",
    "Problem Statement:\n",
    "You are given a list of integers, and your task is to find the subarray with the maximum sum. Write a function or method to solve this problem efficiently and return the maximum sum.\n",
    "\n",
    "Input:\n",
    "\n",
    "n: the no of elements in the array\n",
    "\n",
    "nums (List of integers): A list of integers (1 <= len(nums) <= 10^5).\n",
    "\n",
    "Output:\n",
    "\n",
    "An integer representing the maximum sum of a subarray in the input list.\n",
    "\n",
    "Example:\n",
    "\n",
    "Sample input:\n",
    "\n",
    "5\n",
    "\n",
    "1 2 3 -2 5\n",
    "\n",
    "Sample Output:\n",
    "\n",
    "9\n",
    "\n",
    "Explanation:\n",
    "\n",
    "The subarray with the maximum sum is [1, 2, 3, -2, 5], and the sum  is 9"
   ]
  },
  {
   "cell_type": "code",
   "execution_count": 32,
   "metadata": {},
   "outputs": [
    {
     "name": "stdout",
     "output_type": "stream",
     "text": [
      "9\n"
     ]
    }
   ],
   "source": [
    "n = int(input())\n",
    "l = list(map(int,input().split()))\n",
    "m = float(\"-inf\")\n",
    "c = 0\n",
    "for i in l:\n",
    "    c = max(i,c+i)\n",
    "    m = max(m,c)\n",
    "\n",
    "print(m)\n"
   ]
  },
  {
   "cell_type": "code",
   "execution_count": null,
   "metadata": {},
   "outputs": [],
   "source": []
  },
  {
   "cell_type": "code",
   "execution_count": null,
   "metadata": {},
   "outputs": [],
   "source": []
  },
  {
   "cell_type": "markdown",
   "metadata": {},
   "source": [
    "# program 78\n",
    "\n",
    "Problem Statement:\n",
    "You are given a positive integer date and a positive integer array cars of size n, cars consists of car numbers which run on a date. Your task is to calculate the fine collection on that particular date as per the following conditions:\n",
    "- If date is even, fine of 250 is charged on each odd numbered car running on that date\n",
    "- If date is odd, fine is 250 is charged on each even numbered car running on that date.\n",
    "Print the total fine charged.\n",
    "Note:\n",
    "- If cars is empty, print -1.\n",
    "- Output lies within integral range.\n",
    "Input format:\n",
    "The input consists of three lines:\n",
    "- The first line contains the integer date.\n",
    "- The second line contains an integer, i.e., n.\n",
    "- The third line contains n space-separated integers representing the elements of the array cars.\n",
    "Output format:\n",
    "Print the total fine charged. If cars is empty, print -1.\n",
    "The output will be matched to the candidate's output printed on the STDOUT.\n",
    "Constraints:\n",
    "- 1 <= date <= 31.\n",
    "- 1 <= n <= 10^3\n",
    "- 1 <= cars[i] <= 10^5\n",
    "Example :\n",
    "Input :\n",
    "6\n",
    "8\n",
    "9871 4687 9687 2096 8769 8476 2968 7174\n",
    "Output:\n",
    "1000\n",
    "Explnation:\n",
    "\n",
    "- Odd cars {9871, 4687, 9687, 8769}\n",
    "- Even cars {2096, 8476, 2968, 7174}\n",
    "Since, date is even, fine is on odd numbered cars. Fine = 4*250 =1000. Thus, output is 1000.\n",
    "\n",
    "Sample input:\n",
    "17\n",
    "6\n",
    "1012 6683 8471 3685 5452 8403\n",
    "Sample Output:\n",
    "500"
   ]
  },
  {
   "cell_type": "code",
   "execution_count": 33,
   "metadata": {},
   "outputs": [
    {
     "name": "stdout",
     "output_type": "stream",
     "text": [
      "500\n"
     ]
    }
   ],
   "source": [
    "n=int(input())\n",
    "m=int(input())\n",
    "l=list(map(int,input().split()))\n",
    "e,o=0,0\n",
    "for i in range(m):\n",
    "    if l[i]%2==0:\n",
    "        e+=1\n",
    "    else:\n",
    "        o+=1\n",
    "if n%2==0 and m>0:\n",
    "    print(o*250)\n",
    "elif n%2!=0 and m>0:\n",
    "    print(e*250)\n",
    "elif m==0:\n",
    "    print(-1)"
   ]
  },
  {
   "cell_type": "code",
   "execution_count": null,
   "metadata": {},
   "outputs": [],
   "source": []
  },
  {
   "cell_type": "code",
   "execution_count": null,
   "metadata": {},
   "outputs": [],
   "source": []
  },
  {
   "cell_type": "markdown",
   "metadata": {},
   "source": [
    "# program 79\n",
    "Problem Statement:\n",
    " Samar is told to write a 100-word paragraph and then find the number of vowels and consonants in it as his homework. Help Samar by writing a program to find out the and consonants and count them. vowels\n",
    "\n",
    "Example:\n",
    "\n",
    "Input:\n",
    "\n",
    "aeiou\n",
    "\n",
    "Output:\n",
    "\n",
    "Number of vowels: 5\n",
    "\n",
    "Number of consonants: 0\n",
    "\n",
    "Input:\n",
    "\n",
    "Journey\n",
    "\n",
    "Output:\n",
    "\n",
    "Number of vowels: 3\n",
    "\n",
    "Number of consonants: 4"
   ]
  },
  {
   "cell_type": "code",
   "execution_count": 34,
   "metadata": {},
   "outputs": [
    {
     "name": "stdout",
     "output_type": "stream",
     "text": [
      "Number of vowels: 3\n",
      "Number of consonants: 4\n"
     ]
    }
   ],
   "source": [
    "n = input()\n",
    "a = 'aeiou'\n",
    "vowels = 0\n",
    "const = 0\n",
    "for i in range(len(n)):\n",
    "    if n[i] in a: vowels+=1\n",
    "    else: const += 1\n",
    "\n",
    "print(\"Number of vowels:\",vowels)\n",
    "print(\"Number of consonants:\",const)"
   ]
  },
  {
   "cell_type": "code",
   "execution_count": null,
   "metadata": {},
   "outputs": [],
   "source": []
  },
  {
   "cell_type": "markdown",
   "metadata": {},
   "source": [
    "# program 80\n",
    "\n",
    "Problem Statement: Arjun has two types of Arrows. He wants to measure the length of them using a single measuring tape. What will be the greatest possible length that can be used to measure exactly the length of two arrows? Write a program to calculate this and help Arjun.\n",
    "Example:\n",
    "Input: 8 10\n",
    "Output: The HCF of 8 and 10 is: 2\n",
    "\n",
    "Input: 25 30\n",
    "Output: The HCF of 25 and 30 is: 5"
   ]
  },
  {
   "cell_type": "code",
   "execution_count": 35,
   "metadata": {},
   "outputs": [
    {
     "name": "stdout",
     "output_type": "stream",
     "text": [
      "5\n"
     ]
    }
   ],
   "source": [
    "import math\n",
    "a,b = map(int,input().split())\n",
    "print(math.gcd(a,b))"
   ]
  },
  {
   "cell_type": "code",
   "execution_count": null,
   "metadata": {},
   "outputs": [],
   "source": []
  },
  {
   "cell_type": "code",
   "execution_count": null,
   "metadata": {},
   "outputs": [],
   "source": []
  },
  {
   "cell_type": "markdown",
   "metadata": {},
   "source": [
    "# program 81\n",
    "\n",
    "Problem Statement:\n",
    "You are working on a number sequence puzzle. you have an array. A that is supposed to contain all the numbers from 1 to N. but you realize one number is missing. The array might have been shuffled, so the numbers are not in order. Your task is to find and return an integer value representing the missing number from the sequence.\n",
    "\n",
    "Input Specification:\n",
    "\n",
    "input1: An integer value N representing the length of the sequence.\n",
    "\n",
    "input2: An integer array A\n",
    "\n",
    "\n",
    "\n",
    "Output Specification:\n",
    "\n",
    "Return an integer value representing the missing number from the sequence.\n",
    "\n",
    "\n",
    "\n",
    "Example:\n",
    "\n",
    "Sample Input:\n",
    "\n",
    "5\n",
    "\n",
    "1 4 3 2\n",
    "\n",
    "Output:\n",
    "\n",
    "5"
   ]
  },
  {
   "cell_type": "code",
   "execution_count": 40,
   "metadata": {},
   "outputs": [
    {
     "name": "stdout",
     "output_type": "stream",
     "text": [
      "5\n"
     ]
    }
   ],
   "source": [
    "def f(n,l):\n",
    "    for i in range(1,n+1):\n",
    "        if i not in l:\n",
    "            return i\n",
    "\n",
    "n = int(input())\n",
    "l = list(map(int,input().split()))\n",
    "\n",
    "print(f(n,l))"
   ]
  },
  {
   "cell_type": "code",
   "execution_count": null,
   "metadata": {},
   "outputs": [],
   "source": []
  },
  {
   "cell_type": "code",
   "execution_count": null,
   "metadata": {},
   "outputs": [],
   "source": []
  },
  {
   "cell_type": "markdown",
   "metadata": {},
   "source": [
    "# program 82\n",
    "\n",
    "Problem Statement:\n",
    "You are given a string S, which contains the moves played by two players sequentially in a game called Snake Water Gun. The rules of\n",
    "\n",
    "the games are as follows:\n",
    "\n",
    "Snake beats Water, Water beats Gun and Gun beats Snake\n",
    "The move played by player A and the move played by player B in the first round will be stored in the string as \"snakewater\".\n",
    "Similarly, in the second round, the moves will be stored in the string as \"snakewatergunsnake\".\n",
    "\n",
    "There are total N rounds that are played in the game and your task is to find and return an integer value representing how many rounds Player A will win.\n",
    "\n",
    "Note: The given string is in lowercase.\n",
    "\n",
    "\n",
    "\n",
    "Input Specification:\n",
    "\n",
    "Input: An integer value N, representing the number of rounds, input2: A string value 5 representing the moves played by the two players\n",
    "\n",
    "\n",
    "\n",
    "Output Specification:\n",
    "\n",
    "Return an integer value representing now many rounds Player A.\n",
    "\n",
    "\n",
    "\n",
    "Example:\n",
    "\n",
    "Input:\n",
    "\n",
    "1\n",
    "\n",
    "snakewater\n",
    "\n",
    "Output:\n",
    "\n",
    "1"
   ]
  },
  {
   "cell_type": "code",
   "execution_count": 41,
   "metadata": {},
   "outputs": [
    {
     "name": "stdout",
     "output_type": "stream",
     "text": [
      "1\n"
     ]
    }
   ],
   "source": [
    "def play(n,moves):\n",
    "    win=0\n",
    "    for i in range(n):\n",
    "        r=moves[i*10:(i+1)*10]\n",
    "        a=r[:5]\n",
    "        b=r[5:]\n",
    "        if(a==\"snake\" and b==\"water\") or (a==\"water\" and b==\"gun\") or(a==\"gun\" and b==\"snake\"):\n",
    "            win+=1\n",
    "    return win\n",
    "n=int(input())\n",
    "moves=input()\n",
    "print(play(n,moves))"
   ]
  },
  {
   "cell_type": "code",
   "execution_count": null,
   "metadata": {},
   "outputs": [],
   "source": []
  },
  {
   "cell_type": "code",
   "execution_count": null,
   "metadata": {},
   "outputs": [],
   "source": []
  },
  {
   "cell_type": "markdown",
   "metadata": {},
   "source": [
    "# program 83\n",
    "\n",
    "Problem Statement:\n",
    "There is a coding project which takes an array A of integers. Your task is to calculate the difference between each consecutive pair of numbers and return an integer array representing the differences of consecutive numbers.\n",
    "\n",
    "\n",
    "\n",
    "Note: The difference should be calculated as the second number minus the first number\n",
    "\n",
    "\n",
    "\n",
    "Input Specification:\n",
    "\n",
    "input1: An integer n reprsenting the number of elements in the array A\n",
    "\n",
    "input1: An integer array A containing numbers.\n",
    "\n",
    "\n",
    "\n",
    "Output Specification:\n",
    "\n",
    "\n",
    "\n",
    "Return an integer array representing the differences of consecutive numbers.\n",
    "\n",
    "\n",
    "\n",
    "Example 1:\n",
    "\n",
    "Input: \n",
    "\n",
    "5\n",
    "\n",
    "5 2 10 8 1\n",
    "\n",
    "Output:\n",
    "\n",
    "-3 8 -2 -7"
   ]
  },
  {
   "cell_type": "code",
   "execution_count": 42,
   "metadata": {},
   "outputs": [
    {
     "name": "stdout",
     "output_type": "stream",
     "text": [
      "-3 8 -2 -7\n"
     ]
    }
   ],
   "source": [
    "\n",
    "def f(n,l):\n",
    "    k = []\n",
    "    while len(l) > 2:\n",
    "        for i in range(1,n):\n",
    "            k.append((l[i]-l[i-1]))\n",
    "        print(*k)\n",
    "        break\n",
    "\n",
    "\n",
    "n = int(input())\n",
    "l = list(map(int,input().split()))\n",
    "\n",
    "f(n,l)"
   ]
  },
  {
   "cell_type": "code",
   "execution_count": null,
   "metadata": {},
   "outputs": [],
   "source": []
  },
  {
   "cell_type": "code",
   "execution_count": null,
   "metadata": {},
   "outputs": [],
   "source": []
  },
  {
   "cell_type": "markdown",
   "metadata": {},
   "source": [
    "# program 84\n",
    "Problem Statement:\n",
    "You are given an integer array of N integers. Your task is to find and return an integer value representing the count of elements in the array where the count of set bits is equal to a given number X.\n",
    "\n",
    "Note: A set bit refers to the value 1 of any bit for a number in its binary representation.\n",
    "\n",
    "\n",
    "\n",
    "Input Specification:\n",
    "\n",
    "input1: An integer array of N elements.\n",
    "\n",
    "Input2: An integer value N, representing the length of the array.\n",
    "\n",
    "Input3: An integer value X, representing the target count of set bits.\n",
    "\n",
    "\n",
    "\n",
    "Output Specification:\n",
    "\n",
    "Return an integer value representing the count of elements in the array where the count of set bits is equal to a given number X.\n",
    "\n",
    "\n",
    "\n",
    "Sample Input:\n",
    "\n",
    "5\n",
    "\n",
    "1 2 3 4 5\n",
    "\n",
    "1\n",
    "\n",
    "Sample Output:\n",
    "\n",
    "3\n",
    "\n",
    "Explanation:\n",
    "\n",
    "Binary representation of \n",
    "\n",
    "1 -> 001 -> no of set bits=1\n",
    "\n",
    "2 -> 010 -> no of setbits=1\n",
    "\n",
    "3 -> 011 -> no of setbits=2\n",
    "\n",
    "4 -> 100 -> no of setbits=1\n",
    "\n",
    "5 -> 101 -> no of setbits=2\n",
    "\n",
    "Therefore the counnt of numbers who have X=1 number of setbits is 3.\n"
   ]
  },
  {
   "cell_type": "code",
   "execution_count": 43,
   "metadata": {},
   "outputs": [
    {
     "name": "stdout",
     "output_type": "stream",
     "text": [
      "3\n"
     ]
    }
   ],
   "source": [
    "n=int(input())\n",
    "l=list(map(int,input().split()))\n",
    "k=int(input())\n",
    "x=[]\n",
    "y=[]\n",
    "for i in l:\n",
    "    x.append(bin(i)[2:])\n",
    "for i in x:\n",
    "    y.append(sum(int(j) for j in i))\n",
    "print(y.count(k))\n",
    "    "
   ]
  },
  {
   "cell_type": "code",
   "execution_count": null,
   "metadata": {},
   "outputs": [],
   "source": []
  },
  {
   "cell_type": "code",
   "execution_count": null,
   "metadata": {},
   "outputs": [],
   "source": []
  },
  {
   "cell_type": "markdown",
   "metadata": {},
   "source": [
    "# program 85\n",
    "\n",
    "Problem Statement:\n",
    "John is an artist who loves everything to be symmetrical. He is given an integer N and he wants to make the number symmetrical in its binary representation, which means all the bits are set in the binary form of a number. Your task is to find and return an integer value representing the smallest number which John can add to make the given number symmetrical\n",
    "\n",
    "Note: Set bit means 1 in the binary form\n",
    "\n",
    "\n",
    "\n",
    "Input Specification:\n",
    "\n",
    "Input1: An integer value N\n",
    "\n",
    "Output Specification:\n",
    "\n",
    "Return an integer value representing the smallest number which John can add to make the given number symmetrical\n",
    "\n",
    "\n",
    "\n",
    "Example:\n",
    "\n",
    "Sample Input:\n",
    "\n",
    "5\n",
    "\n",
    "Sample Output:\n",
    "\n",
    "7\n",
    "\n",
    "Explanation:\n",
    "\n",
    "Binary representation of 5 is 101. Setting all the bits the binary number becomes 111. Converting this to decimal we have 7."
   ]
  },
  {
   "cell_type": "code",
   "execution_count": null,
   "metadata": {},
   "outputs": [
    {
     "name": "stdout",
     "output_type": "stream",
     "text": [
      "7\n"
     ]
    }
   ],
   "source": [
    "n=int(input())\n",
    "n=bin(n)[2:]\n",
    "s=\"\"\n",
    "for i in n:\n",
    "    if i=='1':\n",
    "        s+=i\n",
    "    elif i=='0':\n",
    "        s+='1'\n",
    "\n",
    "print(int(s,2))\n",
    "        \n",
    "    "
   ]
  },
  {
   "cell_type": "markdown",
   "metadata": {},
   "source": [
    "# program 86\n",
    "\n",
    "Problem Statement:\n",
    "You are planning a dinner menu for an event, and you have a list of N dishes stored in array A, each with a certain cost associated with it. You must select two such dishes, such that the sum of their costs is maximum among all available pairs. Your task is to find and return an integer value representing the sum of such available pair, Return 0 in case of no such pair available.\n",
    "\n",
    "\n",
    "\n",
    "Input Specification:\n",
    "\n",
    "Input1: An integer value N representing the number of dishes available\n",
    "\n",
    "Input2: An integer array A representing the cost of dishes.\n",
    "\n",
    "\n",
    "\n",
    "Output Specification:\n",
    "\n",
    "Return an integer value representing sum of such pair available. In case, there are no such pair present, return 0\n",
    "\n",
    "\n",
    "\n",
    "Example:\n",
    "\n",
    "Sample Input:\n",
    "\n",
    "3\n",
    "\n",
    "7 1 8\n",
    "\n",
    "Sample Output:\n",
    "\n",
    "15"
   ]
  },
  {
   "cell_type": "code",
   "execution_count": 45,
   "metadata": {},
   "outputs": [
    {
     "name": "stdout",
     "output_type": "stream",
     "text": [
      "15\n"
     ]
    }
   ],
   "source": [
    "n = int(input())\n",
    "l = list(map(int,input().split()))\n",
    "l.sort()\n",
    "if n<2:\n",
    "    print(0)\n",
    "else:\n",
    "    print(l[-1]+l[-2])"
   ]
  },
  {
   "cell_type": "code",
   "execution_count": null,
   "metadata": {},
   "outputs": [],
   "source": []
  },
  {
   "cell_type": "markdown",
   "metadata": {},
   "source": [
    "# program 87\n",
    "\n",
    "Problem Statement:\n",
    "There is a printing shop where the customers submit their print jobs at regular intervals, and each job takes a fixed amount of time to complete. You are given an integer value N denoting the total number of print jobs, and X denoting the time duration after which the next print job arrives\n",
    "\n",
    "\n",
    "\n",
    "Your task is to find and return an integer value representing how long the last job will have to wait in the queue considering one print will take exactly 10 minutes.\n",
    "\n",
    "\n",
    "\n",
    "Input Specification:\n",
    "\n",
    "input1: An integer value N representing the number of printing jobs.\n",
    "\n",
    "input2: An integer value X representing the time duration after which the next print job arrives.\n",
    "\n",
    "\n",
    "\n",
    "Output Specification:\n",
    "\n",
    "Return an integer value representing how long the last job will have to wait in the queue.\n",
    "\n",
    "\n",
    "\n",
    "Example:\n",
    "\n",
    "Sample input:\n",
    "\n",
    "5 5\n",
    "\n",
    "Sample output:\n",
    "\n",
    "20\n",
    "Explanation:\n",
    "\n",
    "1st print job takes 10 mins. second print job has come at t=5 mins\n",
    "\n",
    "2nd print job starts at t=10 mins and finishes at t=20 min. Third print job has come at t=10 mins\n",
    "\n",
    "3rd print job starts at t=20 min and finishes at t=30 min. Fourth print job comes at t=15 mins\n",
    "\n",
    "4th print job starts at t=20 min and finishes at t=40 mins. Fifth print job comes at t=20 mins.\n",
    "\n",
    "So teh last print job has to wait 40-20=20 mins for the print job to start."
   ]
  },
  {
   "cell_type": "code",
   "execution_count": 46,
   "metadata": {},
   "outputs": [
    {
     "name": "stdout",
     "output_type": "stream",
     "text": [
      "20\n"
     ]
    }
   ],
   "source": [
    "def last(n,x):\n",
    "    s=0\n",
    "    for i in range(1,n):\n",
    "        a=i*x\n",
    "        if a<s+10:\n",
    "            s+=10\n",
    "        else:\n",
    "            s=a\n",
    "    arrival=(n-1)*x\n",
    "    wait=s-arrival\n",
    "    return wait\n",
    "n,x=map(int,input().split())\n",
    "print(last(n,x))"
   ]
  },
  {
   "cell_type": "code",
   "execution_count": null,
   "metadata": {},
   "outputs": [],
   "source": []
  },
  {
   "cell_type": "code",
   "execution_count": null,
   "metadata": {},
   "outputs": [],
   "source": []
  },
  {
   "cell_type": "markdown",
   "metadata": {},
   "source": [
    "# program 88\n",
    "21A31A0552\n",
    "Problem Statement:\n",
    "You are given an array of integers containing N elements. Your task is to find and return an integer value representing the total number of subarrays of size 3 such that the sum of the first element and the third element is equal to the second element.\n",
    "\n",
    "\n",
    "\n",
    "Note: A continous part of an array is a subarray\n",
    "\n",
    "\n",
    "\n",
    "Input Specification:\n",
    "\n",
    "input: An integer array of size N\n",
    "\n",
    "Input2: An integer value N, representing the size of array.\n",
    "\n",
    "\n",
    "\n",
    "Output Specification:\n",
    "\n",
    "Return an integer value representing the total number of subarrays of size 3 such that the sum of the first element and the third element is equal to the second element.\n",
    "\n",
    "Example:\n",
    "\n",
    "Sample input:\n",
    "\n",
    "5\n",
    "\n",
    "1 2 1 3 5\n",
    "\n",
    "Sample output:\n",
    "\n",
    "1\n",
    "\n",
    "Explanation:\n",
    "\n",
    "only triplet is [1,2,1]"
   ]
  },
  {
   "cell_type": "code",
   "execution_count": 49,
   "metadata": {},
   "outputs": [
    {
     "name": "stdout",
     "output_type": "stream",
     "text": [
      "2\n"
     ]
    }
   ],
   "source": [
    "n = int(input())\n",
    "l = list(map(int,input().split()))\n",
    "result = 0\n",
    "for i in range(1,n-1):\n",
    "  if l[i-1]+l[i+1] == l[i]:\n",
    "    result += 1\n",
    "print(result) "
   ]
  },
  {
   "cell_type": "code",
   "execution_count": null,
   "metadata": {},
   "outputs": [],
   "source": []
  },
  {
   "cell_type": "code",
   "execution_count": null,
   "metadata": {},
   "outputs": [],
   "source": []
  },
  {
   "cell_type": "markdown",
   "metadata": {},
   "source": [
    "# program 89\n",
    "\n",
    "Problem Statement:\n",
    "In a coding project you are developing a feature for a data visualization tool that processes large datasets of products stored in array A. One dataset contains sales figures for various products, where a sale value of O indicates that the product was not sold during a specific period, Your task is to find and return an integer array representing the dataset representing all the unsold products at the end\n",
    "\n",
    "\n",
    "\n",
    "Input Specification:\n",
    "\n",
    "input1: An integer N representing the size of the array\n",
    "\n",
    "input2: An integer array A containing sales number of a particular product.\n",
    "\n",
    "\n",
    "\n",
    "Output Specification:\n",
    "\n",
    "Return an integer array representing the dataset representing all the unsold products at the end.\n",
    "\n",
    "\n",
    "\n",
    "Example:\n",
    "\n",
    "Sample Input:\n",
    "\n",
    "7\n",
    "\n",
    "5 2 0 8 0 2 1\n",
    "\n",
    "Sample Output:\n",
    "\n",
    "5 2 8 2 1 0 0"
   ]
  },
  {
   "cell_type": "code",
   "execution_count": 53,
   "metadata": {},
   "outputs": [
    {
     "name": "stdout",
     "output_type": "stream",
     "text": [
      "1 1 0 0 0\n"
     ]
    }
   ],
   "source": [
    "n = int(input())\n",
    "l = list(map(int,input().split()))\n",
    "num = []\n",
    "zer = []\n",
    "for i in l:\n",
    "  if i == 0:\n",
    "    zer.append(i)\n",
    "  else:\n",
    "    num.append(i)\n",
    "\n",
    "\n",
    "print(*(num+zer))"
   ]
  },
  {
   "cell_type": "code",
   "execution_count": null,
   "metadata": {},
   "outputs": [],
   "source": []
  },
  {
   "cell_type": "code",
   "execution_count": null,
   "metadata": {},
   "outputs": [],
   "source": []
  },
  {
   "cell_type": "markdown",
   "metadata": {},
   "source": [
    "# program 90\n",
    "Problem Statement:\n",
    "You are given two strings A and B. Your task is to find and return a string representing the leftover string in A after removing all the letters that exist in string B. Return \"Empty\" if the output does not contain any value.\n",
    "\n",
    "\n",
    "\n",
    "Note:\n",
    "\n",
    "Strings A and B contains alphabets in upper case only.\n",
    "\n",
    "A single alphabet in B can replace all the occurrences of that alphabet in A.\n",
    "\n",
    "\n",
    "\n",
    "Input Specification:\n",
    "\n",
    "Input1: A string A\n",
    "\n",
    "Input2: A string B\n",
    "\n",
    "\n",
    "\n",
    "Output Specification:\n",
    "\n",
    "Return a string representing the leftover string in A after removing all the letters that exist in string B\n",
    "\n",
    "\n",
    "\n",
    "Example:\n",
    "\n",
    "Sample Input:\n",
    "\n",
    "ABCDEF\n",
    "\n",
    "ACE\n",
    "\n",
    "Sample Output:\n",
    "\n",
    "BDF\n"
   ]
  },
  {
   "cell_type": "code",
   "execution_count": 2,
   "metadata": {},
   "outputs": [
    {
     "name": "stdout",
     "output_type": "stream",
     "text": [
      "Empty\n"
     ]
    }
   ],
   "source": [
    "total_string = input()\n",
    "given = input()\n",
    "result = []\n",
    "for i in total_string:\n",
    "  if i not in given:\n",
    "    result.append(i)\n",
    "\n",
    "if result:\n",
    "  print(\"\".join(result))\n",
    "else:\n",
    "  print(\"Empty\")\n",
    "\n"
   ]
  },
  {
   "cell_type": "code",
   "execution_count": null,
   "metadata": {},
   "outputs": [],
   "source": []
  },
  {
   "cell_type": "code",
   "execution_count": null,
   "metadata": {},
   "outputs": [],
   "source": []
  },
  {
   "cell_type": "markdown",
   "metadata": {},
   "source": [
    "# program 91\n",
    "\n",
    "Problem Statement:\n",
    "In a digital document, you are marking certain sections as important, using the character '1', while all the other sections are marked with '0'.Your task is to find and return an integer value representing the last marked important section index in the string. Return -1, in case of no important sections\n",
    "\n",
    "\n",
    "\n",
    "Input Specification:\n",
    "\n",
    "input1: A string value representing the sections.\n",
    "\n",
    "\n",
    "\n",
    "Output Specification:\n",
    "\n",
    "A Return an integer value representing the index of last marked important section in the string.\n",
    "\n",
    "\n",
    "\n",
    "Example:\n",
    "\n",
    "Input:\n",
    "\n",
    "00010000\n",
    "\n",
    "Output:\n",
    "\n",
    "3"
   ]
  },
  {
   "cell_type": "code",
   "execution_count": 5,
   "metadata": {},
   "outputs": [
    {
     "name": "stdout",
     "output_type": "stream",
     "text": [
      "3\n"
     ]
    }
   ],
   "source": [
    "string=input().strip()\n",
    "\n",
    "try:\n",
    "    index = len(string)-1-string[::-1].index(\"1\")\n",
    "\n",
    "except ValueError:\n",
    "    index = -1\n",
    "\n",
    "print(index)\n",
    "\n"
   ]
  },
  {
   "cell_type": "markdown",
   "metadata": {},
   "source": [
    "or"
   ]
  },
  {
   "cell_type": "code",
   "execution_count": 6,
   "metadata": {},
   "outputs": [
    {
     "name": "stdout",
     "output_type": "stream",
     "text": [
      "3\n"
     ]
    }
   ],
   "source": [
    "s=input().strip()\n",
    "l=s.rfind(\"1\")\n",
    "print(l)"
   ]
  },
  {
   "cell_type": "code",
   "execution_count": null,
   "metadata": {},
   "outputs": [],
   "source": []
  },
  {
   "cell_type": "code",
   "execution_count": null,
   "metadata": {},
   "outputs": [],
   "source": []
  },
  {
   "cell_type": "markdown",
   "metadata": {},
   "source": [
    "# program 92\n",
    "\n",
    "Problem Statement:\n",
    "You are the manager of a hotel; you have a list of rooms already reserved in an array A of size N. You also have the total number of rooms T. Your task is to find and return an integer value representing the total number of vacant rooms.\n",
    "\n",
    "\n",
    "\n",
    "Input Specification:\n",
    "\n",
    "input1: An integer value N representing the count of reserved rooms.\n",
    "\n",
    "input2: An integer array A representing the reserved rooms.\n",
    "\n",
    "input3: An integer value T representing the total number of rooms.\n",
    "\n",
    "\n",
    "\n",
    "Output Specification:\n",
    "\n",
    "return an integer value representing the total number of vacant rooms.\n",
    "\n",
    "\n",
    "\n",
    "Example:\n",
    "\n",
    "4\n",
    "\n",
    "1 2 3 4\n",
    "\n",
    "7\n",
    "\n",
    "Output:\n",
    "\n",
    "3\n",
    "\n",
    "Explanation: we have 3 vacant rooms"
   ]
  },
  {
   "cell_type": "code",
   "execution_count": 1,
   "metadata": {},
   "outputs": [
    {
     "name": "stdout",
     "output_type": "stream",
     "text": [
      "3\n"
     ]
    }
   ],
   "source": [
    "def count_vacant_rooms(N, reserved_rooms, T):\n",
    "    # Convert the list of reserved rooms to a set for O(1) average time complexity lookups\n",
    "    reserved_set = set(reserved_rooms)\n",
    "    \n",
    "    # Initialize the vacant room count\n",
    "    vacant_count = 0\n",
    "    \n",
    "    # Iterate through all rooms from 1 to T\n",
    "    for room in range(1, T + 1):\n",
    "        # If the room is not in the reserved set, it's vacant\n",
    "        if room not in reserved_set:\n",
    "            vacant_count += 1\n",
    "    \n",
    "    return vacant_count\n",
    "\n",
    "# Example usage\n",
    "N = 4\n",
    "reserved_rooms = [1, 2, 3, 4]\n",
    "T = 7\n",
    "\n",
    "print(count_vacant_rooms(N, reserved_rooms, T))  # Output should be 3\n"
   ]
  },
  {
   "cell_type": "code",
   "execution_count": null,
   "metadata": {},
   "outputs": [],
   "source": []
  },
  {
   "cell_type": "code",
   "execution_count": null,
   "metadata": {},
   "outputs": [],
   "source": []
  },
  {
   "cell_type": "markdown",
   "metadata": {},
   "source": [
    "# program 93\n",
    "\n",
    "\n",
    "Problem Statement:\n",
    "You are given an integer array A of size N. Your task is to find and return an integer value representing the product of all the elements in the array\n",
    "\n",
    "Input Specification:\n",
    "\n",
    " input1: An integer value N representing the size of the array\n",
    "\n",
    " input2: An integer array A given as space seperated integers\n",
    "\n",
    "\n",
    "\n",
    "Output Specification:\n",
    "\n",
    "Return an integer value representing the product of all the elements in the array.\n",
    "\n",
    "\n",
    "Example:\n",
    "Input:\n",
    "\n",
    "4\n",
    "\n",
    "2 4 6 8\n",
    "\n",
    "Output:\n",
    "\n",
    "384"
   ]
  },
  {
   "cell_type": "code",
   "execution_count": null,
   "metadata": {},
   "outputs": [],
   "source": [
    "\n",
    "total = int(input())\n",
    "l = list(map(int,input().split()))\n",
    "result = 1\n",
    "for i in l:\n",
    "    result *= i\n",
    "print(result)\n"
   ]
  },
  {
   "cell_type": "code",
   "execution_count": null,
   "metadata": {},
   "outputs": [],
   "source": []
  },
  {
   "cell_type": "code",
   "execution_count": null,
   "metadata": {},
   "outputs": [],
   "source": []
  },
  {
   "cell_type": "markdown",
   "metadata": {},
   "source": [
    "# program 94\n",
    "Problem Statement:\n",
    "You are a secret agent on a mission, and need to decode various messages using the ASCII values of characters. Due to resource constraints, you can send only those messages with a total ASCII sum  equal to or  less than a specified threshold N. You need to remove characters from the end of the string to maintain the sum accordingly. Your task is to find and return the decoded string, or return an empty string, if it is not possible to meet the condition.\n",
    "\n",
    "\n",
    "\n",
    "Input Specification:\n",
    "\n",
    "input1: A string value S, representing the encoded message.\n",
    "\n",
    "input2: An integer value N, representing the threshold value.\n",
    "\n",
    "\n",
    "\n",
    "Output Specification:\n",
    "\n",
    "Return a string value representing the decoded string, or an empty string if it is not possible to meet the condition.\n",
    "\n",
    "\n",
    "\n",
    "Example:\n",
    "\n",
    "Input:\n",
    "\n",
    "HelloWorld\n",
    "\n",
    "500\n",
    "\n",
    "Output:\n",
    "\n",
    "Hello\n"
   ]
  },
  {
   "cell_type": "code",
   "execution_count": 16,
   "metadata": {},
   "outputs": [
    {
     "name": "stdout",
     "output_type": "stream",
     "text": [
      "Hello\n"
     ]
    }
   ],
   "source": [
    "\n",
    "def f(s,n):\n",
    "    total_sum = sum(ord(char) for char in s)\n",
    "    \n",
    "    if total_sum <= n:\n",
    "        return s\n",
    "        \n",
    "    for i in range(len(s)-1,-1,-1):\n",
    "        total_sum -= ord(s[i])\n",
    "        if total_sum <= n:\n",
    "            return s[:i]\n",
    "    \n",
    "    return \"\"\n",
    "    \n",
    "input1 = input()\n",
    "input2 = int(input())\n",
    "print(f(input1,input2))\n",
    "\n"
   ]
  },
  {
   "cell_type": "code",
   "execution_count": null,
   "metadata": {},
   "outputs": [],
   "source": []
  },
  {
   "cell_type": "code",
   "execution_count": null,
   "metadata": {},
   "outputs": [],
   "source": []
  },
  {
   "cell_type": "markdown",
   "metadata": {},
   "source": [
    "# program 95\n",
    "\n",
    "Problem Statement:\n",
    "You are given an array A of size N, where each element represents the number of cupcakes sold in a single transaction. Your task is to find and return an integer value representing the sum of the cupcakes from the transactions where 5 or more cupcakes were sold. Return 0 if there is no transaction with more than 5 cupcakes sold.\n",
    "\n",
    "\n",
    "\n",
    "Input Specification:\n",
    "\n",
    "Input1: An integer value N representing the number of transactions\n",
    "\n",
    "Input2: An integer array A representing the number of cupcakes sold in each transaction\n",
    "\n",
    "\n",
    "\n",
    "Output Specification:\n",
    "\n",
    "Return an integer value representing the sum of the cupcakes from the transactions where 5 or more cupcakes were sold. Return 0 if there is no transaction with more than 5 cupcakes sold\n",
    "\n",
    "Example:\n",
    "\n",
    "Input:\n",
    "\n",
    "5\n",
    "\n",
    "1 2 3 4 5\n",
    "\n",
    "Output:\n",
    "\n",
    "5\n"
   ]
  },
  {
   "cell_type": "code",
   "execution_count": null,
   "metadata": {},
   "outputs": [],
   "source": [
    "total = int(input())\n",
    "numbers = list(map(int, input().split()))\n",
    "result = 0\n",
    "for number in numbers:\n",
    "    if number >= 5:\n",
    "        result += number\n",
    "\n",
    "print(result)\n"
   ]
  },
  {
   "cell_type": "code",
   "execution_count": null,
   "metadata": {},
   "outputs": [],
   "source": []
  },
  {
   "cell_type": "markdown",
   "metadata": {},
   "source": [
    "# program 96\n",
    "\n",
    "Problem Statement:\n",
    "You are given a string S. You want to make the maximum possible number of substrings of S with the same characters and for that you can swap any two characters of the string any number of times. Your task is to find and return an integer value representing the maximum possible number of substrings with same characters.\n",
    "\n",
    "\n",
    "\n",
    "Note: Count every character as unique.\n",
    "\n",
    "\n",
    "\n",
    "Input Specification:\n",
    "\n",
    "Input1: A string value S\n",
    "\n",
    "\n",
    "\n",
    "Output Specification:\n",
    "\n",
    "Return an integer value representing the maximum possible number of substrings with same characters\n",
    "\n",
    "\n",
    "\n",
    "Example:\n",
    "\n",
    "Input:\n",
    "\n",
    "asda\n",
    "\n",
    "Output:\n",
    "\n",
    "5\n",
    "\n",
    "Explanation:\n",
    "\n",
    "We can swap the last a and s we get aasd. so now the substrings are \"a\",\"a\",\"aa\",\"d\",\"s\". So we get an output of 5."
   ]
  },
  {
   "cell_type": "code",
   "execution_count": 21,
   "metadata": {},
   "outputs": [
    {
     "name": "stdout",
     "output_type": "stream",
     "text": [
      "5\n"
     ]
    }
   ],
   "source": [
    "from collections import Counter\n",
    "s=input()\n",
    "f=Counter(s)\n",
    "m=0\n",
    "for c in f.values():\n",
    "    m+=c*(c+1)//2\n",
    "print(m)\n",
    "    "
   ]
  },
  {
   "cell_type": "code",
   "execution_count": null,
   "metadata": {},
   "outputs": [],
   "source": []
  },
  {
   "cell_type": "markdown",
   "metadata": {},
   "source": [
    "# program 97\n",
    "\n",
    "Problem Statement:\n",
    "You are given a string S representing the colours of houses (red(R), blue(8) or white(W)). The badness value is the number of differently- coloured adjacent houses. You can paint the white houses red or blue to minimize the badness value. Your task is to find and return an integer value representing the minimum possible badness value.\n",
    "\n",
    "\n",
    "\n",
    "Input Specification:\n",
    "\n",
    "input1: A string value S, representing the colours of houses\n",
    "\n",
    "\n",
    "\n",
    "Output Specification:\n",
    "\n",
    "Return an integer value representing the minimum possible badness value.\n",
    "\n",
    "\n",
    "\n",
    "Example 1:\n",
    "\n",
    "input1:\n",
    "\n",
    "RRWBWBW\n",
    "\n",
    "Output:\n",
    "\n",
    "1\n"
   ]
  },
  {
   "cell_type": "code",
   "execution_count": 23,
   "metadata": {},
   "outputs": [
    {
     "name": "stdout",
     "output_type": "stream",
     "text": [
      "1\n"
     ]
    }
   ],
   "source": [
    "s=input().strip()\n",
    "c=0\n",
    "for i in range(1,len(s)-1):\n",
    "    if s[i-1]==\"R\" and s[i]==\"W\" and s[i+1]==\"B\":\n",
    "        c+=1\n",
    "print(c)\n",
    "    "
   ]
  },
  {
   "cell_type": "markdown",
   "metadata": {},
   "source": [
    "# program 98\n",
    "\n",
    "Problem Statement\n",
    "Alice is playing a game in which he has been given several strings and has been provided with a list of numbers. Robert would burst a balloon k times. Each time Robert burst a balloon, Robert is to Replace the list numbers by the additive inverse of the number.\n",
    "\n",
    "When completed, Alice would get the maximum possible sum of Alice's numbers as prize money.\n",
    "\n",
    "Print the prize money Alice would get.\n",
    "\n",
    "Input Format\n",
    "The first line contains two space separated integers N and K.\n",
    "\n",
    "The second line contains N spce-seprated integers denoting the elements of the array.\n",
    "\n",
    "Output Format\n",
    "Display an integer denoting the maximum sum Alice can get after K operations.\n",
    "\n",
    "Constraints\n",
    "1 ≤ N,K ≤ 105\n",
    "\n",
    "-109 ≤ Ai ≤ 109\n",
    "\n",
    "Sample Testcase 0\n",
    "Testcase Input\n",
    "\n",
    "4 3\n",
    "\n",
    "9 8 8 5\n",
    "\n",
    "Testcase Output\n",
    "20\n",
    "\n",
    "Explanation\n",
    "1. Replace (5) by (-5), array becomes {9,8,8,-5}\n",
    "\n",
    "\n",
    "2. Replace (-5) by -(-5), array becomes {9,8,8,5}\n",
    "\n",
    "\n",
    "3. Replace (5) by (-5), array becomes {9,8,8,-5}\n",
    "\n",
    "\n",
    "Here, the sum of the array is 20 which is the maximum possible.\n",
    "\n",
    "Sample Testcase 1\n",
    "Testcase Input\n",
    "\n",
    "5 4\n",
    "\n",
    "-2 0 5 -1 2\n",
    "\n",
    "Testcase Output\n",
    "10\n",
    "\n",
    "\n",
    "Explanation\n",
    "1. Replace (-2) by -(-2), array becomes {2, 0, 5, -1, 2}\n",
    "\n",
    "\n",
    "2. Replace (-1) by -(-1), array becomes {2, 0, 5, 1, 2}\n",
    "\n",
    "\n",
    "3. Replace (0) by -(0), array becomes {2, 0, 5, 1, 2}\n",
    "\n",
    "\n",
    "4. Replace (0) by -(0), array becomes {2, 0, 5, 1, 2}\n",
    "\n",
    "\n",
    "Here, the sum of the array is 10 which is the maximum possible."
   ]
  },
  {
   "cell_type": "code",
   "execution_count": 1,
   "metadata": {},
   "outputs": [
    {
     "name": "stdout",
     "output_type": "stream",
     "text": [
      "10\n"
     ]
    }
   ],
   "source": [
    "def max_sum_after_operations(N, K, arr):\n",
    "    # Sort the array\n",
    "    arr.sort()\n",
    "\n",
    "    # Flip the negative numbers\n",
    "    for i in range(N):\n",
    "        if K > 0 and arr[i] < 0:\n",
    "            arr[i] = -arr[i]\n",
    "            K -= 1\n",
    "    \n",
    "    # If K is still odd, flip the smallest number (smallest positive or zero)\n",
    "    if K % 2 == 1:\n",
    "        arr.sort()\n",
    "        arr[0] = -arr[0]\n",
    "    \n",
    "    # Calculate the sum of the array\n",
    "    return sum(arr)\n",
    "\n",
    "# Input Reading\n",
    "N, K = map(int, input().split())\n",
    "arr = list(map(int, input().split()))\n",
    "\n",
    "# Function call and output\n",
    "print(max_sum_after_operations(N, K, arr))\n"
   ]
  },
  {
   "cell_type": "markdown",
   "metadata": {},
   "source": [
    "# Program 99 : \n",
    "Given a list of non-negative integers nums, arrange them such that they form the largest number and return it.\n",
    "\n",
    "Since the result may be very large, so you need to return a string instead of an integer.\n",
    "\n",
    " \n",
    "\n",
    "Example 1:\n",
    "\n",
    "Input: nums = [10,2]\n",
    "Output: \"210\"\n",
    "Example 2:\n",
    "\n",
    "Input: nums = [3,30,34,5,9]\n",
    "Output: \"9534330\"\n",
    " \n",
    "\n",
    "Constraints:\n",
    "\n",
    "1 <= nums.length <= 100\n",
    "\n",
    "0 <= nums[i] <= 109"
   ]
  },
  {
   "cell_type": "code",
   "execution_count": 11,
   "metadata": {},
   "outputs": [
    {
     "name": "stdout",
     "output_type": "stream",
     "text": [
      "['1', '2', '9', '22']\n",
      "['9', '2', '22', '1']\n",
      "92221\n",
      "92221\n"
     ]
    }
   ],
   "source": [
    "from functools import cmp_to_key\n",
    "\n",
    "nums = [1,2,9,22]\n",
    "nums = list(map(str, nums))\n",
    "        \n",
    "def compare(x, y):\n",
    "    if x + y > y + x:\n",
    "        return -1\n",
    "    else:\n",
    "        return 1\n",
    "      \n",
    "print(nums)\n",
    "nums.sort(key=cmp_to_key(compare))\n",
    "print(nums)\n",
    "largest_num = ''.join(nums)\n",
    "print(largest_num)\n",
    "if largest_num[0] == '0':\n",
    "    print('0')\n",
    "\n",
    "print(largest_num)"
   ]
  },
  {
   "cell_type": "code",
   "execution_count": null,
   "metadata": {},
   "outputs": [],
   "source": []
  },
  {
   "cell_type": "markdown",
   "metadata": {},
   "source": [
    "# Program 100\n",
    "\n",
    "\n",
    "# palindrome of numbers"
   ]
  },
  {
   "cell_type": "code",
   "execution_count": 1,
   "metadata": {},
   "outputs": [
    {
     "name": "stdout",
     "output_type": "stream",
     "text": [
      "True\n"
     ]
    }
   ],
   "source": [
    "def palindrome(n1):\n",
    "    temp, rev = n1, 0\n",
    "    while temp > 0:\n",
    "        rev = (rev * 10) + (temp % 10)\n",
    "        temp //= 10\n",
    "    return rev == n1\n",
    "\n",
    "print(palindrome(12321))"
   ]
  },
  {
   "cell_type": "markdown",
   "metadata": {},
   "source": [
    "# program 101\n",
    "\n",
    "# palindrome of String"
   ]
  },
  {
   "cell_type": "code",
   "execution_count": 3,
   "metadata": {},
   "outputs": [
    {
     "name": "stdout",
     "output_type": "stream",
     "text": [
      "False\n"
     ]
    }
   ],
   "source": [
    "def palindromeofstring(string):\n",
    "  left = 0\n",
    "  right = len(string) - 1\n",
    "  while left < right:\n",
    "    if string[left] != string[right]:\n",
    "      return False\n",
    "    else:\n",
    "      left += 1\n",
    "      right -= 1\n",
    "  return True\n",
    "\n",
    "string = \"lokeshhseko0l\"\n",
    "print(palindromeofstring(string))"
   ]
  },
  {
   "cell_type": "markdown",
   "metadata": {},
   "source": [
    "# program 102\n",
    "\n",
    "# longest sub palindrome"
   ]
  },
  {
   "cell_type": "code",
   "execution_count": 4,
   "metadata": {},
   "outputs": [
    {
     "name": "stdout",
     "output_type": "stream",
     "text": [
      "Longest palindromic substring: abbabba\n"
     ]
    }
   ],
   "source": [
    "def longest_palindrome(s):\n",
    "    def expand_around_center(left, right):\n",
    "        while left >= 0 and right < len(s) and s[left] == s[right]:\n",
    "            left -= 1\n",
    "            right += 1\n",
    "        return s[left + 1:right]\n",
    "\n",
    "    longest = \"\"\n",
    "    for i in range(len(s)):\n",
    "        odd_palindrome = expand_around_center(i, i)\n",
    "        even_palindrome = expand_around_center(i, i + 1)\n",
    "        if len(odd_palindrome) > len(longest):\n",
    "            longest = odd_palindrome\n",
    "        if len(even_palindrome) > len(longest):\n",
    "            longest = even_palindrome\n",
    "\n",
    "    return longest\n",
    "\n",
    "# Example Usage\n",
    "s = input(\"Enter a string: \")\n",
    "print(\"Longest palindromic substring:\", longest_palindrome(s))\n"
   ]
  },
  {
   "cell_type": "markdown",
   "metadata": {},
   "source": [
    "# program 103\n",
    "\n",
    "# buy sell and profit"
   ]
  },
  {
   "cell_type": "code",
   "execution_count": 6,
   "metadata": {},
   "outputs": [
    {
     "name": "stdout",
     "output_type": "stream",
     "text": [
      "8\n",
      "Maximum Profit: 8\n",
      "8\n"
     ]
    }
   ],
   "source": [
    "arr = [5,8,1,7,9]\n",
    "\n",
    "#               1\n",
    "\n",
    "max_profit = 0\n",
    "for i in range(len(arr)):\n",
    "  for j in range(i+1,len(arr)):\n",
    "    price = arr[j]-arr[i]\n",
    "    if price>max_profit:\n",
    "      max_profit = price\n",
    "\n",
    "print(max_profit) \n",
    "\n",
    "\n",
    "#          2\n",
    "\n",
    "def max_profit(arr):\n",
    "    min_price = float('inf')\n",
    "    max_profit = 0\n",
    "    for price in arr:\n",
    "        min_price = min(min_price, price)\n",
    "        \n",
    "        profit = price - min_price\n",
    "        max_profit = max(max_profit, profit)\n",
    "    \n",
    "    return max_profit\n",
    "\n",
    "\n",
    "print(\"Maximum Profit:\", max_profit(arr))\n",
    "\n",
    "\n",
    "#              3\n",
    "\n",
    "\n",
    "max_profit = 0\n",
    "buy_day = 0\n",
    "sell_day = 0\n",
    "buy = 0\n",
    "for sell in range(len(arr)):\n",
    "  if arr[buy] < arr[sell]:\n",
    "    profit = arr[sell] - arr[buy]\n",
    "    if profit > max_profit:\n",
    "      max_profit = profit\n",
    "  else:\n",
    "    buy = sell\n",
    "\n",
    "print(max_profit)\n",
    "\n"
   ]
  },
  {
   "cell_type": "markdown",
   "metadata": {},
   "source": [
    "# program 104\n",
    "\n",
    "# Counting the carry"
   ]
  },
  {
   "cell_type": "code",
   "execution_count": 7,
   "metadata": {},
   "outputs": [
    {
     "name": "stdout",
     "output_type": "stream",
     "text": [
      "3\n"
     ]
    }
   ],
   "source": [
    "\n",
    "def counting_carry(n1,n2):\n",
    "  carry = 0\n",
    "  count_carry = 0\n",
    "  \n",
    "  while n1>0 or n2 > 0:\n",
    "    nu1 = n1%10\n",
    "    nu2 = n2%10\n",
    "    \n",
    "    sums = nu1 + nu2 + carry\n",
    "    \n",
    "    if sums > 9:\n",
    "      carry = 1\n",
    "      count_carry += 1\n",
    "    else:\n",
    "      carry = 0\n",
    "    n1 //= 10\n",
    "    n2 //= 10\n",
    "\n",
    "  return count_carry\n",
    "\n",
    "print(counting_carry(999,3399))"
   ]
  },
  {
   "cell_type": "markdown",
   "metadata": {},
   "source": [
    "# program 105"
   ]
  },
  {
   "cell_type": "markdown",
   "metadata": {},
   "source": [
    "The Binary number system only uses two digits, 0 and 1 and the number system can be called binary string. You are required to implement the \n",
    "\n",
    "following function:\n",
    " int OperationsBinaryString(char* str);\n",
    " The function accepts a string str as its argument. The string str consists of \n",
    "binary digits separated with an alphabet as follows:\n",
    "\n",
    " •– A denotes AND operation\n",
    " •– B denotes OR operation\n",
    " •– C denotes XOR Operation\n",
    " You are required to calculate the result of the string str, scanning the string to \n",
    "right taking one operation at a time, and return the same.\n",
    "\n",
    "Note:\n",
    " •No order of priorities of operations is required\n",
    " •Length of str is odd\n",
    " •If str is NULL or None (in case of Python), return -1\n",
    "\n",
    " Input:\n",
    "\n",
    " str: 1C0C1C1A0B1\n",
    "\n",
    " Output:\n",
    "\n",
    " 1\n",
    "\n",
    " Explanation: The alphabets in str when expanded becomes “1 XOR 0 XOR 1 XOR 1 AND 0 OR 1”, the result of the expression becomes 1, hence 1 is returned.\n",
    " \n",
    " Sample Input:\n",
    " \n",
    " 0C1A1B1C1C1B0A0\n"
   ]
  },
  {
   "cell_type": "code",
   "execution_count": 53,
   "metadata": {},
   "outputs": [
    {
     "name": "stdout",
     "output_type": "stream",
     "text": [
      "1\n"
     ]
    }
   ],
   "source": [
    "def OperationsBinaryString(string):\n",
    "  \n",
    "  if len(string)%2 ==0:\n",
    "    return -1\n",
    "  else:\n",
    "    result = int(string[0])\n",
    "    i = 1\n",
    "    while i < len(string):\n",
    "      if string[i] == \"A\":\n",
    "        result &= int(string[i+1])\n",
    "      elif string[i] == \"B\":\n",
    "        result |= int(string[i+1])\n",
    "      elif string[i] == \"C\":\n",
    "        result ^= int(string[i+1])\n",
    "      \n",
    "      i+=2\n",
    "  \n",
    "    return result\n",
    "\n",
    "string =  \"1C0C1C1A0B1\"\n",
    "\n",
    "print(OperationsBinaryString(string))\n"
   ]
  },
  {
   "cell_type": "markdown",
   "metadata": {},
   "source": [
    "# program 106\n",
    "\n",
    " You are given a function. int CheckPassword(char str[], int n); The function accepts string str of size n as an argument. Implement the function which returns 1 if given string str is valid password else 0.\n",
    " str is a valid password if it satisfies the below conditions.– At least 4 characters– At least one numeric digit– At Least one Capital Letter– Must not have space or slash (/)– Starting character must not be a number Assumption:\n",
    " \n",
    " Input string will not be empty.\n",
    " \n",
    " Example:\n",
    " \n",
    " Input 1:\n",
    " \n",
    " aA1_67\n",
    " \n",
    "\n",
    " Input 2:\n",
    " \n",
    " a987 abC012\n",
    "\n",
    " Output 1:\n",
    " \n",
    " 1\n",
    "\n",
    " Output 2:\n",
    " \n",
    " 0\n"
   ]
  },
  {
   "cell_type": "code",
   "execution_count": 52,
   "metadata": {},
   "outputs": [
    {
     "name": "stdout",
     "output_type": "stream",
     "text": [
      "1\n"
     ]
    }
   ],
   "source": [
    "def CheckPassword(string):\n",
    "  if len(string) < 4:\n",
    "    return 0\n",
    "  \n",
    "  if s[0].isdigit():\n",
    "    return 0\n",
    "  \n",
    "  has_digits = False\n",
    "  has_upper = False\n",
    "  \n",
    "  for i in string:\n",
    "    if i.isupper():\n",
    "      has_upper = True\n",
    "    \n",
    "    elif i.isdigit():\n",
    "      has_digits = True\n",
    "    \n",
    "    elif i == \" \" or i == \"/\":\n",
    "      return 0\n",
    "    \n",
    "  if has_digits and has_upper:\n",
    "    return 1\n",
    "  else:\n",
    "    return 0\n",
    "\n",
    "string = \"aA1_67\"\n",
    "# string = \"a987 abC012\"\n",
    "\n",
    "print(CheckPassword(string))"
   ]
  },
  {
   "cell_type": "markdown",
   "metadata": {},
   "source": [
    "# program 106\n",
    "You are given a function, int findCount(int arr[], int length, int num, int diff);The function accepts an integer array ‘arr’, its length and two integer variables ‘num’ and ‘diff’. Implement this function to find and return the number of elements of ‘arr’ having an absolute difference of less than or equal to ‘diff’ with ‘num’.\n",
    " Note: In case there is no element in ‘arr’ whose absolute difference with ‘num’ is less than or equal to ‘diff’, return -1.\n",
    "\n",
    "Example:\n",
    " \n",
    " Input:\n",
    " \n",
    " arr: 12 3 14 56 77 13\n",
    " \n",
    " num: 13\n",
    " \n",
    " diff: 2\n",
    " \n",
    " Output:\n",
    " \n",
    " 3\n",
    " \n",
    " Explanation:\n",
    "\n",
    " Elements of ‘arr’ having absolute difference of less than or equal to ‘diff’ i.e. 2 with ‘num’ i.e. 13 are 12, 13 and 14.\n"
   ]
  },
  {
   "cell_type": "code",
   "execution_count": 22,
   "metadata": {},
   "outputs": [
    {
     "name": "stdout",
     "output_type": "stream",
     "text": [
      "3\n"
     ]
    }
   ],
   "source": [
    "\n",
    "def findcount(array,num,diff):\n",
    "  count = 0\n",
    "  for i in array:\n",
    "    if abs(i - num) < diff:\n",
    "      count += 1\n",
    "  \n",
    "  return count if count >0 else -1\n",
    "\n",
    "array = [12,3,14,56,77,13]\n",
    "num = 13\n",
    "diff = 2\n",
    "\n",
    "print(findcount(array,num,diff))"
   ]
  },
  {
   "cell_type": "markdown",
   "metadata": {},
   "source": [
    "# program 107\n",
    "\n",
    "Implement the following Function def differenceofSum(n. m) The function accepts two integers n, m as arguments Find the sum of all numbers in range from 1 to m(both inclusive) that are not divisible by n. \n",
    "\n",
    "Return difference between sum of integers not divisible by n with sum of numbers divisible by n.\n",
    "\n",
    "Assumption:\n",
    "\n",
    "n>0 and m>0\n",
    "\n",
    "Sum lies between integral range\n",
    "\n",
    "Example\n",
    "\n",
    "Input\n",
    "\n",
    "n:4\n",
    "\n",
    "m:20\n",
    "\n",
    "Output\n",
    "\n",
    "90\n",
    "\n",
    "Explanation\n",
    "\n",
    "Sum of numbers divisible by 4 are 4 + 8 + 12 + 16 + 20 = 60\n",
    "\n",
    "Sum of numbers not divisible by 4 are 1 +2 + 3 + 5 + 6 + 7 + 9 + 10 + 11 + 13 + 14 + 15 + 17 + 18 + 19 = 150\n",
    "\n",
    "Difference 150 – 60 = 90\n",
    "\n",
    "Sample Input\n",
    "\n",
    "n:3\n",
    "\n",
    "m:10\n",
    "\n",
    "Sample Output\n",
    "\n",
    "19\n"
   ]
  },
  {
   "cell_type": "code",
   "execution_count": null,
   "metadata": {},
   "outputs": [
    {
     "name": "stdout",
     "output_type": "stream",
     "text": [
      "90\n"
     ]
    }
   ],
   "source": [
    "\n",
    "def differenceofSum(n,m):\n",
    "  divisible = 0\n",
    "  not_divisibles = 0\n",
    "  for i in range(1,m+1):\n",
    "    if i%n ==0:\n",
    "      divisible += i\n",
    "    else:\n",
    "      not_divisibles += i\n",
    "  \n",
    "  return not_divisibles - divisible\n",
    "  \n",
    "n = 4\n",
    "m = 20\n",
    "\n",
    "print(differenceofSum(n,m))"
   ]
  },
  {
   "cell_type": "markdown",
   "metadata": {},
   "source": [
    "# program 108\n",
    "\n",
    "You are required to implement the following Function def LargeSmallSum(arr) The function accepts an integers arr of size ’length’ as its arguments you are required to return the sum of second largest  element from the even positions and second smallest from the odd position of given ‘arr’\n",
    "\n",
    "Assumption:\n",
    "\n",
    "All array elements are unique Treat the 0th position as even\n",
    "\n",
    "NOTE\n",
    "\n",
    "Return 0 if array is empty\n",
    "\n",
    "Return 0, if array length is 3 or less than 3\n",
    "\n",
    "Example\n",
    "\n",
    "Input\n",
    "\n",
    "arr:3 2 1 7 5 4\n",
    "\n",
    "Output\n",
    "\n",
    "7\n",
    "\n",
    "Explanation\n",
    "\n",
    "Second largest among even position elements(1 3 5) is 3\n",
    "\n",
    "Second smallest among odd position element is 4\n",
    "\n",
    "Thus output is 3+4 = 7\n",
    "\n",
    "Sample Input\n",
    "\n",
    "arr:1 8 0 2 3 5 6\n",
    "\n",
    "Sample Output\n",
    "\n",
    "8\n"
   ]
  },
  {
   "cell_type": "code",
   "execution_count": null,
   "metadata": {},
   "outputs": [
    {
     "name": "stdout",
     "output_type": "stream",
     "text": [
      "0\n"
     ]
    }
   ],
   "source": [
    "def LargeSmallSum(arr):\n",
    "  if len(arr) <=3 or not arr:\n",
    "    return 0\n",
    "  small = [arr[i] for i in range(0,len(arr),2)]\n",
    "  largest = [arr[i] for i in range(1,len(arr),2)]\n",
    "  \n",
    "  small.sort()\n",
    "  largest.sort()\n",
    "  \n",
    "  small_2 = small[-2] if len(arr)>1 else None\n",
    "  largest_2 = largest[-2] if len(arr)>1 else None\n",
    "  \n",
    "  if small_2 and largest_2:\n",
    "    return small_2 + largest_2\n",
    "  else:\n",
    "    return 0\n",
    "  \n",
    "  \n",
    "# arr = [3,2,1,7,5,4]\n",
    "arr = [1, 8, 0, 2, 3, 5, 6]\n",
    "# arr = []\n",
    "print(LargeSmallSum(arr))"
   ]
  },
  {
   "cell_type": "markdown",
   "metadata": {},
   "source": [
    "# program 109\n",
    "\n",
    "Implement the following Function def ProductSmallestPair(sum, arr) The function accepts an integers sum and an integer array arr of size n.  Implement the function to find the pair, (arr[j], arr[k]) where j!=k, Such that arr[j] and arr[k] are the least two elements of array (arr[j] + arr[k] <= sum) and return the product of element of this pair\n",
    "\n",
    "\n",
    "NOTE\n",
    "\n",
    "Return -1 if array is empty or if n<2\n",
    "\n",
    "Return 0, if no such pairs found\n",
    "\n",
    "All computed values lie within integer range\n",
    "\n",
    "Example\n",
    "\n",
    "Input\n",
    "\n",
    "sum:9\n",
    "\n",
    "size of Arr = 7\n",
    "\n",
    "Arr:5 2 4 3 9 7 1\n",
    "\n",
    "Output\n",
    "\n",
    "2\n",
    "\n",
    "Explanation\n",
    "\n",
    "Pair of least two element is (2, 1) 2 + 1 = 3 < 9, Product of (2, 1) 2*1 = 2. Thus, output is 2\n",
    "\n",
    "Sample Input\n",
    "\n",
    "sum:4\n",
    "\n",
    "size of Arr = 6\n",
    "\n",
    "Arr:9 8 3 -7 3 9\n",
    "\n",
    "Sample Output-21\n"
   ]
  },
  {
   "cell_type": "code",
   "execution_count": 46,
   "metadata": {},
   "outputs": [
    {
     "name": "stdout",
     "output_type": "stream",
     "text": [
      "-21\n"
     ]
    }
   ],
   "source": [
    "def productsmallestpair(target,arr):\n",
    "  if len(arr)<=2 or not arr:\n",
    "    return -1\n",
    "  \n",
    "  arr.sort()\n",
    "  \n",
    "  n1 = arr[0]\n",
    "  n2 = arr[1]\n",
    "  \n",
    "  if n1+n1 < target:\n",
    "    return n1 * n2\n",
    "  else:\n",
    "    return 0\n",
    "arr = [9,8,3,-7,3,9]\n",
    "target = 4\n",
    "\n",
    "print(productsmallestpair(target,arr))\n"
   ]
  },
  {
   "cell_type": "markdown",
   "metadata": {},
   "source": [
    "# program 110\n",
    "\n",
    "N-base notation is a system for writing numbers that uses only n different symbols, This symbols are the first n symbols from the given notation list(Including the symbol for o) Decimal to n base notation are (0:0, 1:1, 2:2, 3:3, 4:4, 5:5, 6:6, 7:7, 8:8, 9:9, 10:A,11:B and so on upto 35:Z)\n",
    "\n",
    "Implement the following function\n",
    "\n",
    "Char* DectoNBase(int n, int num):\n",
    "\n",
    "The function accept positive integer n and num Implement the function to calculate the n-base equivalent of num and return the same as a string\n",
    "\n",
    "\n",
    "Steps:\n",
    "Divide the decimal number by n,Treat the division as the integer division Write the the remainder (in  n-base notation)\n",
    "\n",
    "Divide the quotient again by n, Treat the division as integer division Repeat step 2 and 3 until the quotient is 0\n",
    "\n",
    "The n-base value is the sequence of the remainders from last to first\n",
    "\n",
    "Assumption:\n",
    "\n",
    "1 < n < = 36\n",
    "\n",
    "Example\n",
    "\n",
    "Input\n",
    "\n",
    "n: 12\n",
    "\n",
    "num: 718\n",
    "\n",
    "Output\n",
    "\n",
    "4BA\n",
    "\n",
    "Explanation\n",
    "\n",
    "num                       ,      Divisor ,        quotient     ,     remainder\n",
    "\n",
    "718                        ,       12     ,          59         ,      10(A)\n",
    "\n",
    "59           ,                     12      ,          4          ,       11(B)\n",
    " \n",
    "4             ,                    12       ,         0           ,      4(4)\n",
    "\n",
    "Sample Input\n",
    "\n",
    "n: 21\n",
    "\n",
    "num: 5678\n",
    "\n",
    "Sample Output\n",
    "\n",
    "CI8"
   ]
  },
  {
   "cell_type": "code",
   "execution_count": 51,
   "metadata": {},
   "outputs": [
    {
     "name": "stdout",
     "output_type": "stream",
     "text": [
      "CI8\n"
     ]
    }
   ],
   "source": [
    "\n",
    "def DectoNBase(n,num):\n",
    "  digits = \"0123456789ABCDEFGHIJKLMNOPQRSTUVWXYZ\"\n",
    "  if num ==0:\n",
    "    return \"0\"\n",
    "  \n",
    "  result = ''\n",
    "  while num > 0:\n",
    "    remander = num%n\n",
    "    result = digits[remander] + result\n",
    "    num //= n\n",
    "    \n",
    "  return result\n",
    "\n",
    "n = 21\n",
    "num = 5678\n",
    "\n",
    "print(DectoNBase(n,num))"
   ]
  },
  {
   "cell_type": "markdown",
   "metadata": {},
   "source": [
    "# program 111\n",
    "\n",
    "Q8. Problem Statement:\n",
    "\n",
    "Implement the following functions.a char*MoveHyphen(char str[],int n); The function accepts a string “str” of length ‘n’, that contains alphabets and  hyphens (-). Implement the function to move all hyphens(-) in the string to the front of the given string.\n",
    "\n",
    "NOTE:- Return null if str is null.\n",
    "\n",
    "Input:\n",
    "\n",
    "Move-Hyphens-to-Front\n",
    "\n",
    "Output:\n",
    "\n",
    "—MoveHyphenstoFront\n",
    "\n",
    "Explanation:\n",
    "\n",
    "The string “Move-Hyphens -to-front” has 3 hyphens (-), which are moved to \n",
    "\n",
    "the front of the string, this output is “— MoveHyphentoFront”\n",
    "\n",
    "Sample Input\n",
    "\n",
    "String-Compare\n",
    "\n",
    "Sample Output\n",
    "\n",
    "-StringCompare\n"
   ]
  },
  {
   "cell_type": "code",
   "execution_count": 76,
   "metadata": {},
   "outputs": [
    {
     "name": "stdout",
     "output_type": "stream",
     "text": [
      "-StringCompare\n"
     ]
    }
   ],
   "source": [
    "\n",
    "def MoveHyphen(string):\n",
    "  if len(string) ==0:\n",
    "    return None\n",
    "  \n",
    "  ch1 = \"\"\n",
    "  ch2 = \"\"\n",
    "  for char in string:\n",
    "    if char ==\"-\":\n",
    "      ch1 += char\n",
    "    else:\n",
    "      ch2 += char\n",
    "  return ch1+ch2\n",
    "\n",
    "\n",
    "string = \"String-Compare\"\n",
    "\n",
    "print(MoveHyphen(string))"
   ]
  },
  {
   "cell_type": "markdown",
   "metadata": {},
   "source": [
    "# program 112\n",
    "\n",
    "A carry is a digit that is transferred to left if sum of digits exceeds 9 while adding two numbers from right-to-left one digit at a time You are required to implement the following function.\n",
    "\n",
    "Int NumberOfCarries(int num1 , int num2);\n",
    "\n",
    "The functions accepts two numbers ‘num1’ and ‘num2’ as its arguments. You are required to calculate and return  the total number of carries generated while adding digits of two numbers ‘num1’ and ‘ num2’.\n",
    "\n",
    "\n",
    "Assumption: num1, num2>=0\n",
    "\n",
    "Example:\n",
    "\n",
    "Input\n",
    "\n",
    "Num 1: 451\n",
    "\n",
    "Num 2: 349\n",
    "\n",
    "Output\n",
    "\n",
    "2\n",
    "\n",
    "Explanation:\n",
    "\n",
    "Adding ‘num 1’ and ‘num 2’ right-to-left results in 2 carries since ( 1+9) is 10. 1 is carried and (5+4=1) is 10, again 1 is carried. Hence 2 is returned.\n",
    "\n",
    "Sample Input\n",
    "\n",
    "Num 1: 23\n",
    "\n",
    "Num 2: 563\n",
    "\n",
    "Sample Output\n",
    "\n",
    "0\n"
   ]
  },
  {
   "cell_type": "code",
   "execution_count": 85,
   "metadata": {},
   "outputs": [
    {
     "name": "stdout",
     "output_type": "stream",
     "text": [
      "2\n"
     ]
    }
   ],
   "source": [
    "\n",
    "def NumberOfCarries(num1,num2):\n",
    "  carry_count = 0\n",
    "  carry = 0\n",
    "  \n",
    "  while num2>0 and num1>0:\n",
    "    n1 = num1%10\n",
    "    n2 = num2%10\n",
    "    \n",
    "    addition = n1 + n2 + carry\n",
    "    \n",
    "    if addition > 9:\n",
    "      carry_count += 1\n",
    "      carry = 1\n",
    "    else:\n",
    "      carry = 0\n",
    "    \n",
    "    num1//=10\n",
    "    num2//=10\n",
    "  return carry_count\n",
    "\n",
    "num1 = 451\n",
    "num2 = 349\n",
    "print(NumberOfCarries(num1,num2))"
   ]
  },
  {
   "cell_type": "markdown",
   "metadata": {},
   "source": [
    "# program 113\n",
    "\n",
    "You are given a function, Void *ReplaceCharacter(Char str[], int n, char ch1, char ch2); The function accepts a string  ‘ str’ of length n and two characters ‘ch1’ and ‘ch2’ as its arguments . Implement the function to modify and return the string ‘ str’ in such a way that all occurrences of ‘ch1’ in original string are replaced by ‘ch2’ and all occurrences of ‘ch2’  in original string are replaced by ‘ch1’.\n",
    "\n",
    "Assumption:\n",
    " String Contains only lower-case alphabetical letters.\n",
    "\n",
    "Note:\n",
    "\n",
    "Return null if string is null. If both characters are not present in string or both of them are same , then return the string unchanged.\n",
    "\n",
    "Example:\n",
    "\n",
    "Input:\n",
    "\n",
    "Str: apples\n",
    "\n",
    "ch1:a\n",
    "\n",
    "ch2:p\n",
    "\n",
    "Output:\n",
    "\n",
    "Paales\n",
    "\n",
    "Explanation:\n",
    "\n",
    "‘A’ in original string is replaced with ‘p’ and ‘p’ in original string is replaced with ‘a’, thus output is paales"
   ]
  },
  {
   "cell_type": "code",
   "execution_count": 97,
   "metadata": {},
   "outputs": [
    {
     "name": "stdout",
     "output_type": "stream",
     "text": [
      "paales\n"
     ]
    }
   ],
   "source": [
    "\n",
    "def ReplaceCharacter(string,ch1,ch2):\n",
    "  if len(string) == 0:\n",
    "    return None\n",
    "  if ch1 == ch2:\n",
    "    return string\n",
    "  \n",
    "  string = list(string)\n",
    "  \n",
    "  for i in range(len(string)):\n",
    "    if string[i] == ch1:\n",
    "      string[i] = ch2\n",
    "    elif string[i] == ch2:\n",
    "      string[i] = ch1\n",
    "  \n",
    "  return \"\".join(string)\n",
    "\n",
    "string = \"apples\"\n",
    "\n",
    "ch1 = \"a\"\n",
    "\n",
    "ch2 = \"p\"\n",
    "\n",
    "print(ReplaceCharacter(string,ch1,ch2))"
   ]
  },
  {
   "cell_type": "markdown",
   "metadata": {},
   "source": [
    "# ReinPrep"
   ]
  },
  {
   "cell_type": "markdown",
   "metadata": {},
   "source": [
    "# program 114\n",
    "\n",
    "Problem Statement:\n",
    "You are given a string S of length N. Your friend wants to know the number of times his favorite letter C occurs in the string. Your task is to help your friend find and return an integer value representing the number of times a character occurs in a particular string\n",
    "\n",
    "Input Specification:\n",
    "\n",
    "input1: A string S\n",
    "\n",
    "input2: An Integer N, representing the length of string\n",
    "\n",
    "Input3: A character C\n",
    "\n",
    "Output Specification:\n",
    "\n",
    "Return an Integer value representing the number of times a character occurs in a particular string.\n",
    "\n",
    "Example 1:\n",
    "\n",
    "Input1: helloworld\n",
    "\n",
    "input2: 10\n",
    "\n",
    "input3:  l\n",
    "\n",
    "Output: 3\n"
   ]
  },
  {
   "cell_type": "code",
   "execution_count": 109,
   "metadata": {},
   "outputs": [
    {
     "name": "stdout",
     "output_type": "stream",
     "text": [
      "3\n"
     ]
    }
   ],
   "source": [
    "string = \"Helloworld\"\n",
    "n = 10\n",
    "target = \"L\"\n",
    "\n",
    "string = string.lower()\n",
    "target = target.lower()\n",
    "\n",
    "\n",
    "print(string.count(target))"
   ]
  },
  {
   "cell_type": "markdown",
   "metadata": {},
   "source": [
    "\n",
    "# program 115\n",
    "\n",
    "Problem Statement:\n",
    "\n",
    "Daniel has a ball. He wants to find the ball's rebound height, which he dropped from height H with an initial velocity V After the Nth Rebound final velocity of the ball is Vh .\n",
    "Your task is to help him find and return an integer value representing the height to which the ball rebounds after N bounces\n",
    "Note :\n",
    "Hn= H x e2n  ,Where Hn is rebound height,H is initial height, e is the coefficient of Restitution and n is the number of bounces\n",
    "en =V/Vn  where V is the initial velocity and Vn is the final velocity\n",
    "\n",
    "Input Specification:\n",
    "input1: An integer H, representing initial height\n",
    "input2: An integer V ,representing initial velocity\n",
    "input3: An integer Vn , representing final velocity\n",
    "\n",
    "Output Specification:\n",
    "Return an integer value representing the height to which the ball rebounds after N bounces.\n",
    "\n",
    "Example 1:\n",
    "\n",
    "input1 : 10\n",
    "\n",
    "input2: 20\n",
    "\n",
    "input3:  6\n",
    "\n",
    "Output: 111\n",
    "\n",
    "Explanation:\n",
    "\n",
    "H=10*(20/5)^2=111.11\n",
    "\n",
    "The integer part of this is 111."
   ]
  },
  {
   "cell_type": "code",
   "execution_count": 1,
   "metadata": {},
   "outputs": [
    {
     "name": "stdout",
     "output_type": "stream",
     "text": [
      "111\n"
     ]
    }
   ],
   "source": [
    "n1 = 10\n",
    "n2 = 20\n",
    "n3 = 6\n",
    "\n",
    "ev = n2/n3\n",
    "result = n1 * (ev**2)\n",
    "\n",
    "print(int(result))"
   ]
  },
  {
   "cell_type": "markdown",
   "metadata": {},
   "source": [
    "# program 116\n",
    "\n",
    "even or odd\n",
    "\n",
    "Problem Statement:\n",
    "Jack has an array A of length N. He wants to label whether the number in the array is even or odd. Your task is to help him find and return a string with labels even or odd in sequence according to which the numbers appear in the array\n",
    "\n",
    "Input Specification:\n",
    "\n",
    "Input1: An integer array A, representing the array of numbers\n",
    "\n",
    "Input2: A integer N, representing the length of array\n",
    "\n",
    "Output Specification:\n",
    "\n",
    "Return a string with labels even or odd in sequence according to which the numbers appear in the array.\n",
    "\n",
    "Example 1:\n",
    "\n",
    "input2: 6\n",
    "\n",
    "Input2: 1,2,3,4,5,6\n",
    "\n",
    "Output: oddevenoddevenoddeven"
   ]
  },
  {
   "cell_type": "code",
   "execution_count": null,
   "metadata": {},
   "outputs": [
    {
     "name": "stdout",
     "output_type": "stream",
     "text": [
      "oddevenoddevenoddeven\n"
     ]
    }
   ],
   "source": [
    "in1 = 6\n",
    "in2 = [1,2,3,4,5,6]\n",
    "\n",
    "result = \"\"\n",
    "for i in in2:\n",
    "  if i%2 ==0:\n",
    "    result += \"even\"\n",
    "  else:\n",
    "    result += \"odd\"\n",
    "\n",
    "print(result)"
   ]
  },
  {
   "cell_type": "markdown",
   "metadata": {},
   "source": [
    "# program 117\n",
    "\n",
    "# sum XOR\n",
    "Problem Statement:\n",
    "\n",
    "You are given an array A of length N. Your task is to find and return an integer value representing the difference between the sum of elements at odd index and XOR of elements at even index.\n",
    "\n",
    "Input Specifications :\n",
    "\n",
    "input1: An integer N, representing the length of array\n",
    "\n",
    "input2: An integer array A\n",
    "\n",
    "Output Specification:\n",
    "\n",
    "Return an integer value representing the difference between the sum of elements at odd index and XOR of elements at even index.\n",
    "\n",
    "Example 1:\n",
    "\n",
    "input1 : 6\n",
    "\n",
    "input2 : {10,5,6,3,7,2}\n",
    "\n",
    "Output : -1\n",
    "\n",
    "Explanation :\n",
    "\n",
    "Here N is 6 and the array A ={10,5,6,3,7,2}. The sum of elements at odd positions are 5+3+2=10 and the XOR of elements at even positions are 10 ^6^ 7 =11 and the difference is 10-11=-1. Therefore, -1 is returned as the output."
   ]
  },
  {
   "cell_type": "code",
   "execution_count": 2,
   "metadata": {},
   "outputs": [
    {
     "name": "stdout",
     "output_type": "stream",
     "text": [
      "-1\n"
     ]
    }
   ],
   "source": [
    "\n",
    "def sum_XOR(arr):\n",
    "  even_sum = 0\n",
    "  odd_sum = 0\n",
    "  for i in range(len(arr)):\n",
    "    if i%2 ==0:\n",
    "      even_sum ^= arr[i]\n",
    "    else:\n",
    "      odd_sum += arr[i]\n",
    "  \n",
    "  return odd_sum - even_sum\n",
    "  pass\n",
    "\n",
    "arr = [10,5,6,3,7,2]\n",
    "print(sum_XOR(arr))"
   ]
  },
  {
   "cell_type": "markdown",
   "metadata": {},
   "source": [
    "# program 118\n",
    "\n",
    "Problem Statement:\n",
    "Noah is given an integer array A of length N. He must perform the following operations on the array :\n",
    "\n",
    "1.Select any integer pair/'s from the array with their sum equal to 18\n",
    "\n",
    "2.From this select the pair with the maximum product such that the first element of the pair is greater than the second element of the pair.\n",
    "\n",
    "Your task is to help Noah find and return a pair in the form of an integer array which satisfies the conditions mentioned.\n",
    "\n",
    "Input Specification :\n",
    "\n",
    "input1 : An integer value N,representing the size of array A.\n",
    "\n",
    "input2 :  An integer array A\n",
    "\n",
    "Output Specification:\n",
    "\n",
    "Return a pair in the form of an integer array which satisfies the conditions mentioned.\n",
    "\n",
    "Example 1:\n",
    "\n",
    "input1: 8\n",
    "\n",
    "input2: 11 1 2 8 10 11 9 8\n",
    "\n",
    "Output: [10,8]"
   ]
  },
  {
   "cell_type": "code",
   "execution_count": 11,
   "metadata": {},
   "outputs": [
    {
     "name": "stdout",
     "output_type": "stream",
     "text": [
      "[10, 8]\n"
     ]
    }
   ],
   "source": [
    "def findMaxProductPair(n,arr):\n",
    "  max_product = 0\n",
    "  pair = None\n",
    "  \n",
    "  for i in range(n):\n",
    "    for j in range(i+1,n):\n",
    "      if arr[i] + arr[j] == 18:\n",
    "        product = arr[i]*arr[j]\n",
    "        if arr[i] > arr[j]:\n",
    "          if product > max_product:\n",
    "            max_product = product\n",
    "            pair = [arr[i],arr[j]]\n",
    "        elif arr[j]>arr[i]:\n",
    "          if product > max_product:\n",
    "            max_product = product\n",
    "            pair = [arr[j],arr[i]]\n",
    "  return pair\n",
    "\n",
    "n = 8\n",
    "array = [11,1,2,8,10,11,9,8]\n",
    "\n",
    "print(findMaxProductPair(n,array))"
   ]
  },
  {
   "cell_type": "markdown",
   "metadata": {},
   "source": [
    "# problem 119"
   ]
  },
  {
   "cell_type": "markdown",
   "metadata": {},
   "source": [
    "Problem Statement:\n",
    "Alex is exploring a series and she came across a special series, in which\n",
    "\n",
    "f(N)=f(N-1)*f(N-1)+f(N-2)*f(N-2) mod 47\n",
    "\n",
    "where f(0) = 1, f(1) = 1\n",
    "\n",
    "Your task is to help Alex find and return an integer value, representing the Nth number in this special series\n",
    "\n",
    "Note: Return the output modulo 47.\n",
    "\n",
    "Input Specification:\n",
    "\n",
    "input1: An integer value N.\n",
    "\n",
    "Output Specification:\n",
    "\n",
    "Return an integer value, representing the Nth number in this special series.\n",
    "\n",
    "Sample Input:\n",
    "\n",
    "4\n",
    "\n",
    "Sample Output:\n",
    "\n",
    "29\n"
   ]
  },
  {
   "cell_type": "code",
   "execution_count": 11,
   "metadata": {},
   "outputs": [
    {
     "name": "stdout",
     "output_type": "stream",
     "text": [
      "29\n"
     ]
    }
   ],
   "source": [
    "\n",
    "\n",
    "def Special_Fibonacci(n):\n",
    "  if n in [0,1]:\n",
    "    return 1\n",
    "  \n",
    "  f = [0]*(n+1)\n",
    "  f[0],f[1] = 1,1\n",
    "  \n",
    "  for i in range(2,n+1):\n",
    "    f[i] =  (f[i-1]*f[i-1]+f[i-2]*f[i-2])%47\n",
    "  \n",
    "  return f[n]\n",
    "\n",
    "n = int(input())\n",
    "print(Special_Fibonacci(n))\n"
   ]
  },
  {
   "cell_type": "markdown",
   "metadata": {},
   "source": [
    "# problem 120\n",
    "\n",
    "Problem Statement:\n",
    "Jan has been given an array A of length N and he wants to find the sum of even positions after reversing the array. Your task is to help him find and return an integer value representing sum of the array elements present at the even positions of the reversed array.\n",
    "\n",
    "Input Specification:\n",
    "\n",
    "input1: A reversed integer array A\n",
    "\n",
    "input2: An integer N, representing length of the array.\n",
    "\n",
    "Output Specification:\n",
    "\n",
    "Return an integer value representing sum of the array elements present at the even positions of the array\n",
    "\n",
    "Example 1:\n",
    "\n",
    "input1: {10,20,30,40,50,60}\n",
    "\n",
    "input2: 6\n",
    "\n",
    "output : 90"
   ]
  },
  {
   "cell_type": "code",
   "execution_count": null,
   "metadata": {},
   "outputs": [
    {
     "name": "stdout",
     "output_type": "stream",
     "text": [
      "90\n"
     ]
    }
   ],
   "source": [
    "n = 6\n",
    "arr = [10,20,30,40,50,60]  \n",
    "\n",
    "summ = 0\n",
    "for i in range(0,n):\n",
    "  if i%2 ==0:\n",
    "    summ += arr[i]\n",
    "\n",
    "print(summ)"
   ]
  },
  {
   "cell_type": "markdown",
   "metadata": {},
   "source": [
    "# problem 121\n",
    "\n",
    "Problem Statement:\n",
    "Bob goes to super market to shop candies represented by an array A for halloween party, his mother gave him some money M. Due to the festive season, there are several offers in the supermarket. One such offer useful for Bob is, if the price of the candy is a multiple of 5, he can buy it without spending any money otherwise he will  Spend money equal to Ai which is the price of a particular candy. Bob can shop as long as he has money. Your task is to find and return the maximum number of candies Bob can buy.\n",
    "\n",
    "Note : Assume 1-based indexing\n",
    "\n",
    "Input Specification:\n",
    "\n",
    "input1: An integer value, representing number of candies.\n",
    "\n",
    "input2: An integer array A, representing price of each candy.\n",
    "\n",
    "input3: An integer value M, representing the amount of money.\n",
    "\n",
    "Output Specification:\n",
    "\n",
    "Return the number of candies Bob can buy.\n",
    "\n",
    "Example 1:\n",
    "\n",
    "input1: 3\n",
    "\n",
    "input2: {5,5,105}\n",
    "\n",
    "input3: 16\n",
    "\n",
    "output : 3\n",
    "\n",
    "\n"
   ]
  },
  {
   "cell_type": "code",
   "execution_count": null,
   "metadata": {},
   "outputs": [
    {
     "name": "stdout",
     "output_type": "stream",
     "text": [
      "3\n"
     ]
    }
   ],
   "source": [
    "\n",
    "\n",
    "def Halloween_Candies(n,arr,m):\n",
    "  divi_5 = sum(1 for i in arr if i%5 == 0)\n",
    "  not_5 = [i for i in arr if i%5 != 0]\n",
    "  \n",
    "  not_5.sort()\n",
    "  result = divi_5\n",
    "  for i in not_5:\n",
    "    if m >= i:\n",
    "      m -= i\n",
    "      result += 1\n",
    "    else:\n",
    "      break\n",
    "  return result\n",
    "\n",
    "\n",
    "# n = int(input())\n",
    "# arr = list(map(int,input().split(\",\")))\n",
    "# m = int(input())\n",
    "\n",
    "n = 3\n",
    "arr = [5,5,105]\n",
    "m = 16\n",
    "print(Halloween_Candies(n,arr,m))\n"
   ]
  },
  {
   "cell_type": "markdown",
   "metadata": {},
   "source": [
    "# problem 122\n",
    "Island Life\n",
    "\n",
    "Problem Statement:\n",
    "You are stuck on an island where they sell and eat coconut sweets only. A person can buy at most 1 box per day with each box containing N pieces. To remain alive you must consume E coconut sweets daily for D days  but the catch is you cant purchase sweets on sundays. Your task is to find and return an integer value representing the minimum number of times you have to buy coconut in order to stay alive. If not possible, return -1.\n",
    "\n",
    "Note: The day starts from Monday\n",
    "\n",
    "Input Specification:\n",
    "\n",
    "input1 : An integer value N. representing the number of coconut sweets per box.\n",
    "\n",
    "input2 : An integer value E. representing the daily need\n",
    "\n",
    "input3 : An integer value D. representing the days on island\n",
    "\n",
    "Output Specification:\n",
    "\n",
    "Return an integer value representing the minimum number of times you have to buy coconut in order to stay alive. if not possible,return -1.\n",
    "\n",
    "Example :\n",
    "\n",
    "input1 : 10\n",
    "\n",
    "input2 : 5\n",
    "\n",
    "input3 : 10\n",
    "\n",
    "output : 5"
   ]
  },
  {
   "cell_type": "code",
   "execution_count": 36,
   "metadata": {},
   "outputs": [
    {
     "name": "stdout",
     "output_type": "stream",
     "text": [
      "5\n"
     ]
    }
   ],
   "source": [
    "\n",
    "import math\n",
    "def min_coconuts(n,e,d):\n",
    "  summ = e*d\n",
    "  buydays = d-(d//7)\n",
    "  maxx = buydays*n\n",
    "  if maxx < summ:\n",
    "    return -1\n",
    "  \n",
    "  return math.ceil(summ/n)\n",
    "\n",
    "n = 10\n",
    "e = 5\n",
    "d = 10\n",
    "\n",
    "# n = int(input())\n",
    "# e = int(input())\n",
    "# d = int(input())\n",
    "\n",
    "print(min_coconuts(n,e,d))"
   ]
  },
  {
   "cell_type": "markdown",
   "metadata": {},
   "source": [
    "# problem 123\n",
    "\n",
    "Name Entry\n",
    "\n",
    "Problem Statement:\n",
    "Your friend has made entry of a name in the form first name F and last name L in your contact list. ButSome letters are in uppercase while others are in lowercase. Your task is to find and return a string representing the names such that the first name of your contact is in lowercase, and the last name of your contact is in uppercase.\n",
    "\n",
    "Input Specification:\n",
    "\n",
    "input1: A string F,representing the first name\n",
    "\n",
    "Input2: A string L, representing the last name\n",
    "\n",
    "Output Specification:\n",
    "\n",
    " Return a string representing the names such that the first name of your contact is in lowercase and the last name of your contact is in uppercase\n"
   ]
  },
  {
   "cell_type": "code",
   "execution_count": 23,
   "metadata": {},
   "outputs": [
    {
     "name": "stdout",
     "output_type": "stream",
     "text": [
      "lokesh NELLLURI\n"
     ]
    }
   ],
   "source": [
    "\n",
    "f = input()\n",
    "l = input()\n",
    "\n",
    "\n",
    "print(f\"{f.lower()} {l.upper()}\")\n",
    "\n"
   ]
  },
  {
   "cell_type": "markdown",
   "metadata": {},
   "source": [
    "# problem 124\n",
    "\n",
    "Problem Statement:\n",
    "You are on a hiking trail represented by an array A of length N. where the trail initially ascends and then descends, forming a single peak. Your task is to find and return an integer value representing the elevation of the summit.\n",
    "\n",
    "Input Specification:\n",
    "\n",
    "Input1: An integer array A\n",
    "\n",
    "Input2: An integer value N denoting the size of A\n",
    "\n",
    "Output Specification:\n",
    "\n",
    "Return an integer value representing the elevation of the summit,"
   ]
  },
  {
   "cell_type": "code",
   "execution_count": 27,
   "metadata": {},
   "outputs": [
    {
     "name": "stdout",
     "output_type": "stream",
     "text": [
      "6\n"
     ]
    }
   ],
   "source": [
    "\n",
    "n = int(input())\n",
    "arr = list(map(int,input().split(\",\")))\n",
    "peak = None\n",
    "\n",
    "for i in range(1,n-1):\n",
    "  if arr[i - 1] < arr[i] > arr[i+1]: \n",
    "    peak = arr[i]\n",
    "    break\n",
    "\n",
    "print(peak)\n"
   ]
  },
  {
   "cell_type": "markdown",
   "metadata": {},
   "source": [
    "# problem 125\n",
    "\n",
    "Problem Statement:\n",
    "You are planning a picnic for a group of friends who love math. To make it interesting, you decided to bring unique numbers of items. N. Your task is to find and return an integer value representing the sum of all the prime numbers till N. In case, the number of items is 0 or 1. return 0.\n",
    "\n",
    "Note: Prime numbers are natural numbers that are divisible by 1 and number itself.\n",
    "\n",
    "Input Specification:\n",
    "\n",
    "input1: An integer value N\n",
    "\n",
    "Output Specification:\n",
    "\n",
    "Return an integer value representing the sum of all prime numbers till N  In case, the number of items is 0 or 1. return 0.\n",
    "\n",
    "Example\n",
    "\n",
    "input1: 3\n",
    "\n",
    "output : 5"
   ]
  },
  {
   "cell_type": "code",
   "execution_count": 33,
   "metadata": {},
   "outputs": [
    {
     "name": "stdout",
     "output_type": "stream",
     "text": [
      "5\n"
     ]
    }
   ],
   "source": [
    "n = int(input())\n",
    "\n",
    "def isprime(x):\n",
    "  for i in range(2,x//2+1):\n",
    "    if x%i == 0:\n",
    "      return False\n",
    "  return True\n",
    "\n",
    "result = 0\n",
    "\n",
    "for i in range(2,n+1): result += i if isprime(i) else 0\n",
    "\n",
    "print(result)"
   ]
  },
  {
   "cell_type": "markdown",
   "metadata": {},
   "source": [
    "# problem 126\n",
    "\n",
    "Problem Statement:\n",
    "In a tech startup, the team faced a software bug - the zeros in their data outputs were causing their system to crash. A junior developer suggested replacing all the O's with 5's as quick fix. By implementing this simple code tweak, they stabilized the system. Your task is to find and return an integer value representing the value that stabilizes the system\n",
    "\n",
    "Input Specification:\n",
    "\n",
    "Input1: An integer value\n",
    "\n",
    "Output Specification:\n",
    "\n",
    "Return an integer value representing the value that stabilizes the system.\n",
    "\n",
    "Example 1:\n",
    "\n",
    "input1: 100067\n",
    "\n",
    "Output: 155567\n"
   ]
  },
  {
   "cell_type": "code",
   "execution_count": 44,
   "metadata": {},
   "outputs": [
    {
     "name": "stdout",
     "output_type": "stream",
     "text": [
      "15595\n"
     ]
    }
   ],
   "source": [
    "# n = input()\n",
    "n = \"10090\"\n",
    "\n",
    "aa = list(n)\n",
    "\n",
    "for i in range(len(aa)):\n",
    "  if aa[i] == '0':\n",
    "    aa[i] = \"5\"\n",
    "\n",
    "\n",
    "print(\"\".join(aa))"
   ]
  },
  {
   "cell_type": "markdown",
   "metadata": {},
   "source": [
    "# problem 127\n",
    "\n",
    "Problem Statement:\n",
    "You are given an integer array A of length N and your task is to find and return an integer value representing the count of unique pairs whose products are multiples of 3.\n",
    "\n",
    "Note: A Unique pair means that the elements must be the some regardless of their order. For instance, (1.3) and (3.1) are considered as the same pair\n",
    "\n",
    "Input Specification:\n",
    "\n",
    "Input1: An integer value N, representing the size of the array\n",
    "\n",
    "Input2: An integer array A\n"
   ]
  },
  {
   "cell_type": "code",
   "execution_count": 45,
   "metadata": {},
   "outputs": [
    {
     "name": "stdout",
     "output_type": "stream",
     "text": [
      "13\n"
     ]
    }
   ],
   "source": [
    "# n = int(input())\n",
    "# arr = list(map(int,input().split(\",\")))\n",
    "\n",
    "def pairs(n,arr):\n",
    "  ar = set(arr)\n",
    "  listt = list(ar)\n",
    "  count = 0\n",
    "  for i in range(len(listt)):\n",
    "    for j in range(i+1,len(listt)):\n",
    "      if (arr[i]%3 == 0) or (arr[j]%3 == 0):\n",
    "        count += 1\n",
    "  \n",
    "  return count\n",
    "\n",
    "n = 7\n",
    "arr = [1,9,5,4,7,8,44,3]\n",
    "\n",
    "print(pairs(n,arr))\n",
    "  \n",
    "  "
   ]
  },
  {
   "cell_type": "markdown",
   "metadata": {},
   "source": [
    "# problem 128\n",
    "\n",
    "Chocolate jar\n",
    "\n",
    "Problem Statement:\n",
    "You are given an integer array of size N, representing jars of chocolates. Three students A, B, and C respectively, will pick chocolates one by one from each chocolate jar, till the jar is empty, and then repeat the same with the rest of the jars. Your task is to fine and return an integer value representing the total number of chocolates that student A will have, after all the chocolates have been picked from all the jars.\n",
    "\n",
    "Note: Once a jar is done A will start taking the chocolates from the new jar.\n",
    "\n",
    "Input Format :\n",
    "\n",
    "input1: An integer value N representing the number of jars.\n",
    "\n",
    "input2: An integer array representing the quantity of chocolates in each jar.\n",
    "\n",
    "Output Format:\n",
    "\n",
    "Return an integer value representing the total number of chocolates that student A will have, after all the chocolates are picked.\n",
    "\n",
    "Example:\n",
    "\n",
    "Input:\n",
    "\n",
    "3\n",
    "\n",
    "10 20 30\n",
    "\n",
    "Output: \n",
    "\n",
    "21\n",
    "\n",
    "Explanation:\n",
    "\n",
    "Jar 1: 10 chocolates -> A-4, B-3,C-3\n",
    "\n",
    "Jar 2: 20 chocolates -> A-7, B-7, C-6\n",
    "\n",
    "Jar 3: 30 chocolates -> A-10, B-10,C-10\n",
    "\n",
    "so A gets a total of 4+7+10=21 chocolates."
   ]
  },
  {
   "cell_type": "code",
   "execution_count": 46,
   "metadata": {},
   "outputs": [
    {
     "name": "stdout",
     "output_type": "stream",
     "text": [
      "21\n"
     ]
    }
   ],
   "source": [
    "n = 3\n",
    "choco = [10,20,30]\n",
    "\n",
    "a_chocc = 0\n",
    "\n",
    "for i in choco:\n",
    "  a_chocc += (i+2)//3\n",
    "\n",
    "print(a_chocc)"
   ]
  },
  {
   "cell_type": "markdown",
   "metadata": {},
   "source": [
    "# problem 129\n",
    "\n",
    "Financial Dataset\n",
    "\n",
    "Problem Statement:\n",
    "You are working on a financial analyzing tool which represents the daily stock prices of a company over a time. Each element in an integer array A of size N represents the closing price of the stock for a particular day. Your task is to find and return an integer value  representing the total number of days where the stock price decreased indicating negative growth\n",
    "\n",
    "Input Specifications :\n",
    "\n",
    "Input 1: An integer array containing the closing price of the stock.\n",
    "\n",
    "Input 2: An integer value N representing the size of array\n",
    "\n",
    "Output Specification:\n",
    "\n",
    "Return an integer value representing the total number of days where the stock price decreased, indicating negative growth\n",
    "\n",
    "Example 1:\n",
    "\n",
    "Input 1: {3,14,6,4-9,13,-12}\n",
    "\n",
    "Input2 : 7\n",
    "\n",
    "Output: 2"
   ]
  },
  {
   "cell_type": "code",
   "execution_count": null,
   "metadata": {},
   "outputs": [
    {
     "name": "stdout",
     "output_type": "stream",
     "text": [
      "3\n"
     ]
    }
   ],
   "source": [
    "# n = int(input())\n",
    "# arr = list(map(int,input().split(\",\")))\n",
    "\n",
    "n = 7\n",
    "arr = [3,14,6,4,-9,13,-12]\n",
    "\n",
    "\n",
    "result = 0\n",
    "\n",
    "for i in arr:\n",
    "  if i < 0:\n",
    "    result += 1\n",
    "\n",
    "print(result)\n"
   ]
  },
  {
   "cell_type": "markdown",
   "metadata": {},
   "source": [
    "# problem 130\n",
    "\n",
    "Magical Number\n",
    "\n",
    "Problem Statement:\n",
    "You are given a program to find the count of magical numbers from 1 to N. A magical number is defined by the following criteria:\n",
    "\n",
    "1.Convert each number in the range 1 to N (inclusive) to its binary representation.\n",
    "\n",
    "2. Replace \"0\" with \"1\" and \"1\" with \"2\" in the binary String.\n",
    "\n",
    "3.Calculate the sum of the digits in the modified binary string. If the resultant number is odd then it is considered a magical number.\n",
    "\n",
    "Your  task is to find and return an integer value representing the count of the magical numbers present within the given range.\n",
    "\n",
    "Input Specification:\n",
    "\n",
    "Input1: An integer value N representing the range of numbers.\n",
    "\n",
    "Output Specifications :\n",
    "\n",
    " Return an integer value representing the count of magical numbers present within the range.\n",
    "\n",
    "Example 1:\n",
    "\n",
    "input1:2\n",
    "\n",
    "Output: 1\n",
    "\n",
    "Explanation:\n",
    "\n",
    "Here the given number is 2. We can find the magic numbers in the following manner:\n",
    "\n",
    "1 :1 after replacing 1 with 2 the sum becomes 2,which is even\n",
    "\n",
    "2:10 after replacing 1 with 2 the sum becomes 3,which is odd\n",
    "\n",
    "Since there is 1 odd sum present, 1 is returned as output."
   ]
  },
  {
   "cell_type": "code",
   "execution_count": null,
   "metadata": {},
   "outputs": [
    {
     "name": "stdout",
     "output_type": "stream",
     "text": [
      "3\n"
     ]
    }
   ],
   "source": [
    "\n",
    "# n = int(input())\n",
    "\n",
    "n = 5\n",
    "result = 0\n",
    "for i in range(1,n+1):\n",
    "  if bin(i).count(\"0\")%2 == 0:\n",
    "    result +=1 \n",
    "    \n",
    "print(result)\n",
    "\n",
    "\n"
   ]
  },
  {
   "cell_type": "markdown",
   "metadata": {},
   "source": [
    "# problem 131\n",
    "\n",
    "Canopy Area\n",
    "\n",
    "Problem Statement:\n",
    "You are developing a feature for an environmental awareness app that helps users to know how much area their tree's shadow covers. You have the distance D from a tree's trunk to the edge of the shadow. Your task is to calculate and return an integer value representing the shadow area of the canopy.\n",
    "\n",
    "Note- Round off the result to nearest integer\n",
    "\n",
    "Input Specification:\n",
    "\n",
    "Input1: An integer value D. representing the distance from the tree trunks to the edge of shadow\n",
    "\n",
    "Output Specification:\n",
    "\n",
    "Return an integer value representing the shadow area of the canopy\n",
    "\n",
    "Example 1:\n",
    "\n",
    "Input1: 5\n",
    "\n",
    "Output: 79\n",
    "\n",
    "Explanation:\n",
    "\n",
    "Here D =5 .So area of the canopy would be 3.14 * 5 * 5=78.5 Therefore, 79 will be returned as output\n",
    "\n"
   ]
  },
  {
   "cell_type": "code",
   "execution_count": 8,
   "metadata": {},
   "outputs": [
    {
     "name": "stdout",
     "output_type": "stream",
     "text": [
      "3\n"
     ]
    }
   ],
   "source": [
    "inp = \"abc.c.bb\"\n",
    "\n",
    "c = 0\n",
    "\n",
    "arr = inp.split(\".\")\n",
    "for i in arr:\n",
    "  if len(i) > c:\n",
    "    c = len(i)\n",
    "\n",
    "print(c)"
   ]
  },
  {
   "cell_type": "code",
   "execution_count": 2,
   "metadata": {},
   "outputs": [
    {
     "name": "stdout",
     "output_type": "stream",
     "text": [
      "79\n"
     ]
    }
   ],
   "source": [
    "import math\n",
    "# n = int(input())\n",
    "n = 5\n",
    "def areas(n):\n",
    "  return round(math.pi*5*5)\n",
    "\n",
    "print(areas(n))\n",
    "\n"
   ]
  },
  {
   "cell_type": "markdown",
   "metadata": {},
   "source": [
    "# problem 132\n",
    "\n",
    "Poet and Rhymes\n",
    "\n",
    "\n",
    "Problem Statement:\n",
    "A poet has asked you for assistance in writing poems. He has given you a string S and a dictionary D and he asks you to find, from the dictionary, a word which rhymes best with S. Words are said to rhyme when the last syllables of the words are the same, like \"cave\" and \"gave\", or \"typical\" and \"critical.\" The words will be deemed to rhyme best if the last few characters of the words match the most.\n",
    "\n",
    "Your task is to find and return a string value denoting the word which rhymes best with 5, from the dictionary D. If no such word is found, return the string \"No Word\"\n",
    "\n",
    "Note\n",
    "\n",
    "1.If all the characters match, it is the same word and not a rhyming word\n",
    "\n",
    "2.All the given words are in lowercase\n",
    "\n",
    "3.if multiple rhyming words are found then choose the word with the least index\n",
    "\n",
    "Input Specification:\n",
    "\n",
    "Input1: A string value s, representing a single word\n",
    "\n",
    "Input2: A string array D, representing the dictionary\n",
    "\n",
    "Input3: An integer value representing the length of array D\n",
    "\n",
    "Output Specification:\n",
    "\n",
    "Return a string value denoting the word which rhymes best with S from the dictionary D. if no such word is found return the string \"No Word\"."
   ]
  },
  {
   "cell_type": "code",
   "execution_count": 1,
   "metadata": {},
   "outputs": [
    {
     "name": "stdout",
     "output_type": "stream",
     "text": [
      "gave\n"
     ]
    }
   ],
   "source": [
    "# n = input()\n",
    "# d = list(input().split(\",\"))\n",
    "\n",
    "# n = int(input())\n",
    "\n",
    "target = \"cave\"\n",
    "dic = [\"gave\", \"wave\", \"cave\", \"save\", \"rave\"]\n",
    "n = 5\n",
    "\n",
    "ans = \"\"\n",
    "for i in range(n):\n",
    "  if target[-1:-3:-1] == dic[i][-1:-3:-1] and target != dic[i]:\n",
    "    ans += dic[i]\n",
    "    break\n",
    "\n",
    "if not ans:\n",
    "  print(\"No Word\")\n",
    "else:\n",
    "  print(ans)\n"
   ]
  },
  {
   "cell_type": "code",
   "execution_count": null,
   "metadata": {},
   "outputs": [
    {
     "name": "stdout",
     "output_type": "stream",
     "text": [
      "gave\n"
     ]
    }
   ],
   "source": []
  },
  {
   "cell_type": "markdown",
   "metadata": {},
   "source": [
    "# problem 133\n",
    "\n",
    "File Version\n",
    "\n",
    "Problem Statement:\n",
    "You are given a string array S that contains the names of some files along with their versions Your task is to find and return an integer value representing the latest version out of all the files that are correctly named in the array. A file is considered correct if it follows the format of the file named as \"File_X\"(where X represents the file version number). Return -1 if there are no Correct files in the array\n",
    "\n",
    "Note :\n",
    "\n",
    "1.A file is incorrect of the name of the file does not match the format\n",
    "\n",
    "2.if there is  no file in the files array then also return -1.\n",
    "\n",
    "Input Specification:\n",
    "\n",
    "input1: A string array S, representing the names of the flies\n",
    "\n",
    "Input2: An integer value representing the size of the array\n",
    "\n",
    "Output Specification:\n",
    "\n",
    "Return an integer value representing the latest version out of all the files that are correctly named in the array\n",
    "\n",
    "Example 1:\n",
    "\n",
    "Input1: {File_1, File_3,File_2}\n",
    "\n",
    "input2: 3\n",
    "\n",
    "Output: 3"
   ]
  },
  {
   "cell_type": "code",
   "execution_count": 18,
   "metadata": {},
   "outputs": [
    {
     "name": "stdout",
     "output_type": "stream",
     "text": [
      "3\n"
     ]
    }
   ],
   "source": [
    "\n",
    "# f = list(input().spilt(\",\"))\n",
    "# n = int(input())\n",
    "\n",
    "f = [\"File_1\", \"File_3\",\"File_4\"]\n",
    "n = 4\n",
    "count = 0\n",
    "for i in f:\n",
    "  if \"_\" in i:\n",
    "    indexx = i.index(\"_\")\n",
    "    if i[indexx+1:].isdigit():\n",
    "      count += 1\n",
    "\n",
    "\n",
    "if count == 0:\n",
    "  count = -1\n",
    "\n",
    "print(count)\n"
   ]
  },
  {
   "cell_type": "markdown",
   "metadata": {},
   "source": [
    "# problem 134\n",
    "\n",
    "Maximum Permutation Value\n",
    "\n",
    "Problem Statement:\n",
    "You are given a string of length N. Your task is to find and return an integer value representing the maximum permutation count of the strings after removing all the vowels from every element in  the string array.\n",
    "\n",
    "Note :\n",
    "\n",
    "1. Consider all the letters in strings as different if the word is \"doll\" then consider each l's as different.\n",
    "\n",
    "2. if there are no permutable characters then return 0.\n",
    "\n",
    "3. String contains of both uppercase and lowercase letters.\n",
    "\n",
    "Input Specification :\n",
    "\n",
    "input1 : A string array of length N\n",
    "\n",
    "input2 :  A integer N representing the size of the string array\n",
    "\n",
    "Output Specification :\n",
    "\n",
    "Return an integer value representing maximum permutation count of string elements\n",
    "\n",
    "Example 1\n",
    "\n",
    "input1  : {hello,aaeiou,ccbc}\n",
    "\n",
    "input2: 3\n",
    "\n",
    "Output : 24"
   ]
  },
  {
   "cell_type": "code",
   "execution_count": null,
   "metadata": {},
   "outputs": [
    {
     "name": "stdout",
     "output_type": "stream",
     "text": [
      "24\n"
     ]
    }
   ],
   "source": [
    "import math\n",
    "\n",
    "input1 = [\"hello\", \"aaeiou\", \"ccbc\"]\n",
    "input2 = 3\n",
    "\n",
    "def fib(n):\n",
    "    if n<3:\n",
    "        return n\n",
    "    return n*fib(n-1)\n",
    "\n",
    "\n",
    "# Example usage\n",
    "\n",
    "vowels = \"aeiou\"\n",
    "result = 0\n",
    "\n",
    "for i in input1:\n",
    "    c = 0\n",
    "    for j in i.lower():\n",
    "        if j not in vowels: \n",
    "            c += 1\n",
    "    p = fib(c)\n",
    "    result = max(p,result)\n",
    "\n",
    "print(result)\n"
   ]
  },
  {
   "cell_type": "markdown",
   "metadata": {},
   "source": [
    "# problem 135\n",
    "\n",
    "Refueling Vehicles\n",
    "\n",
    "Problem Statement:\n",
    "You are incharge of a convoy of N vehicles, each with fuel meter which shows the fuel present in each vehicle in litres. Each vehicles need to travel a distance of X kilometers if the fuel becomes empty before reaching X kilometers the vehicle can refuel but the refueling will be of X litres and if the vehicles completes the X kilometers where fuel is left over then the extra fuel will be given to the next vehicle in the convoy. You must rearrange the convoy such that the vehicles take minimum refueling stops.\n",
    "\n",
    "Your task is to find and return an integer value representing the minimum number of refueling stops required by the convoy of vehicles\n",
    "\n",
    "Note :\n",
    "\n",
    "1.The vehicle can go 1 kilometre in a single litre.\n",
    "\n",
    "2.The refueling at any point of time will be for X litres only\n",
    "\n",
    "Input Specification :\n",
    "\n",
    "Input1: An integer value X representing the distance to be traveled\n",
    "\n",
    "Input2: An integer value N. representing the number of vehicles in the convoy\n",
    "\n",
    "input3: An Array fuel_Level. representing the fuel levels in each vehicle\n",
    "\n",
    "Output Specification :\n",
    "\n",
    "return an integer value representing the minimum number of refueling stops required by the convoy of vehicles\n",
    "\n",
    "Example :\n",
    "\n",
    "Input1: 10\n",
    "\n",
    "Input2: 5\n",
    "\n",
    "input3: [8, 12, 5, 7, 15]\n",
    "\n",
    "Output : 1\n",
    "\n"
   ]
  },
  {
   "cell_type": "code",
   "execution_count": 11,
   "metadata": {},
   "outputs": [
    {
     "name": "stdout",
     "output_type": "stream",
     "text": [
      "1\n"
     ]
    }
   ],
   "source": [
    "\n",
    "n1 = 10\n",
    "n2 = 5\n",
    "arr = [8,12,5,7,15]\n",
    "\n",
    "arr.sort(reverse=True)\n",
    "\n",
    "fuel = 0\n",
    "rem = 0\n",
    "for i in arr:\n",
    "  i += rem\n",
    "  if i < n1:\n",
    "    fuel += 1\n",
    "  else:\n",
    "    rem = i-n1\n",
    "print(fuel)\n"
   ]
  },
  {
   "cell_type": "markdown",
   "metadata": {},
   "source": [
    "# problem 136\n",
    "\n",
    "Rock, Paper, Scissors\n",
    "\n",
    "Problem Statement:\n",
    "Two players. A and B are playing the game of Rock, Paper, Scissors Player A chooses a move represented by a string value M and the move can be one of the following 'rock','paper', or'scissors' where\n",
    "\n",
    "rock beats scissors \n",
    "\n",
    "scissors beats paper\n",
    "\n",
    "paper beats rock\n",
    "\n",
    "Your task is to find and return a string value representing the winning move for Player B\n",
    "\n",
    "Note: The output is  case sensitive.\n",
    "\n",
    "Input Specification:\n",
    "\n",
    "Input: A string value representing the move chosen by Player A.\n",
    "\n",
    "Output : return a string value representing the winning move for Player B\n",
    "\n",
    "Example :\n",
    "\n",
    "input : rock\n",
    "\n",
    "output : paper"
   ]
  },
  {
   "cell_type": "code",
   "execution_count": 12,
   "metadata": {},
   "outputs": [
    {
     "name": "stdout",
     "output_type": "stream",
     "text": [
      "paper\n"
     ]
    }
   ],
   "source": [
    "s = \"rock\"\n",
    "# s = input()\n",
    "if s == \"rock\":\n",
    "  print(\"paper\")\n",
    "elif s == \"paper\":\n",
    "  print(\"scissor\")\n",
    "else:\n",
    "  print(\"rock\")"
   ]
  },
  {
   "cell_type": "markdown",
   "metadata": {},
   "source": [
    "# problem 137\n",
    "\n",
    "Arctic Temperature Tracker\n",
    "\n",
    "Problem Statement:\n",
    "You are leading an Arctic expedition and need to closely monitor the temperature to ensure the safety of your team. Your tracker has records of the daily temperatures (in Celsius) for each day of your expedition in the form of an array A. Your task is to find and return the longest consecutive period (in days) where the temperature drops for at least 3 days\n",
    "\n",
    "Input Specification:\n",
    "\n",
    "\n",
    "input1: An integer value, representing the size of the array.\n",
    "\n",
    "input2: An integer array A, representing the temperature for each day\n",
    "\n",
    "\n",
    "\n",
    "Output Specification:\n",
    "\n",
    "Longest consecutive period (in days) where the temperature drops for at least 3 days if the period is less than 3 days return 0.\n",
    "\n",
    "\n",
    "\n",
    "Example:\n",
    "\n",
    "Input:\n",
    "\n",
    "7\n",
    "\n",
    "10 5 4 3 6 5 4\n",
    "Explanation:\n",
    "There is a valid drop from day 1 to day 3 (10 -> 5 -> 4 -> 3). After day 4, the temperature rises. The longest drop period is 4 days.\n",
    "\n",
    "Expected Output:\n",
    "\n",
    "4"
   ]
  },
  {
   "cell_type": "code",
   "execution_count": 2,
   "metadata": {},
   "outputs": [
    {
     "name": "stdout",
     "output_type": "stream",
     "text": [
      "4\n"
     ]
    }
   ],
   "source": [
    "# n = int(input())\n",
    "# t = list(map(int,input().split()))\n",
    "\n",
    "n = 7\n",
    "t = [10,5,4,3,6,5,4]\n",
    "ans,c = 0,1\n",
    "\n",
    "for i in range(1,n):\n",
    "  if t[i] < t[i-1]:\n",
    "    c+= 1\n",
    "  else:\n",
    "    ans = max(ans,c)\n",
    "    c = 1\n",
    "\n",
    "ans = max(ans,c)\n",
    "if ans < 3:\n",
    "  print(0)\n",
    "else:\n",
    "  print(ans)"
   ]
  },
  {
   "cell_type": "markdown",
   "metadata": {},
   "source": [
    "# problem 138\n",
    "\n",
    "White Space Difference\n",
    "\n",
    "Problem Statement:\n",
    "You are given 2 strings A and B. Your task is to find and return a string saying 'Even' if the value representing the absolute differences between the number of whitespaces in both the strings is divisible by 2 else 'Odd' if the value representing absolute differences between the number of whitespaces in both the strings the whitespace is not divisible by 2 along with the difference value.\n",
    "\n",
    "Input Specification:\n",
    "\n",
    "input1: A string A\n",
    "\n",
    "input2: A string B\n",
    "\n",
    "Output Specification:\n",
    "\n",
    "Return a string saying 'Even' if the value representing the absolute differences between the number of whitespaces in both the strings is divisible by 2 else Odd if the value representing the absolute differences between the number of whitespaces in both the strings the whitespace is not divisible by 2. \n",
    "\n",
    "Example:\n",
    "\n",
    "input1: \"H e l l o World\"\n",
    "\n",
    "input2: \"Hello World\"\n",
    "\n",
    "Output: Even4 "
   ]
  },
  {
   "cell_type": "code",
   "execution_count": 6,
   "metadata": {},
   "outputs": [
    {
     "name": "stdout",
     "output_type": "stream",
     "text": [
      "Even4\n"
     ]
    }
   ],
   "source": [
    "\n",
    "# s = input()\n",
    "# r = input()\n",
    "\n",
    "s = \"H e l l o World\"\n",
    "r = \"Hello World\"\n",
    "\n",
    "ressult = abs(s.count(\" \") - r.count(\" \"))\n",
    "\n",
    "if ressult%2:\n",
    "  print(\"odd\"+str(ressult))\n",
    "else:\n",
    "  print(\"Even\"+str(ressult))\n",
    "  \n",
    "\n"
   ]
  },
  {
   "cell_type": "markdown",
   "metadata": {},
   "source": [
    "# problem 139\n",
    "\n",
    "Vowel Permutation\n",
    "\n",
    "Problem Statement:\n",
    "You are given a string S and your task is to find and return the count of permutations formed by fixing the positions of the vowels present in the string.\n",
    "\n",
    "Note:\n",
    "\n",
    "Ensure the result is non-negative. \n",
    "\n",
    "If there are no consonents then return 0.\n",
    "\n",
    "Input Specification:\n",
    "\n",
    "input1: A string S\n",
    "\n",
    "Output Specification:\n",
    "\n",
    "Return an integer value representing the count of permutations formed by fixing the positions of the vowels present in the string. Example: \n",
    "\n",
    "Input:\n",
    "\n",
    "ABCdRT\n",
    "\n",
    "Output:\n",
    "\n",
    "120\n",
    "\n",
    "Explanation:\n",
    "\n",
    "The no of consonants in the string is 5. So the permutations are 5!=120 "
   ]
  },
  {
   "cell_type": "code",
   "execution_count": null,
   "metadata": {},
   "outputs": [
    {
     "name": "stdout",
     "output_type": "stream",
     "text": [
      "120\n"
     ]
    }
   ],
   "source": [
    "\n",
    "def fib(n):\n",
    "  if n < 3:\n",
    "    return n\n",
    "  return n * fib(n - 1)\n",
    "\n",
    "# string = input()\n",
    "string = \"ABCdRT\"\n",
    "vowels = \"aeiou\"\n",
    "count = 0\n",
    "\n",
    "for i in string:\n",
    "  \n",
    "  if i.lower() not in vowels:\n",
    "    count += 1\n",
    "\n",
    "print(fib(count))"
   ]
  },
  {
   "cell_type": "markdown",
   "metadata": {},
   "source": [
    "# problem 140\n",
    "\n",
    "Lower Case Count\n",
    "\n",
    "Problem Statement:\n",
    "Lewis is given a string S of length N. He likes lowercase letters more than the uppercase letters and wants to find their count. Your task is to help him find and return a string representing the lowercase letters and the total count.\n",
    "\n",
    "Input Specification:\n",
    "\n",
    "\n",
    "input1: An integer N, representing the length of string\n",
    "\n",
    "input2: A string S\n",
    "\n",
    "\n",
    "\n",
    "Output Specification: \n",
    "\n",
    "Return a string representing the lowercase letters and the total count.\n",
    "\n",
    "Example 1:\n",
    "\n",
    "\n",
    "input1: 37\n",
    "\n",
    "input2: This is A Test STRING with Lower Case\n",
    "\n",
    "Output:\n",
    "\n",
    "hisisestwithowerase:19"
   ]
  },
  {
   "cell_type": "code",
   "execution_count": 22,
   "metadata": {},
   "outputs": [
    {
     "name": "stdout",
     "output_type": "stream",
     "text": [
      "hisisestwithowerase:19\n"
     ]
    }
   ],
   "source": [
    "\n",
    "# n = int(input())\n",
    "# string = input()\n",
    "\n",
    "n = 37\n",
    "string = \"This is A Test STRING with Lower Case\"\n",
    "\n",
    "count = 0\n",
    "letters = \"\"\n",
    "\n",
    "for i in string:\n",
    "  if i.islower():\n",
    "    count += 1\n",
    "    letters += i\n",
    "\n",
    "print(letters+\":\"+str(count))\n"
   ]
  },
  {
   "cell_type": "markdown",
   "metadata": {},
   "source": [
    "# problem 141\n",
    "\n",
    "Second Occurence\n",
    "\n",
    "Problem Statement:\n",
    "Charles is given an array A. He wants to find the count of occurrence of second largest element in the array. Your task is to help him find and retum an integer value representing the count of occurrence of the second largest element in an array.\n",
    "\n",
    "Note:\n",
    "\n",
    "if the array contains the samee elements, then return 0\n",
    "The array has only consecutive elements\n",
    "Input Specification:\n",
    "\n",
    "input1: An integer N, representing length of array.\n",
    "\n",
    "input2: An integer array A\n",
    "\n",
    "Example:\n",
    "\n",
    "Input:\n",
    "\n",
    "5\n",
    "\n",
    "1 2 3 4 5\n",
    "\n",
    "Output:\n",
    "\n",
    "1\n",
    "\n",
    "\n",
    "\n",
    "Input:\n",
    "\n",
    "4\n",
    "\n",
    "5 5 5 5\n",
    "\n",
    "Output:\n",
    "\n",
    "0"
   ]
  },
  {
   "cell_type": "code",
   "execution_count": 19,
   "metadata": {},
   "outputs": [
    {
     "name": "stdout",
     "output_type": "stream",
     "text": [
      "0\n"
     ]
    }
   ],
   "source": [
    "\n",
    "# n = int(input())\n",
    "# arr = list(map(int,input().split()))\n",
    "\n",
    "n = 4\n",
    "arr = [5,5,5,5]\n",
    "s,l = 0,arr[0]\n",
    "for i in range(1,n):\n",
    "  if arr[i]>l:\n",
    "    s = l\n",
    "    l = arr[i]\n",
    "  elif arr[i] > s and arr[i] != l:\n",
    "    s = arr[i]\n",
    "\n",
    "print(arr.count(s))"
   ]
  },
  {
   "cell_type": "code",
   "execution_count": 4,
   "metadata": {},
   "outputs": [
    {
     "name": "stdout",
     "output_type": "stream",
     "text": [
      "5\n"
     ]
    }
   ],
   "source": [
    "n1 = [1,2,3,4,5,20]\n",
    "n2 = 3\n",
    "n3 = 5\n",
    "n4 = 5\n",
    "n5 = len(n1)\n",
    "\n",
    "divi = n2*n3+n4\n",
    "for i in range(len(n1)):\n",
    "  if n1[i] == divi:\n",
    "    print(i)\n",
    "    break\n",
    "else:\n",
    "  print(-1)\n",
    "\n"
   ]
  },
  {
   "cell_type": "code",
   "execution_count": null,
   "metadata": {},
   "outputs": [],
   "source": []
  },
  {
   "cell_type": "code",
   "execution_count": null,
   "metadata": {},
   "outputs": [],
   "source": []
  },
  {
   "cell_type": "code",
   "execution_count": null,
   "metadata": {},
   "outputs": [],
   "source": []
  },
  {
   "cell_type": "code",
   "execution_count": null,
   "metadata": {},
   "outputs": [],
   "source": []
  },
  {
   "cell_type": "code",
   "execution_count": null,
   "metadata": {},
   "outputs": [],
   "source": []
  }
 ],
 "metadata": {
  "kernelspec": {
   "display_name": "Python 3",
   "language": "python",
   "name": "python3"
  },
  "language_info": {
   "codemirror_mode": {
    "name": "ipython",
    "version": 3
   },
   "file_extension": ".py",
   "mimetype": "text/x-python",
   "name": "python",
   "nbconvert_exporter": "python",
   "pygments_lexer": "ipython3",
   "version": "3.12.2"
  }
 },
 "nbformat": 4,
 "nbformat_minor": 2
}
